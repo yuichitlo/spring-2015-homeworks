{
 "metadata": {
  "name": "",
  "signature": "sha256:3fb22025d7fe2770680aeddbf2b312beca9ed2930a28229c0ae84d1ba3be76f6"
 },
 "nbformat": 3,
 "nbformat_minor": 0,
 "worksheets": [
  {
   "cells": [
    {
     "cell_type": "markdown",
     "metadata": {},
     "source": [
      "(In order to load the stylesheet of this notebook, execute the last code cell in this notebook)"
     ]
    },
    {
     "cell_type": "heading",
     "level": 1,
     "metadata": {},
     "source": [
      "Analyzing hotel ratings on Tripadvisor"
     ]
    },
    {
     "cell_type": "markdown",
     "metadata": {},
     "source": [
      "In this homework we will focus on practicing two techniques: web scraping and regression. For the first part, we will build upon the sample code from the Lecture and attempt to get some basic information for each hotel. Then, we will fit a regression model on this information and try to analyze it.   "
     ]
    },
    {
     "cell_type": "markdown",
     "metadata": {},
     "source": [
      "One of the main disadvantages of scraping a website instead of using an API is that, without any notice, the website may change its layout and render our code useless. Something like that happened in our case. Tripadvisor changed the layout of the buttons that we use to navigate between the different pages of the results. This was the main reason people were having problem with executing the code."
     ]
    },
    {
     "cell_type": "markdown",
     "metadata": {},
     "source": [
      "**Task 1 (20 pts)**\n",
      "\n",
      "The first task of the homework is to fix the scraping code. We basically need to replace the part where we are checking if there is another page and getting its link with new code that reflects the new navigation layout. "
     ]
    },
    {
     "cell_type": "markdown",
     "metadata": {},
     "source": [
      "** Task 2 (30 pts)**\n",
      "\n",
      "Then, for each hotel that our search returns, we will \"click\" (with the code of course) on it and scrape the information below.\n",
      "\n",
      "![Information to be scraped](hotel_info.png)\n",
      "\n",
      "Of course, feel free to collect even more data if you want. "
     ]
    },
    {
     "cell_type": "markdown",
     "metadata": {},
     "source": [
      "In order to use code from a Python script file, we need to put that file in the same folder as the notebook and import it as a library. Then, we will be able to access it's functions. For example, in the case of the lecture code, we could do the following:\n",
      "\n",
      "``` python\n",
      "import scrape_solution as scrape\n",
      "\n",
      "scrape.get_city_page()\n",
      "```\n",
      "\n",
      "Of course, you might need to modify and restructure the code so that it returns what you need."
     ]
    },
    {
     "cell_type": "markdown",
     "metadata": {},
     "source": [
      "----"
     ]
    },
    {
     "cell_type": "code",
     "collapsed": false,
     "input": [
      "import scrape_solution as scrape\n",
      "\n",
      "import pandas as pd\n",
      "import numpy as np\n",
      "import matplotlib.pyplot as plt\n",
      "import sklearn.utils as utils\n",
      "import sklearn.linear_model as linear_model\n",
      "import sklearn.cross_validation as cross_validation\n",
      "from sklearn.preprocessing import normalize\n",
      "import sklearn.metrics as metrics\n",
      "import statsmodels.api as sm\n",
      "from sklearn.preprocessing import StandardScaler\n",
      "%matplotlib inline"
     ],
     "language": "python",
     "metadata": {},
     "outputs": [],
     "prompt_number": 409
    },
    {
     "cell_type": "code",
     "collapsed": false,
     "input": [
      "reload(scrape)"
     ],
     "language": "python",
     "metadata": {},
     "outputs": [
      {
       "metadata": {},
       "output_type": "pyout",
       "prompt_number": 593,
       "text": [
        "<module 'scrape_solution' from 'scrape_solution.py'>"
       ]
      }
     ],
     "prompt_number": 593
    },
    {
     "cell_type": "markdown",
     "metadata": {},
     "source": [
      "Using the methods in scrape - scrape_hotels saves the HTML files for all the pages in the hotel directory for a given city and parse_hotellist_pages parses through the directory to request each hotel page and scrapes and saves its review data into city-specific csv files."
     ]
    },
    {
     "cell_type": "code",
     "collapsed": false,
     "input": [
      "scrape.scrape_hotels(\"Boston\", \"MA\", \"data/\")"
     ],
     "language": "python",
     "metadata": {},
     "outputs": [],
     "prompt_number": 340
    },
    {
     "cell_type": "code",
     "collapsed": false,
     "input": [
      "scrape.parse_hotellist_pages(\"Boston\", \"data/\")"
     ],
     "language": "python",
     "metadata": {},
     "outputs": [
      {
       "output_type": "stream",
       "stream": "stderr",
       "text": [
        "[2015-04-06 23:34:24,128] data/Boston-hotelist-1.html\n"
       ]
      },
      {
       "output_type": "stream",
       "stream": "stderr",
       "text": [
        "[2015-04-06 23:34:24,128] data/Boston-hotelist-1.html\n"
       ]
      },
      {
       "output_type": "stream",
       "stream": "stderr",
       "text": [
        "[2015-04-06 23:34:24,128] data/Boston-hotelist-1.html\n"
       ]
      },
      {
       "output_type": "stream",
       "stream": "stderr",
       "text": [
        "[2015-04-06 23:34:24,128] data/Boston-hotelist-1.html\n"
       ]
      },
      {
       "output_type": "stream",
       "stream": "stderr",
       "text": [
        "[2015-04-06 23:34:24,128] data/Boston-hotelist-1.html\n"
       ]
      },
      {
       "output_type": "stream",
       "stream": "stderr",
       "text": [
        "[2015-04-06 23:34:24,128] data/Boston-hotelist-1.html\n"
       ]
      },
      {
       "output_type": "stream",
       "stream": "stderr",
       "text": [
        "[2015-04-06 23:34:24,128] data/Boston-hotelist-1.html\n"
       ]
      },
      {
       "output_type": "stream",
       "stream": "stderr",
       "text": [
        "[2015-04-06 23:34:24,128] data/Boston-hotelist-1.html\n"
       ]
      },
      {
       "output_type": "stream",
       "stream": "stderr",
       "text": [
        "[2015-04-06 23:34:24,128] data/Boston-hotelist-1.html\n"
       ]
      },
      {
       "output_type": "stream",
       "stream": "stderr",
       "text": [
        "[2015-04-06 23:34:24,128] data/Boston-hotelist-1.html\n"
       ]
      },
      {
       "output_type": "stream",
       "stream": "stderr",
       "text": [
        "[2015-04-06 23:34:24,128] data/Boston-hotelist-1.html\n"
       ]
      },
      {
       "output_type": "stream",
       "stream": "stderr",
       "text": [
        "[2015-04-06 23:34:24,128] data/Boston-hotelist-1.html\n"
       ]
      },
      {
       "output_type": "stream",
       "stream": "stderr",
       "text": [
        "[2015-04-06 23:34:24,128] data/Boston-hotelist-1.html\n"
       ]
      },
      {
       "output_type": "stream",
       "stream": "stderr",
       "text": [
        "[2015-04-06 23:34:24,128] data/Boston-hotelist-1.html\n"
       ]
      },
      {
       "output_type": "stream",
       "stream": "stderr",
       "text": [
        "[2015-04-06 23:34:24,128] data/Boston-hotelist-1.html\n"
       ]
      },
      {
       "output_type": "stream",
       "stream": "stderr",
       "text": [
        "[2015-04-06 23:34:24,128] data/Boston-hotelist-1.html\n"
       ]
      },
      {
       "output_type": "stream",
       "stream": "stderr",
       "text": [
        "INFO:scrape_solution:data/Boston-hotelist-1.html\n"
       ]
      },
      {
       "output_type": "stream",
       "stream": "stderr",
       "text": [
        "[2015-04-06 23:34:27,580] 30\n"
       ]
      },
      {
       "output_type": "stream",
       "stream": "stderr",
       "text": [
        "[2015-04-06 23:34:27,580] 30\n"
       ]
      },
      {
       "output_type": "stream",
       "stream": "stderr",
       "text": [
        "[2015-04-06 23:34:27,580] 30\n"
       ]
      },
      {
       "output_type": "stream",
       "stream": "stderr",
       "text": [
        "[2015-04-06 23:34:27,580] 30\n"
       ]
      },
      {
       "output_type": "stream",
       "stream": "stderr",
       "text": [
        "[2015-04-06 23:34:27,580] 30\n"
       ]
      },
      {
       "output_type": "stream",
       "stream": "stderr",
       "text": [
        "[2015-04-06 23:34:27,580] 30\n"
       ]
      },
      {
       "output_type": "stream",
       "stream": "stderr",
       "text": [
        "[2015-04-06 23:34:27,580] 30\n"
       ]
      },
      {
       "output_type": "stream",
       "stream": "stderr",
       "text": [
        "[2015-04-06 23:34:27,580] 30\n"
       ]
      },
      {
       "output_type": "stream",
       "stream": "stderr",
       "text": [
        "[2015-04-06 23:34:27,580] 30\n"
       ]
      },
      {
       "output_type": "stream",
       "stream": "stderr",
       "text": [
        "[2015-04-06 23:34:27,580] 30\n"
       ]
      },
      {
       "output_type": "stream",
       "stream": "stderr",
       "text": [
        "[2015-04-06 23:34:27,580] 30\n"
       ]
      },
      {
       "output_type": "stream",
       "stream": "stderr",
       "text": [
        "[2015-04-06 23:34:27,580] 30\n"
       ]
      },
      {
       "output_type": "stream",
       "stream": "stderr",
       "text": [
        "[2015-04-06 23:34:27,580] 30\n"
       ]
      },
      {
       "output_type": "stream",
       "stream": "stderr",
       "text": [
        "[2015-04-06 23:34:27,580] 30\n"
       ]
      },
      {
       "output_type": "stream",
       "stream": "stderr",
       "text": [
        "[2015-04-06 23:34:27,580] 30\n"
       ]
      },
      {
       "output_type": "stream",
       "stream": "stderr",
       "text": [
        "[2015-04-06 23:34:27,580] 30\n"
       ]
      },
      {
       "output_type": "stream",
       "stream": "stderr",
       "text": [
        "INFO:scrape_solution:30\n"
       ]
      },
      {
       "output_type": "stream",
       "stream": "stderr",
       "text": [
        "[2015-04-06 23:34:27,589] data/Boston-hotelist-2.html\n"
       ]
      },
      {
       "output_type": "stream",
       "stream": "stderr",
       "text": [
        "[2015-04-06 23:34:27,589] data/Boston-hotelist-2.html\n"
       ]
      },
      {
       "output_type": "stream",
       "stream": "stderr",
       "text": [
        "[2015-04-06 23:34:27,589] data/Boston-hotelist-2.html\n"
       ]
      },
      {
       "output_type": "stream",
       "stream": "stderr",
       "text": [
        "[2015-04-06 23:34:27,589] data/Boston-hotelist-2.html\n"
       ]
      },
      {
       "output_type": "stream",
       "stream": "stderr",
       "text": [
        "[2015-04-06 23:34:27,589] data/Boston-hotelist-2.html\n"
       ]
      },
      {
       "output_type": "stream",
       "stream": "stderr",
       "text": [
        "[2015-04-06 23:34:27,589] data/Boston-hotelist-2.html\n"
       ]
      },
      {
       "output_type": "stream",
       "stream": "stderr",
       "text": [
        "[2015-04-06 23:34:27,589] data/Boston-hotelist-2.html\n"
       ]
      },
      {
       "output_type": "stream",
       "stream": "stderr",
       "text": [
        "[2015-04-06 23:34:27,589] data/Boston-hotelist-2.html\n"
       ]
      },
      {
       "output_type": "stream",
       "stream": "stderr",
       "text": [
        "[2015-04-06 23:34:27,589] data/Boston-hotelist-2.html\n"
       ]
      },
      {
       "output_type": "stream",
       "stream": "stderr",
       "text": [
        "[2015-04-06 23:34:27,589] data/Boston-hotelist-2.html\n"
       ]
      },
      {
       "output_type": "stream",
       "stream": "stderr",
       "text": [
        "[2015-04-06 23:34:27,589] data/Boston-hotelist-2.html\n"
       ]
      },
      {
       "output_type": "stream",
       "stream": "stderr",
       "text": [
        "[2015-04-06 23:34:27,589] data/Boston-hotelist-2.html\n"
       ]
      },
      {
       "output_type": "stream",
       "stream": "stderr",
       "text": [
        "[2015-04-06 23:34:27,589] data/Boston-hotelist-2.html\n"
       ]
      },
      {
       "output_type": "stream",
       "stream": "stderr",
       "text": [
        "[2015-04-06 23:34:27,589] data/Boston-hotelist-2.html\n"
       ]
      },
      {
       "output_type": "stream",
       "stream": "stderr",
       "text": [
        "[2015-04-06 23:34:27,589] data/Boston-hotelist-2.html\n"
       ]
      },
      {
       "output_type": "stream",
       "stream": "stderr",
       "text": [
        "[2015-04-06 23:34:27,589] data/Boston-hotelist-2.html\n"
       ]
      },
      {
       "output_type": "stream",
       "stream": "stderr",
       "text": [
        "INFO:scrape_solution:data/Boston-hotelist-2.html\n"
       ]
      },
      {
       "output_type": "stream",
       "stream": "stderr",
       "text": [
        "[2015-04-06 23:34:30,609] 60\n"
       ]
      },
      {
       "output_type": "stream",
       "stream": "stderr",
       "text": [
        "[2015-04-06 23:34:30,609] 60\n"
       ]
      },
      {
       "output_type": "stream",
       "stream": "stderr",
       "text": [
        "[2015-04-06 23:34:30,609] 60\n"
       ]
      },
      {
       "output_type": "stream",
       "stream": "stderr",
       "text": [
        "[2015-04-06 23:34:30,609] 60\n"
       ]
      },
      {
       "output_type": "stream",
       "stream": "stderr",
       "text": [
        "[2015-04-06 23:34:30,609] 60\n"
       ]
      },
      {
       "output_type": "stream",
       "stream": "stderr",
       "text": [
        "[2015-04-06 23:34:30,609] 60\n"
       ]
      },
      {
       "output_type": "stream",
       "stream": "stderr",
       "text": [
        "[2015-04-06 23:34:30,609] 60\n"
       ]
      },
      {
       "output_type": "stream",
       "stream": "stderr",
       "text": [
        "[2015-04-06 23:34:30,609] 60\n"
       ]
      },
      {
       "output_type": "stream",
       "stream": "stderr",
       "text": [
        "[2015-04-06 23:34:30,609] 60\n"
       ]
      },
      {
       "output_type": "stream",
       "stream": "stderr",
       "text": [
        "[2015-04-06 23:34:30,609] 60\n"
       ]
      },
      {
       "output_type": "stream",
       "stream": "stderr",
       "text": [
        "[2015-04-06 23:34:30,609] 60\n"
       ]
      },
      {
       "output_type": "stream",
       "stream": "stderr",
       "text": [
        "[2015-04-06 23:34:30,609] 60\n"
       ]
      },
      {
       "output_type": "stream",
       "stream": "stderr",
       "text": [
        "[2015-04-06 23:34:30,609] 60\n"
       ]
      },
      {
       "output_type": "stream",
       "stream": "stderr",
       "text": [
        "[2015-04-06 23:34:30,609] 60\n"
       ]
      },
      {
       "output_type": "stream",
       "stream": "stderr",
       "text": [
        "[2015-04-06 23:34:30,609] 60\n"
       ]
      },
      {
       "output_type": "stream",
       "stream": "stderr",
       "text": [
        "[2015-04-06 23:34:30,609] 60\n"
       ]
      },
      {
       "output_type": "stream",
       "stream": "stderr",
       "text": [
        "INFO:scrape_solution:60\n"
       ]
      },
      {
       "output_type": "stream",
       "stream": "stderr",
       "text": [
        "[2015-04-06 23:34:30,627] data/Boston-hotelist-3.html\n"
       ]
      },
      {
       "output_type": "stream",
       "stream": "stderr",
       "text": [
        "[2015-04-06 23:34:30,627] data/Boston-hotelist-3.html\n"
       ]
      },
      {
       "output_type": "stream",
       "stream": "stderr",
       "text": [
        "[2015-04-06 23:34:30,627] data/Boston-hotelist-3.html\n"
       ]
      },
      {
       "output_type": "stream",
       "stream": "stderr",
       "text": [
        "[2015-04-06 23:34:30,627] data/Boston-hotelist-3.html\n"
       ]
      },
      {
       "output_type": "stream",
       "stream": "stderr",
       "text": [
        "[2015-04-06 23:34:30,627] data/Boston-hotelist-3.html\n"
       ]
      },
      {
       "output_type": "stream",
       "stream": "stderr",
       "text": [
        "[2015-04-06 23:34:30,627] data/Boston-hotelist-3.html\n"
       ]
      },
      {
       "output_type": "stream",
       "stream": "stderr",
       "text": [
        "[2015-04-06 23:34:30,627] data/Boston-hotelist-3.html\n"
       ]
      },
      {
       "output_type": "stream",
       "stream": "stderr",
       "text": [
        "[2015-04-06 23:34:30,627] data/Boston-hotelist-3.html\n"
       ]
      },
      {
       "output_type": "stream",
       "stream": "stderr",
       "text": [
        "[2015-04-06 23:34:30,627] data/Boston-hotelist-3.html\n"
       ]
      },
      {
       "output_type": "stream",
       "stream": "stderr",
       "text": [
        "[2015-04-06 23:34:30,627] data/Boston-hotelist-3.html\n"
       ]
      },
      {
       "output_type": "stream",
       "stream": "stderr",
       "text": [
        "[2015-04-06 23:34:30,627] data/Boston-hotelist-3.html\n"
       ]
      },
      {
       "output_type": "stream",
       "stream": "stderr",
       "text": [
        "[2015-04-06 23:34:30,627] data/Boston-hotelist-3.html\n"
       ]
      },
      {
       "output_type": "stream",
       "stream": "stderr",
       "text": [
        "[2015-04-06 23:34:30,627] data/Boston-hotelist-3.html\n"
       ]
      },
      {
       "output_type": "stream",
       "stream": "stderr",
       "text": [
        "[2015-04-06 23:34:30,627] data/Boston-hotelist-3.html\n"
       ]
      },
      {
       "output_type": "stream",
       "stream": "stderr",
       "text": [
        "[2015-04-06 23:34:30,627] data/Boston-hotelist-3.html\n"
       ]
      },
      {
       "output_type": "stream",
       "stream": "stderr",
       "text": [
        "[2015-04-06 23:34:30,627] data/Boston-hotelist-3.html\n"
       ]
      },
      {
       "output_type": "stream",
       "stream": "stderr",
       "text": [
        "INFO:scrape_solution:data/Boston-hotelist-3.html\n"
       ]
      },
      {
       "output_type": "stream",
       "stream": "stderr",
       "text": [
        "[2015-04-06 23:34:33,380] 77\n"
       ]
      },
      {
       "output_type": "stream",
       "stream": "stderr",
       "text": [
        "[2015-04-06 23:34:33,380] 77\n"
       ]
      },
      {
       "output_type": "stream",
       "stream": "stderr",
       "text": [
        "[2015-04-06 23:34:33,380] 77\n"
       ]
      },
      {
       "output_type": "stream",
       "stream": "stderr",
       "text": [
        "[2015-04-06 23:34:33,380] 77\n"
       ]
      },
      {
       "output_type": "stream",
       "stream": "stderr",
       "text": [
        "[2015-04-06 23:34:33,380] 77\n"
       ]
      },
      {
       "output_type": "stream",
       "stream": "stderr",
       "text": [
        "[2015-04-06 23:34:33,380] 77\n"
       ]
      },
      {
       "output_type": "stream",
       "stream": "stderr",
       "text": [
        "[2015-04-06 23:34:33,380] 77\n"
       ]
      },
      {
       "output_type": "stream",
       "stream": "stderr",
       "text": [
        "[2015-04-06 23:34:33,380] 77\n"
       ]
      },
      {
       "output_type": "stream",
       "stream": "stderr",
       "text": [
        "[2015-04-06 23:34:33,380] 77\n"
       ]
      },
      {
       "output_type": "stream",
       "stream": "stderr",
       "text": [
        "[2015-04-06 23:34:33,380] 77\n"
       ]
      },
      {
       "output_type": "stream",
       "stream": "stderr",
       "text": [
        "[2015-04-06 23:34:33,380] 77\n"
       ]
      },
      {
       "output_type": "stream",
       "stream": "stderr",
       "text": [
        "[2015-04-06 23:34:33,380] 77\n"
       ]
      },
      {
       "output_type": "stream",
       "stream": "stderr",
       "text": [
        "[2015-04-06 23:34:33,380] 77\n"
       ]
      },
      {
       "output_type": "stream",
       "stream": "stderr",
       "text": [
        "[2015-04-06 23:34:33,380] 77\n"
       ]
      },
      {
       "output_type": "stream",
       "stream": "stderr",
       "text": [
        "[2015-04-06 23:34:33,380] 77\n"
       ]
      },
      {
       "output_type": "stream",
       "stream": "stderr",
       "text": [
        "[2015-04-06 23:34:33,380] 77\n"
       ]
      },
      {
       "output_type": "stream",
       "stream": "stderr",
       "text": [
        "INFO:scrape_solution:77\n"
       ]
      },
      {
       "output_type": "stream",
       "stream": "stderr",
       "text": [
        "[2015-04-06 23:34:33,394] data/Boston-hotelist-4.html\n"
       ]
      },
      {
       "output_type": "stream",
       "stream": "stderr",
       "text": [
        "[2015-04-06 23:34:33,394] data/Boston-hotelist-4.html\n"
       ]
      },
      {
       "output_type": "stream",
       "stream": "stderr",
       "text": [
        "[2015-04-06 23:34:33,394] data/Boston-hotelist-4.html\n"
       ]
      },
      {
       "output_type": "stream",
       "stream": "stderr",
       "text": [
        "[2015-04-06 23:34:33,394] data/Boston-hotelist-4.html\n"
       ]
      },
      {
       "output_type": "stream",
       "stream": "stderr",
       "text": [
        "[2015-04-06 23:34:33,394] data/Boston-hotelist-4.html\n"
       ]
      },
      {
       "output_type": "stream",
       "stream": "stderr",
       "text": [
        "[2015-04-06 23:34:33,394] data/Boston-hotelist-4.html\n"
       ]
      },
      {
       "output_type": "stream",
       "stream": "stderr",
       "text": [
        "[2015-04-06 23:34:33,394] data/Boston-hotelist-4.html\n"
       ]
      },
      {
       "output_type": "stream",
       "stream": "stderr",
       "text": [
        "[2015-04-06 23:34:33,394] data/Boston-hotelist-4.html\n"
       ]
      },
      {
       "output_type": "stream",
       "stream": "stderr",
       "text": [
        "[2015-04-06 23:34:33,394] data/Boston-hotelist-4.html\n"
       ]
      },
      {
       "output_type": "stream",
       "stream": "stderr",
       "text": [
        "[2015-04-06 23:34:33,394] data/Boston-hotelist-4.html\n"
       ]
      },
      {
       "output_type": "stream",
       "stream": "stderr",
       "text": [
        "[2015-04-06 23:34:33,394] data/Boston-hotelist-4.html\n"
       ]
      },
      {
       "output_type": "stream",
       "stream": "stderr",
       "text": [
        "[2015-04-06 23:34:33,394] data/Boston-hotelist-4.html\n"
       ]
      },
      {
       "output_type": "stream",
       "stream": "stderr",
       "text": [
        "[2015-04-06 23:34:33,394] data/Boston-hotelist-4.html\n"
       ]
      },
      {
       "output_type": "stream",
       "stream": "stderr",
       "text": [
        "[2015-04-06 23:34:33,394] data/Boston-hotelist-4.html\n"
       ]
      },
      {
       "output_type": "stream",
       "stream": "stderr",
       "text": [
        "[2015-04-06 23:34:33,394] data/Boston-hotelist-4.html\n"
       ]
      },
      {
       "output_type": "stream",
       "stream": "stderr",
       "text": [
        "[2015-04-06 23:34:33,394] data/Boston-hotelist-4.html\n"
       ]
      },
      {
       "output_type": "stream",
       "stream": "stderr",
       "text": [
        "INFO:scrape_solution:data/Boston-hotelist-4.html\n"
       ]
      },
      {
       "output_type": "stream",
       "stream": "stdout",
       "text": [
        "\n",
        "Hyatt Boston Harbor\n",
        "\n",
        "Seaport Boston Hotel"
       ]
      },
      {
       "output_type": "stream",
       "stream": "stdout",
       "text": [
        "\n",
        "\n",
        "Hotel Commonwealth"
       ]
      },
      {
       "output_type": "stream",
       "stream": "stdout",
       "text": [
        "\n",
        "\n",
        "Boston Harbor Hotel"
       ]
      },
      {
       "output_type": "stream",
       "stream": "stdout",
       "text": [
        "\n",
        "\n",
        "enVision Hotel Boston"
       ]
      },
      {
       "output_type": "stream",
       "stream": "stdout",
       "text": [
        "\n",
        "\n",
        "Revere Hotel Boston Common"
       ]
      },
      {
       "output_type": "stream",
       "stream": "stdout",
       "text": [
        "\n",
        "\n",
        "Nine Zero Hotel - a Kimpton Hotel"
       ]
      },
      {
       "output_type": "stream",
       "stream": "stdout",
       "text": [
        "\n",
        "\n",
        "Lenox Hotel"
       ]
      },
      {
       "output_type": "stream",
       "stream": "stdout",
       "text": [
        "\n",
        "\n",
        "The Westin Copley Place"
       ]
      },
      {
       "output_type": "stream",
       "stream": "stdout",
       "text": [
        "\n",
        "\n",
        "Courtyard by Marriott Boston Copley Square"
       ]
      },
      {
       "output_type": "stream",
       "stream": "stdout",
       "text": [
        "\n",
        "\n",
        "Omni Parker House"
       ]
      },
      {
       "output_type": "stream",
       "stream": "stdout",
       "text": [
        "\n",
        "\n",
        "Embassy Suites Boston Logan Airport"
       ]
      },
      {
       "output_type": "stream",
       "stream": "stdout",
       "text": [
        "\n",
        "\n",
        "XV Beacon"
       ]
      },
      {
       "output_type": "stream",
       "stream": "stdout",
       "text": [
        "\n",
        "\n",
        "The Midtown Hotel"
       ]
      },
      {
       "output_type": "stream",
       "stream": "stdout",
       "text": [
        "\n",
        "\n",
        "The Verb Hotel"
       ]
      },
      {
       "output_type": "stream",
       "stream": "stdout",
       "text": [
        "\n",
        "\n",
        "The Liberty Hotel"
       ]
      },
      {
       "output_type": "stream",
       "stream": "stdout",
       "text": [
        "\n",
        "\n",
        "Copley Square Hotel"
       ]
      },
      {
       "output_type": "stream",
       "stream": "stdout",
       "text": [
        "\n",
        "\n",
        "Taj Boston"
       ]
      },
      {
       "output_type": "stream",
       "stream": "stdout",
       "text": [
        "\n",
        "\n",
        "Harborside Inn"
       ]
      },
      {
       "output_type": "stream",
       "stream": "stdout",
       "text": [
        "\n",
        "\n",
        "The Fairmont Copley Plaza - Boston"
       ]
      },
      {
       "output_type": "stream",
       "stream": "stdout",
       "text": [
        "\n",
        "\n",
        "Hilton Boston Back Bay"
       ]
      },
      {
       "output_type": "stream",
       "stream": "stdout",
       "text": [
        "\n",
        "\n",
        "Millennium Bostonian Hotel"
       ]
      },
      {
       "output_type": "stream",
       "stream": "stdout",
       "text": [
        "\n",
        "\n",
        "The Langham - Boston"
       ]
      },
      {
       "output_type": "stream",
       "stream": "stdout",
       "text": [
        "\n",
        "\n",
        "InterContinental Boston"
       ]
      },
      {
       "output_type": "stream",
       "stream": "stdout",
       "text": [
        "\n",
        "\n",
        "Boston Hotel Buckminster"
       ]
      },
      {
       "output_type": "stream",
       "stream": "stdout",
       "text": [
        "\n",
        "\n",
        "Marriott's Custom House"
       ]
      },
      {
       "output_type": "stream",
       "stream": "stdout",
       "text": [
        "\n",
        "\n",
        "Sheraton Boston Hotel"
       ]
      },
      {
       "output_type": "stream",
       "stream": "stdout",
       "text": [
        "\n",
        "\n",
        "Residence Inn Boston Back Bay / Fenway"
       ]
      },
      {
       "output_type": "stream",
       "stream": "stdout",
       "text": [
        "\n",
        "\n",
        "Boston Marriott Copley Place"
       ]
      },
      {
       "output_type": "stream",
       "stream": "stdout",
       "text": [
        "\n",
        "\n",
        "Loews Boston Hotel"
       ]
      },
      {
       "output_type": "stream",
       "stream": "stdout",
       "text": [
        "\n",
        "\n",
        "Hyatt Regency Boston"
       ]
      },
      {
       "output_type": "stream",
       "stream": "stdout",
       "text": [
        "\n",
        "\n",
        "W Boston"
       ]
      },
      {
       "output_type": "stream",
       "stream": "stdout",
       "text": [
        "\n",
        "\n",
        "DoubleTree by Hilton Hotel Boston - Downtown"
       ]
      },
      {
       "output_type": "stream",
       "stream": "stdout",
       "text": [
        "\n",
        "\n",
        "Colonnade Hotel"
       ]
      },
      {
       "output_type": "stream",
       "stream": "stdout",
       "text": [
        "\n",
        "\n",
        "Chandler Inn"
       ]
      },
      {
       "output_type": "stream",
       "stream": "stdout",
       "text": [
        "\n",
        "\n",
        "The Inn at Longwood Medical"
       ]
      },
      {
       "output_type": "stream",
       "stream": "stdout",
       "text": [
        "\n",
        "\n",
        "Hotel 140"
       ]
      },
      {
       "output_type": "stream",
       "stream": "stdout",
       "text": [
        "\n",
        "\n",
        "Hilton Boston Logan Airport"
       ]
      },
      {
       "output_type": "stream",
       "stream": "stdout",
       "text": [
        "\n",
        "\n",
        "Hilton Boston Downtown / Faneuil Hall"
       ]
      },
      {
       "output_type": "stream",
       "stream": "stdout",
       "text": [
        "\n",
        "\n",
        "Battery Wharf Hotel - Boston Waterfront"
       ]
      },
      {
       "output_type": "stream",
       "stream": "stdout",
       "text": [
        "\n",
        "\n",
        "Boston Marriott Long Wharf"
       ]
      },
      {
       "output_type": "stream",
       "stream": "stdout",
       "text": [
        "\n",
        "\n",
        "Hampton Inn & Suites Boston Crosstown Center"
       ]
      },
      {
       "output_type": "stream",
       "stream": "stdout",
       "text": [
        "\n",
        "\n",
        "Onyx Hotel - a Kimpton Hotel"
       ]
      },
      {
       "output_type": "stream",
       "stream": "stdout",
       "text": [
        "\n",
        "\n",
        "Four Seasons Hotel Boston"
       ]
      },
      {
       "output_type": "stream",
       "stream": "stdout",
       "text": [
        "\n",
        "\n",
        "Holiday Inn Express Boston"
       ]
      },
      {
       "output_type": "stream",
       "stream": "stdout",
       "text": [
        "\n",
        "\n",
        "DoubleTree Club by Hilton Hotel Boston Bayside"
       ]
      },
      {
       "output_type": "stream",
       "stream": "stdout",
       "text": [
        "\n",
        "\n",
        "The Boxer Boston"
       ]
      },
      {
       "output_type": "stream",
       "stream": "stdout",
       "text": [
        "\n",
        "\n",
        "Wyndham Boston Beacon Hill"
       ]
      },
      {
       "output_type": "stream",
       "stream": "stdout",
       "text": [
        "\n",
        "\n",
        "Residence Inn by Marriott Boston Harbor on Tudor Wharf"
       ]
      },
      {
       "output_type": "stream",
       "stream": "stdout",
       "text": [
        "\n",
        "\n",
        "BEST WESTERN University Hotel Boston-Brighton"
       ]
      },
      {
       "output_type": "stream",
       "stream": "stdout",
       "text": [
        "\n",
        "\n",
        "The Westin Boston Waterfront"
       ]
      },
      {
       "output_type": "stream",
       "stream": "stdout",
       "text": [
        "\n",
        "\n",
        "Eliot Hotel"
       ]
      },
      {
       "output_type": "stream",
       "stream": "stdout",
       "text": [
        "\n",
        "\n",
        "Club Quarters in Boston"
       ]
      },
      {
       "output_type": "stream",
       "stream": "stdout",
       "text": [
        "\n",
        "\n",
        "Copley House"
       ]
      },
      {
       "output_type": "stream",
       "stream": "stdout",
       "text": [
        "\n",
        "\n",
        "Renaissance Boston Waterfront Hotel"
       ]
      },
      {
       "output_type": "stream",
       "stream": "stdout",
       "text": [
        "\n",
        "\n",
        "DoubleTree Suites by Hilton Boston-Cambridge"
       ]
      },
      {
       "output_type": "stream",
       "stream": "stdout",
       "text": [
        "\n",
        "\n",
        "Newbury Guest House"
       ]
      },
      {
       "output_type": "stream",
       "stream": "stdout",
       "text": [
        "\n",
        "\n",
        "BEST WESTERN PLUS Roundhouse Suites"
       ]
      },
      {
       "output_type": "stream",
       "stream": "stdout",
       "text": [
        "\n",
        "\n",
        "Charlesmark Hotel"
       ]
      },
      {
       "output_type": "stream",
       "stream": "stdout",
       "text": [
        "\n",
        "\n",
        "Mandarin Oriental - Boston"
       ]
      },
      {
       "output_type": "stream",
       "stream": "stdout",
       "text": [
        "\n",
        "\n",
        "Holiday Inn Express Hotel & Suites Boston Garden"
       ]
      },
      {
       "output_type": "stream",
       "stream": "stdout",
       "text": [
        "\n",
        "\n",
        "Ames Boston Hotel"
       ]
      },
      {
       "output_type": "stream",
       "stream": "stdout",
       "text": [
        "\n",
        "\n",
        "The Ritz-Carlton Boston Common"
       ]
      },
      {
       "output_type": "stream",
       "stream": "stdout",
       "text": [
        "\n",
        "\n",
        "Courtyard by Marriott Boston Logan Airport"
       ]
      },
      {
       "output_type": "stream",
       "stream": "stdout",
       "text": [
        "\n",
        "\n",
        "The Inn At St Botolph"
       ]
      },
      {
       "output_type": "stream",
       "stream": "stdout",
       "text": [
        "\n",
        "\n",
        "Residence Inn Boston Downtown Seaport"
       ]
      },
      {
       "output_type": "stream",
       "stream": "stdout",
       "text": [
        "\n",
        "\n",
        "Courtyard Boston-South Boston"
       ]
      },
      {
       "output_type": "stream",
       "stream": "stdout",
       "text": [
        "\n",
        "\n",
        "Beacon Hill Hotel and Bistro"
       ]
      },
      {
       "output_type": "stream",
       "stream": "stdout",
       "text": [
        "\n",
        "\n",
        "Comfort Inn - Boston"
       ]
      },
      {
       "output_type": "stream",
       "stream": "stdout",
       "text": [
        "\n",
        "\n",
        "The Boston Common Hotel and Conference Center"
       ]
      },
      {
       "output_type": "stream",
       "stream": "stdout",
       "text": [
        "\n",
        "\n",
        "Courtyard Boston Downtown"
       ]
      },
      {
       "output_type": "stream",
       "stream": "stdout",
       "text": [
        "\n",
        "\n",
        "Boston Park Plaza"
       ]
      },
      {
       "output_type": "stream",
       "stream": "stdout",
       "text": [
        "\n",
        "\n",
        "Ramada Boston"
       ]
      },
      {
       "output_type": "stream",
       "stream": "stdout",
       "text": [
        "\n",
        "\n",
        "Milner Hotel"
       ]
      },
      {
       "output_type": "stream",
       "stream": "stdout",
       "text": [
        "\n",
        "\n",
        "Constitution Inn"
       ]
      },
      {
       "output_type": "stream",
       "stream": "stdout",
       "text": [
        "\n",
        "\n",
        "Days Hotel Boston"
       ]
      },
      {
       "output_type": "stream",
       "stream": "stdout",
       "text": [
        "\n",
        "\n",
        "Americas Best Value Inn"
       ]
      },
      {
       "output_type": "stream",
       "stream": "stdout",
       "text": [
        "\n"
       ]
      }
     ],
     "prompt_number": 594
    },
    {
     "cell_type": "code",
     "collapsed": false,
     "input": [
      "hotels = pd.read_csv('data/Boston-hotel-info.csv')\n",
      "print len(hotels)\n",
      "print len(hotels.columns)"
     ],
     "language": "python",
     "metadata": {},
     "outputs": [
      {
       "output_type": "stream",
       "stream": "stdout",
       "text": [
        "77\n",
        "15\n"
       ]
      }
     ],
     "prompt_number": 599
    },
    {
     "cell_type": "markdown",
     "metadata": {},
     "source": [
      "** Task 3 (20 pts) **\n",
      "\n",
      "Now, we will use regression to analyze this information. First, we will fit a linear regression model that predicts the average rating. For example, for the hotel above, the average rating is\n",
      "\n",
      "$$ \\text{AVG_SCORE} = \\frac{1*31 + 2*33 + 3*98 + 4*504 + 5*1861}{2527}$$\n",
      "\n",
      "Use the model to analyze the important factors that decide the $\\text{AVG_SCORE}$."
     ]
    },
    {
     "cell_type": "code",
     "collapsed": false,
     "input": [
      "hotels.columns = [col.replace(' ', '_').lower() for col in hotels.columns]\n",
      "hotels['avg_rating'] = hotels.apply(lambda r: (r.terrible + 2*r.poor + 3*r.average + 4*r.very_good + 5*r.excellent)/(r.terrible + r.poor + r.average + r.very_good + r.excellent), axis=1)\n",
      "print hotels.head()"
     ],
     "language": "python",
     "metadata": {},
     "outputs": [
      {
       "output_type": "stream",
       "stream": "stdout",
       "text": [
        "                            excellent  very_good  average  poor  terrible  \\\n",
        "Colonnade Hotel                  1278        513      160    63        49   \n",
        "Milner Hotel                       29        119      112    44        64   \n",
        "Hotel 140                         320        390      161    56        45   \n",
        "Millennium Bostonian Hotel        438        377      116    55        33   \n",
        "W Boston                          418        262      107    50        28   \n",
        "\n",
        "                            families  couples  solo  business  location  \\\n",
        "Colonnade Hotel                  472      616   103       526       5.0   \n",
        "Milner Hotel                      43      107    77        56       4.5   \n",
        "Hotel 140                        119      417   108       148       4.5   \n",
        "Millennium Bostonian Hotel       188      415    60       156       5.0   \n",
        "W Boston                         128      312    67       218       4.5   \n",
        "\n",
        "                            sleep_quality  rooms  service  value  cleanliness  \\\n",
        "Colonnade Hotel                       4.5    4.5      4.5    4.0          4.5   \n",
        "Milner Hotel                          3.5    2.5      3.5    3.5          3.5   \n",
        "Hotel 140                             4.0    3.5      4.0    4.0          4.5   \n",
        "Millennium Bostonian Hotel            4.0    4.0      4.0    4.0          4.5   \n",
        "W Boston                              4.5    4.0      4.5    3.5          4.5   \n",
        "\n",
        "                            avg_rating  \n",
        "Colonnade Hotel               4.409598  \n",
        "Milner Hotel                  3.013587  \n",
        "Hotel 140                     3.909465  \n",
        "Millennium Bostonian Hotel    4.110893  \n",
        "W Boston                      4.146821  \n"
       ]
      }
     ],
     "prompt_number": 600
    },
    {
     "cell_type": "markdown",
     "metadata": {},
     "source": [
      "Setting and normalizing the target vector, data set, and list of features for running the linear regression model."
     ]
    },
    {
     "cell_type": "code",
     "collapsed": false,
     "input": [
      "target = hotels['avg_rating'].as_matrix()\n",
      "data = hotels.drop('avg_rating', 1).as_matrix()\n",
      "data_normalized = StandardScaler().fit_transform(data)\n",
      "features = hotels.columns[:-1]\n",
      "print target.shape\n",
      "print data.shape\n",
      "X = data_normalized\n",
      "y = target"
     ],
     "language": "python",
     "metadata": {},
     "outputs": [
      {
       "output_type": "stream",
       "stream": "stdout",
       "text": [
        "(77,)\n",
        "(77, 15)\n"
       ]
      }
     ],
     "prompt_number": 601
    },
    {
     "cell_type": "code",
     "collapsed": false,
     "input": [
      "#X = hotels['excellent'].as_matrix()\n",
      "#X = X.reshape(50, 1)\n",
      "#features = hotels.columns[0]\n",
      "#print X.shape"
     ],
     "language": "python",
     "metadata": {},
     "outputs": [],
     "prompt_number": 602
    },
    {
     "cell_type": "code",
     "collapsed": false,
     "input": [
      "plt.scatter(range(len(y)), y, c=\"slategray\", alpha=0.3, linewidths=0.2)"
     ],
     "language": "python",
     "metadata": {},
     "outputs": [
      {
       "metadata": {},
       "output_type": "pyout",
       "prompt_number": 603,
       "text": [
        "<matplotlib.collections.PathCollection at 0x1181a19d0>"
       ]
      },
      {
       "metadata": {},
       "output_type": "display_data",
       "png": "[encoded data removed]",
       "text": [
        "<matplotlib.figure.Figure at 0x10cdf7d50>"
       ]
      }
     ],
     "prompt_number": 603
    },
    {
     "cell_type": "code",
     "collapsed": false,
     "input": [
      "X, y = utils.shuffle(X, y, random_state=1)"
     ],
     "language": "python",
     "metadata": {},
     "outputs": [],
     "prompt_number": 604
    },
    {
     "cell_type": "code",
     "collapsed": false,
     "input": [
      "X_train, X_test, y_train, y_test = cross_validation.train_test_split(X, y, test_size=0.4, random_state=0)\n",
      "print(X_train.shape), y_train.shape\n",
      "print(X_test.shape), y_test.shape"
     ],
     "language": "python",
     "metadata": {},
     "outputs": [
      {
       "output_type": "stream",
       "stream": "stdout",
       "text": [
        "(46, 15) (46,)\n",
        "(31, 15) (31,)\n"
       ]
      }
     ],
     "prompt_number": 605
    },
    {
     "cell_type": "code",
     "collapsed": false,
     "input": [
      "subX_train = X_train[:,0]\n",
      "subX_test = X_test[:,0]\n",
      "plt.scatter(subX_train, y_train, c=\"slategray\", alpha=0.4, linewidths=0.3)\n",
      "# plt.scatter(subX_test, y_test, c=\"seagreen\", alpha=0.2, linewidths=0.3)\n",
      "plt.xlabel('Data')\n",
      "plt.ylabel('Target');"
     ],
     "language": "python",
     "metadata": {},
     "outputs": [
      {
       "metadata": {},
       "output_type": "display_data",
       "png": "[encoded data removed]",
       "text": [
        "<matplotlib.figure.Figure at 0x11171b8d0>"
       ]
      }
     ],
     "prompt_number": 606
    },
    {
     "cell_type": "code",
     "collapsed": false,
     "input": [
      "fig, axes = plt.subplots(4,4,figsize=(15,15))\n",
      "\n",
      "for i in range(len(features)):\n",
      "    plt_i = i // 4\n",
      "    plt_j = i % 4\n",
      "    subX_train = X_train[:,i]\n",
      "    # plt.subplot(2, 4, 1 + i)\n",
      "    axes[plt_i][plt_j].scatter(subX_train, y_train, c=\"slategray\", alpha=0.4, linewidths=0.3)\n",
      "    #plt.scatter(subX_test, y_test)\n",
      "    axes[plt_i][plt_j].set_xlabel(features[i])\n",
      "    axes[plt_i][plt_j].set_ylabel('avg_rating'); "
     ],
     "language": "python",
     "metadata": {},
     "outputs": [
      {
       "metadata": {},
       "output_type": "display_data",
       "png": "[encoded data removed]",
       "text": [
        "<matplotlib.figure.Figure at 0x115e7f190>"
       ]
      }
     ],
     "prompt_number": 607
    },
    {
     "cell_type": "code",
     "collapsed": false,
     "input": [
      "regr = linear_model.LinearRegression()"
     ],
     "language": "python",
     "metadata": {},
     "outputs": [],
     "prompt_number": 608
    },
    {
     "cell_type": "code",
     "collapsed": false,
     "input": [
      "print X_train.shape\n",
      "regr.fit(X_train, y_train);\n",
      "# The mean square error\n",
      "print(\"Training error: \", metrics.mean_squared_error(regr.predict(X_train),y_train))\n",
      "print(\"Test     error: \", metrics.mean_squared_error(regr.predict(X_test),y_test))"
     ],
     "language": "python",
     "metadata": {},
     "outputs": [
      {
       "output_type": "stream",
       "stream": "stdout",
       "text": [
        "(46, 15)\n",
        "('Training error: ', 0.0037820038116794749)\n",
        "('Test     error: ', 0.014510963933771263)\n"
       ]
      }
     ],
     "prompt_number": 609
    },
    {
     "cell_type": "code",
     "collapsed": false,
     "input": [
      "train_score = regr.score(X_train,y_train)\n",
      "test_score = regr.score(X_test,y_test)\n",
      "print(\"Training score: \", train_score)\n",
      "print(\"Test     score: \", test_score)"
     ],
     "language": "python",
     "metadata": {},
     "outputs": [
      {
       "output_type": "stream",
       "stream": "stdout",
       "text": [
        "('Training score: ', 0.97985669279179788)\n",
        "('Test     score: ', 0.94044538763510044)\n"
       ]
      }
     ],
     "prompt_number": 610
    },
    {
     "cell_type": "code",
     "collapsed": false,
     "input": [
      "coefficients = regr.coef_\n",
      "#for i in range(len(coefficients)):\n",
      "#    print features[i],\"\\t\",coefficients[i]\n",
      "intercepts = regr.intercept_    \n",
      "print pd.DataFrame(zip(features, np.transpose(coefficients)))\n",
      "print intercepts"
     ],
     "language": "python",
     "metadata": {},
     "outputs": [
      {
       "output_type": "stream",
       "stream": "stdout",
       "text": [
        "                0         1\n",
        "0       excellent  0.024308\n",
        "1       very_good  0.016562\n",
        "2         average  0.028436\n",
        "3            poor -0.120675\n",
        "4        terrible  0.081562\n",
        "5        families -0.060430\n",
        "6         couples -0.004341\n",
        "7            solo -0.016142\n",
        "8        business  0.036086\n",
        "9        location  0.088287\n",
        "10  sleep_quality  0.027613\n",
        "11          rooms  0.168689\n",
        "12        service  0.123221\n",
        "13          value  0.035469\n",
        "14    cleanliness  0.074880\n",
        "4.06806295723\n"
       ]
      }
     ],
     "prompt_number": 611
    },
    {
     "cell_type": "code",
     "collapsed": false,
     "input": [
      "fig, axes = plt.subplots(4,4,figsize=(15,15))\n",
      "\n",
      "for i in range(len(features)):\n",
      "    plt_i = i // 4\n",
      "    plt_j = i % 4\n",
      "    subX_train = X_train[:,i]\n",
      "    # plt.subplot(2, 4, 1 + i)\n",
      "    subX_test = X_test[:,i]\n",
      "    axes[plt_i][plt_j].scatter(subX_train, y_train, c=\"slategray\", alpha=0.4, linewidths=0.3)\n",
      "    axes[plt_i][plt_j].plot(subX_train, coefficients[i]*subX_train+intercepts, color='seagreen', linewidth=3, alpha=.8);\n",
      "    #plt.scatter(subX_test, y_test)\n",
      "    axes[plt_i][plt_j].set_xlabel(features[i])\n",
      "    axes[plt_i][plt_j].set_ylabel('avg_rating'); "
     ],
     "language": "python",
     "metadata": {},
     "outputs": [
      {
       "metadata": {},
       "output_type": "display_data",
       "png": "[encoded data removed]",
       "text": [
        "<matplotlib.figure.Figure at 0x11504af50>"
       ]
      }
     ],
     "prompt_number": 612
    },
    {
     "cell_type": "markdown",
     "metadata": {},
     "source": [
      "It seems that the "
     ]
    },
    {
     "cell_type": "markdown",
     "metadata": {},
     "source": [
      "** Task 4 (30 pts) **\n",
      "\n",
      "Finally, we will use logistic regression to decide if a hotel is _excellent_ or not. We classify a hotel as _excellent_ if more than **60%** of its ratings are 5 stars. This is a binary attribute on which we can fit a logistic regression model. As before, use the model to analyze the data.\n",
      "\n",
      "-------"
     ]
    },
    {
     "cell_type": "code",
     "collapsed": false,
     "input": [
      "hotels['is_excellent'] = hotels.apply(lambda r: int(((r.excellent/(r.terrible + r.poor + r.average + r.very_good + r.excellent)) > 0.6)), axis=1)\n",
      "#hotels = hotels.sort(['is_excellent']).drop('avg_rating', axis=1)\n",
      "#print hotels.tail()"
     ],
     "language": "python",
     "metadata": {},
     "outputs": [],
     "prompt_number": 613
    },
    {
     "cell_type": "code",
     "collapsed": false,
     "input": [
      "train_cols = hotels.columns[:-1]\n",
      "#print train_cols\n",
      "#print hotels['is_excellent']\n",
      "#logit = sm.Logit(hotels['is_excellent'], hotels[train_cols])\n",
      " \n",
      "# fit the model\n",
      "#result = logit.fit() # Finding all the alphas and betas"
     ],
     "language": "python",
     "metadata": {},
     "outputs": [],
     "prompt_number": 614
    },
    {
     "cell_type": "code",
     "collapsed": false,
     "input": [
      "hotels.drop('avg_rating', axis=1).groupby('is_excellent').mean()"
     ],
     "language": "python",
     "metadata": {},
     "outputs": [
      {
       "html": [
        "<div style=\"max-height:1000px;max-width:1500px;overflow:auto;\">\n",
        "<table border=\"1\" class=\"dataframe\">\n",
        "  <thead>\n",
        "    <tr style=\"text-align: right;\">\n",
        "      <th></th>\n",
        "      <th>excellent</th>\n",
        "      <th>very_good</th>\n",
        "      <th>average</th>\n",
        "      <th>poor</th>\n",
        "      <th>terrible</th>\n",
        "      <th>families</th>\n",
        "      <th>couples</th>\n",
        "      <th>solo</th>\n",
        "      <th>business</th>\n",
        "      <th>location</th>\n",
        "      <th>sleep_quality</th>\n",
        "      <th>rooms</th>\n",
        "      <th>service</th>\n",
        "      <th>value</th>\n",
        "      <th>cleanliness</th>\n",
        "    </tr>\n",
        "    <tr>\n",
        "      <th>is_excellent</th>\n",
        "      <th></th>\n",
        "      <th></th>\n",
        "      <th></th>\n",
        "      <th></th>\n",
        "      <th></th>\n",
        "      <th></th>\n",
        "      <th></th>\n",
        "      <th></th>\n",
        "      <th></th>\n",
        "      <th></th>\n",
        "      <th></th>\n",
        "      <th></th>\n",
        "      <th></th>\n",
        "      <th></th>\n",
        "      <th></th>\n",
        "    </tr>\n",
        "  </thead>\n",
        "  <tbody>\n",
        "    <tr>\n",
        "      <th>0</th>\n",
        "      <td> 391.40678</td>\n",
        "      <td> 371.338983</td>\n",
        "      <td> 158.796610</td>\n",
        "      <td> 67.169492</td>\n",
        "      <td> 42.033898</td>\n",
        "      <td> 219.322034</td>\n",
        "      <td> 312.474576</td>\n",
        "      <td> 69.423729</td>\n",
        "      <td> 246.830508</td>\n",
        "      <td> 4.432203</td>\n",
        "      <td> 3.966102</td>\n",
        "      <td> 3.889831</td>\n",
        "      <td> 4.059322</td>\n",
        "      <td> 3.79661</td>\n",
        "      <td> 4.245763</td>\n",
        "    </tr>\n",
        "    <tr>\n",
        "      <th>1</th>\n",
        "      <td> 811.00000</td>\n",
        "      <td> 236.833333</td>\n",
        "      <td>  53.222222</td>\n",
        "      <td> 20.388889</td>\n",
        "      <td> 11.944444</td>\n",
        "      <td> 270.055556</td>\n",
        "      <td> 371.166667</td>\n",
        "      <td> 59.333333</td>\n",
        "      <td> 260.944444</td>\n",
        "      <td> 4.805556</td>\n",
        "      <td> 4.555556</td>\n",
        "      <td> 4.555556</td>\n",
        "      <td> 4.611111</td>\n",
        "      <td> 4.25000</td>\n",
        "      <td> 4.805556</td>\n",
        "    </tr>\n",
        "  </tbody>\n",
        "</table>\n",
        "</div>"
       ],
       "metadata": {},
       "output_type": "pyout",
       "prompt_number": 615,
       "text": [
        "              excellent   very_good     average       poor   terrible  \\\n",
        "is_excellent                                                            \n",
        "0             391.40678  371.338983  158.796610  67.169492  42.033898   \n",
        "1             811.00000  236.833333   53.222222  20.388889  11.944444   \n",
        "\n",
        "                families     couples       solo    business  location  \\\n",
        "is_excellent                                                            \n",
        "0             219.322034  312.474576  69.423729  246.830508  4.432203   \n",
        "1             270.055556  371.166667  59.333333  260.944444  4.805556   \n",
        "\n",
        "              sleep_quality     rooms   service    value  cleanliness  \n",
        "is_excellent                                                           \n",
        "0                  3.966102  3.889831  4.059322  3.79661     4.245763  \n",
        "1                  4.555556  4.555556  4.611111  4.25000     4.805556  "
       ]
      }
     ],
     "prompt_number": 615
    },
    {
     "cell_type": "code",
     "collapsed": false,
     "input": [
      "hotels.drop(['avg_rating', 'is_excellent'], axis=1).groupby('sleep_quality').mean()"
     ],
     "language": "python",
     "metadata": {},
     "outputs": [
      {
       "html": [
        "<div style=\"max-height:1000px;max-width:1500px;overflow:auto;\">\n",
        "<table border=\"1\" class=\"dataframe\">\n",
        "  <thead>\n",
        "    <tr style=\"text-align: right;\">\n",
        "      <th></th>\n",
        "      <th>excellent</th>\n",
        "      <th>very_good</th>\n",
        "      <th>average</th>\n",
        "      <th>poor</th>\n",
        "      <th>terrible</th>\n",
        "      <th>families</th>\n",
        "      <th>couples</th>\n",
        "      <th>solo</th>\n",
        "      <th>business</th>\n",
        "      <th>location</th>\n",
        "      <th>rooms</th>\n",
        "      <th>service</th>\n",
        "      <th>value</th>\n",
        "      <th>cleanliness</th>\n",
        "    </tr>\n",
        "    <tr>\n",
        "      <th>sleep_quality</th>\n",
        "      <th></th>\n",
        "      <th></th>\n",
        "      <th></th>\n",
        "      <th></th>\n",
        "      <th></th>\n",
        "      <th></th>\n",
        "      <th></th>\n",
        "      <th></th>\n",
        "      <th></th>\n",
        "      <th></th>\n",
        "      <th></th>\n",
        "      <th></th>\n",
        "      <th></th>\n",
        "      <th></th>\n",
        "    </tr>\n",
        "  </thead>\n",
        "  <tbody>\n",
        "    <tr>\n",
        "      <th>2.5</th>\n",
        "      <td>    2.000000</td>\n",
        "      <td>   2.000000</td>\n",
        "      <td>   8.000000</td>\n",
        "      <td>   1.000000</td>\n",
        "      <td>  5.000000</td>\n",
        "      <td>   4.000000</td>\n",
        "      <td>   3.000000</td>\n",
        "      <td>  2.000000</td>\n",
        "      <td>   3.000000</td>\n",
        "      <td> 3.000000</td>\n",
        "      <td> 2.500000</td>\n",
        "      <td> 2.500000</td>\n",
        "      <td> 3.000000</td>\n",
        "      <td> 3.000000</td>\n",
        "    </tr>\n",
        "    <tr>\n",
        "      <th>3.0</th>\n",
        "      <td>   47.333333</td>\n",
        "      <td> 119.666667</td>\n",
        "      <td> 136.000000</td>\n",
        "      <td>  78.333333</td>\n",
        "      <td> 47.000000</td>\n",
        "      <td>  80.333333</td>\n",
        "      <td> 118.666667</td>\n",
        "      <td> 33.666667</td>\n",
        "      <td> 102.000000</td>\n",
        "      <td> 3.666667</td>\n",
        "      <td> 3.166667</td>\n",
        "      <td> 3.333333</td>\n",
        "      <td> 3.166667</td>\n",
        "      <td> 3.500000</td>\n",
        "    </tr>\n",
        "    <tr>\n",
        "      <th>3.5</th>\n",
        "      <td>  203.384615</td>\n",
        "      <td> 317.923077</td>\n",
        "      <td> 203.307692</td>\n",
        "      <td> 105.538462</td>\n",
        "      <td> 78.692308</td>\n",
        "      <td> 187.230769</td>\n",
        "      <td> 247.307692</td>\n",
        "      <td> 68.615385</td>\n",
        "      <td> 231.769231</td>\n",
        "      <td> 4.153846</td>\n",
        "      <td> 3.576923</td>\n",
        "      <td> 3.769231</td>\n",
        "      <td> 3.692308</td>\n",
        "      <td> 3.884615</td>\n",
        "    </tr>\n",
        "    <tr>\n",
        "      <th>4.0</th>\n",
        "      <td>  426.200000</td>\n",
        "      <td> 440.880000</td>\n",
        "      <td> 169.600000</td>\n",
        "      <td>  63.520000</td>\n",
        "      <td> 36.320000</td>\n",
        "      <td> 251.320000</td>\n",
        "      <td> 341.400000</td>\n",
        "      <td> 80.120000</td>\n",
        "      <td> 264.720000</td>\n",
        "      <td> 4.560000</td>\n",
        "      <td> 3.960000</td>\n",
        "      <td> 4.140000</td>\n",
        "      <td> 3.880000</td>\n",
        "      <td> 4.420000</td>\n",
        "    </tr>\n",
        "    <tr>\n",
        "      <th>4.5</th>\n",
        "      <td>  648.468750</td>\n",
        "      <td> 312.906250</td>\n",
        "      <td>  90.000000</td>\n",
        "      <td>  33.312500</td>\n",
        "      <td> 18.312500</td>\n",
        "      <td> 236.031250</td>\n",
        "      <td> 368.250000</td>\n",
        "      <td> 60.687500</td>\n",
        "      <td> 258.906250</td>\n",
        "      <td> 4.718750</td>\n",
        "      <td> 4.375000</td>\n",
        "      <td> 4.468750</td>\n",
        "      <td> 4.078125</td>\n",
        "      <td> 4.609375</td>\n",
        "    </tr>\n",
        "    <tr>\n",
        "      <th>5.0</th>\n",
        "      <td> 1165.666667</td>\n",
        "      <td> 214.333333</td>\n",
        "      <td>  49.333333</td>\n",
        "      <td>  22.666667</td>\n",
        "      <td> 10.666667</td>\n",
        "      <td> 428.666667</td>\n",
        "      <td> 408.000000</td>\n",
        "      <td> 74.666667</td>\n",
        "      <td> 345.000000</td>\n",
        "      <td> 5.000000</td>\n",
        "      <td> 4.666667</td>\n",
        "      <td> 4.833333</td>\n",
        "      <td> 4.166667</td>\n",
        "      <td> 5.000000</td>\n",
        "    </tr>\n",
        "  </tbody>\n",
        "</table>\n",
        "</div>"
       ],
       "metadata": {},
       "output_type": "pyout",
       "prompt_number": 628,
       "text": [
        "                 excellent   very_good     average        poor   terrible  \\\n",
        "sleep_quality                                                               \n",
        "2.5               2.000000    2.000000    8.000000    1.000000   5.000000   \n",
        "3.0              47.333333  119.666667  136.000000   78.333333  47.000000   \n",
        "3.5             203.384615  317.923077  203.307692  105.538462  78.692308   \n",
        "4.0             426.200000  440.880000  169.600000   63.520000  36.320000   \n",
        "4.5             648.468750  312.906250   90.000000   33.312500  18.312500   \n",
        "5.0            1165.666667  214.333333   49.333333   22.666667  10.666667   \n",
        "\n",
        "                 families     couples       solo    business  location  \\\n",
        "sleep_quality                                                            \n",
        "2.5              4.000000    3.000000   2.000000    3.000000  3.000000   \n",
        "3.0             80.333333  118.666667  33.666667  102.000000  3.666667   \n",
        "3.5            187.230769  247.307692  68.615385  231.769231  4.153846   \n",
        "4.0            251.320000  341.400000  80.120000  264.720000  4.560000   \n",
        "4.5            236.031250  368.250000  60.687500  258.906250  4.718750   \n",
        "5.0            428.666667  408.000000  74.666667  345.000000  5.000000   \n",
        "\n",
        "                  rooms   service     value  cleanliness  \n",
        "sleep_quality                                             \n",
        "2.5            2.500000  2.500000  3.000000     3.000000  \n",
        "3.0            3.166667  3.333333  3.166667     3.500000  \n",
        "3.5            3.576923  3.769231  3.692308     3.884615  \n",
        "4.0            3.960000  4.140000  3.880000     4.420000  \n",
        "4.5            4.375000  4.468750  4.078125     4.609375  \n",
        "5.0            4.666667  4.833333  4.166667     5.000000  "
       ]
      }
     ],
     "prompt_number": 628
    },
    {
     "cell_type": "code",
     "collapsed": false,
     "input": [
      "hotels.drop(['avg_rating', 'is_excellent'], axis=1).groupby('solo').mean()"
     ],
     "language": "python",
     "metadata": {},
     "outputs": [
      {
       "html": [
        "<div style=\"max-height:1000px;max-width:1500px;overflow:auto;\">\n",
        "<table border=\"1\" class=\"dataframe\">\n",
        "  <thead>\n",
        "    <tr style=\"text-align: right;\">\n",
        "      <th></th>\n",
        "      <th>excellent</th>\n",
        "      <th>very_good</th>\n",
        "      <th>average</th>\n",
        "      <th>poor</th>\n",
        "      <th>terrible</th>\n",
        "      <th>families</th>\n",
        "      <th>couples</th>\n",
        "      <th>business</th>\n",
        "      <th>location</th>\n",
        "      <th>sleep_quality</th>\n",
        "      <th>rooms</th>\n",
        "      <th>service</th>\n",
        "      <th>value</th>\n",
        "      <th>cleanliness</th>\n",
        "    </tr>\n",
        "    <tr>\n",
        "      <th>solo</th>\n",
        "      <th></th>\n",
        "      <th></th>\n",
        "      <th></th>\n",
        "      <th></th>\n",
        "      <th></th>\n",
        "      <th></th>\n",
        "      <th></th>\n",
        "      <th></th>\n",
        "      <th></th>\n",
        "      <th></th>\n",
        "      <th></th>\n",
        "      <th></th>\n",
        "      <th></th>\n",
        "      <th></th>\n",
        "    </tr>\n",
        "  </thead>\n",
        "  <tbody>\n",
        "    <tr>\n",
        "      <th>2  </th>\n",
        "      <td>    2.000000</td>\n",
        "      <td>    2.000000</td>\n",
        "      <td>    8.000000</td>\n",
        "      <td>   1.000000</td>\n",
        "      <td>   5.000000</td>\n",
        "      <td>   4.000000</td>\n",
        "      <td>    3.000000</td>\n",
        "      <td>    3.000000</td>\n",
        "      <td> 3.000000</td>\n",
        "      <td> 2.500000</td>\n",
        "      <td> 2.500000</td>\n",
        "      <td> 2.500000</td>\n",
        "      <td> 3.000000</td>\n",
        "      <td> 3.000000</td>\n",
        "    </tr>\n",
        "    <tr>\n",
        "      <th>4  </th>\n",
        "      <td>  168.000000</td>\n",
        "      <td>   52.000000</td>\n",
        "      <td>    6.000000</td>\n",
        "      <td>   7.000000</td>\n",
        "      <td>   1.000000</td>\n",
        "      <td>  65.000000</td>\n",
        "      <td>   69.000000</td>\n",
        "      <td>   53.000000</td>\n",
        "      <td> 4.500000</td>\n",
        "      <td> 4.500000</td>\n",
        "      <td> 5.000000</td>\n",
        "      <td> 4.500000</td>\n",
        "      <td> 4.000000</td>\n",
        "      <td> 5.000000</td>\n",
        "    </tr>\n",
        "    <tr>\n",
        "      <th>12 </th>\n",
        "      <td>   19.000000</td>\n",
        "      <td>   32.000000</td>\n",
        "      <td>   57.000000</td>\n",
        "      <td>  49.000000</td>\n",
        "      <td>  33.000000</td>\n",
        "      <td>  58.000000</td>\n",
        "      <td>   31.000000</td>\n",
        "      <td>   41.000000</td>\n",
        "      <td> 3.500000</td>\n",
        "      <td> 3.000000</td>\n",
        "      <td> 3.000000</td>\n",
        "      <td> 3.000000</td>\n",
        "      <td> 3.000000</td>\n",
        "      <td> 3.000000</td>\n",
        "    </tr>\n",
        "    <tr>\n",
        "      <th>15 </th>\n",
        "      <td>  223.500000</td>\n",
        "      <td>   96.000000</td>\n",
        "      <td>   14.500000</td>\n",
        "      <td>  10.500000</td>\n",
        "      <td>   8.000000</td>\n",
        "      <td> 117.500000</td>\n",
        "      <td>  125.500000</td>\n",
        "      <td>   29.000000</td>\n",
        "      <td> 5.000000</td>\n",
        "      <td> 4.250000</td>\n",
        "      <td> 4.250000</td>\n",
        "      <td> 4.250000</td>\n",
        "      <td> 4.000000</td>\n",
        "      <td> 4.500000</td>\n",
        "    </tr>\n",
        "    <tr>\n",
        "      <th>16 </th>\n",
        "      <td>  217.000000</td>\n",
        "      <td>  125.000000</td>\n",
        "      <td>   43.500000</td>\n",
        "      <td>  18.000000</td>\n",
        "      <td>  11.000000</td>\n",
        "      <td> 135.500000</td>\n",
        "      <td>   89.000000</td>\n",
        "      <td>   65.500000</td>\n",
        "      <td> 4.500000</td>\n",
        "      <td> 4.000000</td>\n",
        "      <td> 4.000000</td>\n",
        "      <td> 4.250000</td>\n",
        "      <td> 4.000000</td>\n",
        "      <td> 4.500000</td>\n",
        "    </tr>\n",
        "    <tr>\n",
        "      <th>17 </th>\n",
        "      <td>  141.000000</td>\n",
        "      <td>  207.666667</td>\n",
        "      <td>   96.000000</td>\n",
        "      <td>  40.666667</td>\n",
        "      <td>  26.666667</td>\n",
        "      <td> 144.333333</td>\n",
        "      <td>  132.333333</td>\n",
        "      <td>  116.000000</td>\n",
        "      <td> 4.000000</td>\n",
        "      <td> 3.666667</td>\n",
        "      <td> 3.833333</td>\n",
        "      <td> 3.833333</td>\n",
        "      <td> 3.833333</td>\n",
        "      <td> 4.166667</td>\n",
        "    </tr>\n",
        "    <tr>\n",
        "      <th>18 </th>\n",
        "      <td>  176.000000</td>\n",
        "      <td>   95.000000</td>\n",
        "      <td>   27.000000</td>\n",
        "      <td>   4.500000</td>\n",
        "      <td>   5.000000</td>\n",
        "      <td>  49.500000</td>\n",
        "      <td>  112.000000</td>\n",
        "      <td>   43.500000</td>\n",
        "      <td> 4.500000</td>\n",
        "      <td> 4.500000</td>\n",
        "      <td> 4.250000</td>\n",
        "      <td> 4.500000</td>\n",
        "      <td> 4.250000</td>\n",
        "      <td> 4.750000</td>\n",
        "    </tr>\n",
        "    <tr>\n",
        "      <th>19 </th>\n",
        "      <td>  251.500000</td>\n",
        "      <td>  144.500000</td>\n",
        "      <td>   56.000000</td>\n",
        "      <td>  29.000000</td>\n",
        "      <td>  10.500000</td>\n",
        "      <td> 119.000000</td>\n",
        "      <td>  115.000000</td>\n",
        "      <td>  144.000000</td>\n",
        "      <td> 4.500000</td>\n",
        "      <td> 4.500000</td>\n",
        "      <td> 4.500000</td>\n",
        "      <td> 4.500000</td>\n",
        "      <td> 4.000000</td>\n",
        "      <td> 4.500000</td>\n",
        "    </tr>\n",
        "    <tr>\n",
        "      <th>22 </th>\n",
        "      <td>  284.500000</td>\n",
        "      <td>  189.000000</td>\n",
        "      <td>   57.500000</td>\n",
        "      <td>  19.000000</td>\n",
        "      <td>   7.500000</td>\n",
        "      <td> 143.000000</td>\n",
        "      <td>  182.500000</td>\n",
        "      <td>  112.500000</td>\n",
        "      <td> 4.250000</td>\n",
        "      <td> 4.000000</td>\n",
        "      <td> 4.500000</td>\n",
        "      <td> 4.250000</td>\n",
        "      <td> 4.000000</td>\n",
        "      <td> 4.500000</td>\n",
        "    </tr>\n",
        "    <tr>\n",
        "      <th>25 </th>\n",
        "      <td>  277.000000</td>\n",
        "      <td>  182.000000</td>\n",
        "      <td>   42.000000</td>\n",
        "      <td>  14.000000</td>\n",
        "      <td>   4.000000</td>\n",
        "      <td> 196.000000</td>\n",
        "      <td>  140.000000</td>\n",
        "      <td>   71.000000</td>\n",
        "      <td> 4.500000</td>\n",
        "      <td> 4.500000</td>\n",
        "      <td> 4.500000</td>\n",
        "      <td> 4.500000</td>\n",
        "      <td> 4.000000</td>\n",
        "      <td> 4.500000</td>\n",
        "    </tr>\n",
        "    <tr>\n",
        "      <th>26 </th>\n",
        "      <td>  173.000000</td>\n",
        "      <td>  185.000000</td>\n",
        "      <td>   44.000000</td>\n",
        "      <td>  20.000000</td>\n",
        "      <td>  14.000000</td>\n",
        "      <td>  64.000000</td>\n",
        "      <td>  200.000000</td>\n",
        "      <td>   45.000000</td>\n",
        "      <td> 5.000000</td>\n",
        "      <td> 4.500000</td>\n",
        "      <td> 4.000000</td>\n",
        "      <td> 4.000000</td>\n",
        "      <td> 4.000000</td>\n",
        "      <td> 4.500000</td>\n",
        "    </tr>\n",
        "    <tr>\n",
        "      <th>27 </th>\n",
        "      <td>   97.000000</td>\n",
        "      <td>  132.000000</td>\n",
        "      <td>   78.000000</td>\n",
        "      <td>  33.000000</td>\n",
        "      <td>  21.000000</td>\n",
        "      <td> 166.000000</td>\n",
        "      <td>   59.000000</td>\n",
        "      <td>   49.000000</td>\n",
        "      <td> 4.000000</td>\n",
        "      <td> 4.000000</td>\n",
        "      <td> 3.500000</td>\n",
        "      <td> 4.000000</td>\n",
        "      <td> 4.000000</td>\n",
        "      <td> 4.000000</td>\n",
        "    </tr>\n",
        "    <tr>\n",
        "      <th>28 </th>\n",
        "      <td>  396.000000</td>\n",
        "      <td>  211.000000</td>\n",
        "      <td>   78.000000</td>\n",
        "      <td>  28.000000</td>\n",
        "      <td>  32.000000</td>\n",
        "      <td> 126.000000</td>\n",
        "      <td>  265.000000</td>\n",
        "      <td>  173.000000</td>\n",
        "      <td> 4.500000</td>\n",
        "      <td> 4.000000</td>\n",
        "      <td> 4.000000</td>\n",
        "      <td> 4.500000</td>\n",
        "      <td> 3.500000</td>\n",
        "      <td> 4.500000</td>\n",
        "    </tr>\n",
        "    <tr>\n",
        "      <th>29 </th>\n",
        "      <td>  339.500000</td>\n",
        "      <td>  140.500000</td>\n",
        "      <td>   43.000000</td>\n",
        "      <td>  18.000000</td>\n",
        "      <td>  12.000000</td>\n",
        "      <td> 163.500000</td>\n",
        "      <td>  154.000000</td>\n",
        "      <td>   90.500000</td>\n",
        "      <td> 4.500000</td>\n",
        "      <td> 4.250000</td>\n",
        "      <td> 4.500000</td>\n",
        "      <td> 4.500000</td>\n",
        "      <td> 4.250000</td>\n",
        "      <td> 4.750000</td>\n",
        "    </tr>\n",
        "    <tr>\n",
        "      <th>30 </th>\n",
        "      <td>  308.000000</td>\n",
        "      <td>  200.500000</td>\n",
        "      <td>   91.000000</td>\n",
        "      <td>  24.500000</td>\n",
        "      <td>  18.000000</td>\n",
        "      <td> 142.000000</td>\n",
        "      <td>  184.000000</td>\n",
        "      <td>  181.000000</td>\n",
        "      <td> 4.750000</td>\n",
        "      <td> 4.500000</td>\n",
        "      <td> 4.250000</td>\n",
        "      <td> 4.250000</td>\n",
        "      <td> 3.750000</td>\n",
        "      <td> 4.750000</td>\n",
        "    </tr>\n",
        "    <tr>\n",
        "      <th>33 </th>\n",
        "      <td>   56.000000</td>\n",
        "      <td>  131.000000</td>\n",
        "      <td>  115.000000</td>\n",
        "      <td>  60.000000</td>\n",
        "      <td>  49.000000</td>\n",
        "      <td> 103.000000</td>\n",
        "      <td>  112.000000</td>\n",
        "      <td>   42.000000</td>\n",
        "      <td> 3.500000</td>\n",
        "      <td> 3.500000</td>\n",
        "      <td> 3.000000</td>\n",
        "      <td> 3.500000</td>\n",
        "      <td> 3.500000</td>\n",
        "      <td> 3.500000</td>\n",
        "    </tr>\n",
        "    <tr>\n",
        "      <th>37 </th>\n",
        "      <td>   77.500000</td>\n",
        "      <td>  148.000000</td>\n",
        "      <td>  103.500000</td>\n",
        "      <td>  45.500000</td>\n",
        "      <td>  37.000000</td>\n",
        "      <td>  73.000000</td>\n",
        "      <td>  136.500000</td>\n",
        "      <td>   73.500000</td>\n",
        "      <td> 4.500000</td>\n",
        "      <td> 3.500000</td>\n",
        "      <td> 3.250000</td>\n",
        "      <td> 3.500000</td>\n",
        "      <td> 3.750000</td>\n",
        "      <td> 3.500000</td>\n",
        "    </tr>\n",
        "    <tr>\n",
        "      <th>38 </th>\n",
        "      <td>  372.500000</td>\n",
        "      <td>  361.000000</td>\n",
        "      <td>  118.000000</td>\n",
        "      <td>  38.000000</td>\n",
        "      <td>  24.500000</td>\n",
        "      <td> 283.000000</td>\n",
        "      <td>  269.000000</td>\n",
        "      <td>  165.500000</td>\n",
        "      <td> 4.500000</td>\n",
        "      <td> 3.750000</td>\n",
        "      <td> 4.000000</td>\n",
        "      <td> 4.250000</td>\n",
        "      <td> 3.750000</td>\n",
        "      <td> 4.250000</td>\n",
        "    </tr>\n",
        "    <tr>\n",
        "      <th>40 </th>\n",
        "      <td>  348.000000</td>\n",
        "      <td>  157.500000</td>\n",
        "      <td>   66.000000</td>\n",
        "      <td>  29.000000</td>\n",
        "      <td>  13.500000</td>\n",
        "      <td> 102.000000</td>\n",
        "      <td>  257.000000</td>\n",
        "      <td>  126.500000</td>\n",
        "      <td> 4.500000</td>\n",
        "      <td> 4.250000</td>\n",
        "      <td> 4.250000</td>\n",
        "      <td> 4.250000</td>\n",
        "      <td> 3.750000</td>\n",
        "      <td> 4.500000</td>\n",
        "    </tr>\n",
        "    <tr>\n",
        "      <th>47 </th>\n",
        "      <td>  811.000000</td>\n",
        "      <td>  140.000000</td>\n",
        "      <td>   47.000000</td>\n",
        "      <td>  22.000000</td>\n",
        "      <td>  13.000000</td>\n",
        "      <td> 292.000000</td>\n",
        "      <td>  256.000000</td>\n",
        "      <td>  318.000000</td>\n",
        "      <td> 5.000000</td>\n",
        "      <td> 5.000000</td>\n",
        "      <td> 4.500000</td>\n",
        "      <td> 5.000000</td>\n",
        "      <td> 4.000000</td>\n",
        "      <td> 5.000000</td>\n",
        "    </tr>\n",
        "    <tr>\n",
        "      <th>51 </th>\n",
        "      <td>  554.666667</td>\n",
        "      <td>  240.333333</td>\n",
        "      <td>   68.666667</td>\n",
        "      <td>  24.000000</td>\n",
        "      <td>  13.333333</td>\n",
        "      <td> 167.333333</td>\n",
        "      <td>  384.000000</td>\n",
        "      <td>  179.666667</td>\n",
        "      <td> 4.666667</td>\n",
        "      <td> 4.500000</td>\n",
        "      <td> 4.500000</td>\n",
        "      <td> 4.500000</td>\n",
        "      <td> 4.166667</td>\n",
        "      <td> 4.500000</td>\n",
        "    </tr>\n",
        "    <tr>\n",
        "      <th>55 </th>\n",
        "      <td>  735.000000</td>\n",
        "      <td>  257.500000</td>\n",
        "      <td>   76.500000</td>\n",
        "      <td>  31.500000</td>\n",
        "      <td>  16.500000</td>\n",
        "      <td> 229.500000</td>\n",
        "      <td>  417.500000</td>\n",
        "      <td>  201.500000</td>\n",
        "      <td> 4.750000</td>\n",
        "      <td> 4.500000</td>\n",
        "      <td> 4.250000</td>\n",
        "      <td> 4.750000</td>\n",
        "      <td> 4.250000</td>\n",
        "      <td> 4.750000</td>\n",
        "    </tr>\n",
        "    <tr>\n",
        "      <th>56 </th>\n",
        "      <td>  203.000000</td>\n",
        "      <td>  215.000000</td>\n",
        "      <td>   94.000000</td>\n",
        "      <td>  34.000000</td>\n",
        "      <td>  22.000000</td>\n",
        "      <td> 173.000000</td>\n",
        "      <td>   95.000000</td>\n",
        "      <td>  163.000000</td>\n",
        "      <td> 4.000000</td>\n",
        "      <td> 3.500000</td>\n",
        "      <td> 4.500000</td>\n",
        "      <td> 4.000000</td>\n",
        "      <td> 4.000000</td>\n",
        "      <td> 4.500000</td>\n",
        "    </tr>\n",
        "    <tr>\n",
        "      <th>60 </th>\n",
        "      <td>  438.000000</td>\n",
        "      <td>  377.000000</td>\n",
        "      <td>  116.000000</td>\n",
        "      <td>  55.000000</td>\n",
        "      <td>  33.000000</td>\n",
        "      <td> 188.000000</td>\n",
        "      <td>  415.000000</td>\n",
        "      <td>  156.000000</td>\n",
        "      <td> 5.000000</td>\n",
        "      <td> 4.000000</td>\n",
        "      <td> 4.000000</td>\n",
        "      <td> 4.000000</td>\n",
        "      <td> 4.000000</td>\n",
        "      <td> 4.500000</td>\n",
        "    </tr>\n",
        "    <tr>\n",
        "      <th>61 </th>\n",
        "      <td>  347.000000</td>\n",
        "      <td>  162.000000</td>\n",
        "      <td>   96.000000</td>\n",
        "      <td>  43.000000</td>\n",
        "      <td>  39.000000</td>\n",
        "      <td> 238.000000</td>\n",
        "      <td>  100.000000</td>\n",
        "      <td>  187.000000</td>\n",
        "      <td> 4.500000</td>\n",
        "      <td> 4.000000</td>\n",
        "      <td> 4.000000</td>\n",
        "      <td> 4.500000</td>\n",
        "      <td> 4.000000</td>\n",
        "      <td> 4.000000</td>\n",
        "    </tr>\n",
        "    <tr>\n",
        "      <th>62 </th>\n",
        "      <td>  337.000000</td>\n",
        "      <td>  383.000000</td>\n",
        "      <td>  104.000000</td>\n",
        "      <td>  34.000000</td>\n",
        "      <td>  15.000000</td>\n",
        "      <td> 140.000000</td>\n",
        "      <td>  215.000000</td>\n",
        "      <td>  371.000000</td>\n",
        "      <td> 4.500000</td>\n",
        "      <td> 4.000000</td>\n",
        "      <td> 4.500000</td>\n",
        "      <td> 4.500000</td>\n",
        "      <td> 4.000000</td>\n",
        "      <td> 4.500000</td>\n",
        "    </tr>\n",
        "    <tr>\n",
        "      <th>63 </th>\n",
        "      <td>  169.000000</td>\n",
        "      <td>  373.000000</td>\n",
        "      <td>  149.000000</td>\n",
        "      <td>  67.000000</td>\n",
        "      <td>  70.000000</td>\n",
        "      <td> 178.000000</td>\n",
        "      <td>  276.000000</td>\n",
        "      <td>  106.000000</td>\n",
        "      <td> 4.500000</td>\n",
        "      <td> 4.000000</td>\n",
        "      <td> 3.500000</td>\n",
        "      <td> 4.000000</td>\n",
        "      <td> 4.000000</td>\n",
        "      <td> 4.000000</td>\n",
        "    </tr>\n",
        "    <tr>\n",
        "      <th>65 </th>\n",
        "      <td>  473.000000</td>\n",
        "      <td>  258.000000</td>\n",
        "      <td>   89.000000</td>\n",
        "      <td>  35.000000</td>\n",
        "      <td>  15.000000</td>\n",
        "      <td> 103.000000</td>\n",
        "      <td>  431.000000</td>\n",
        "      <td>  153.000000</td>\n",
        "      <td> 5.000000</td>\n",
        "      <td> 4.500000</td>\n",
        "      <td> 4.500000</td>\n",
        "      <td> 4.500000</td>\n",
        "      <td> 4.000000</td>\n",
        "      <td> 4.500000</td>\n",
        "    </tr>\n",
        "    <tr>\n",
        "      <th>67 </th>\n",
        "      <td>  418.000000</td>\n",
        "      <td>  262.000000</td>\n",
        "      <td>  107.000000</td>\n",
        "      <td>  50.000000</td>\n",
        "      <td>  28.000000</td>\n",
        "      <td> 128.000000</td>\n",
        "      <td>  312.000000</td>\n",
        "      <td>  218.000000</td>\n",
        "      <td> 4.500000</td>\n",
        "      <td> 4.500000</td>\n",
        "      <td> 4.000000</td>\n",
        "      <td> 4.500000</td>\n",
        "      <td> 3.500000</td>\n",
        "      <td> 4.500000</td>\n",
        "    </tr>\n",
        "    <tr>\n",
        "      <th>68 </th>\n",
        "      <td>  390.000000</td>\n",
        "      <td>  443.000000</td>\n",
        "      <td>  138.000000</td>\n",
        "      <td>  58.000000</td>\n",
        "      <td>  35.000000</td>\n",
        "      <td> 364.000000</td>\n",
        "      <td>  191.000000</td>\n",
        "      <td>  293.000000</td>\n",
        "      <td> 4.000000</td>\n",
        "      <td> 4.000000</td>\n",
        "      <td> 4.000000</td>\n",
        "      <td> 4.000000</td>\n",
        "      <td> 4.000000</td>\n",
        "      <td> 4.500000</td>\n",
        "    </tr>\n",
        "    <tr>\n",
        "      <th>70 </th>\n",
        "      <td>  628.000000</td>\n",
        "      <td>  276.000000</td>\n",
        "      <td>   43.000000</td>\n",
        "      <td>   8.000000</td>\n",
        "      <td>  11.000000</td>\n",
        "      <td> 230.000000</td>\n",
        "      <td>  222.000000</td>\n",
        "      <td>  300.000000</td>\n",
        "      <td> 5.000000</td>\n",
        "      <td> 4.500000</td>\n",
        "      <td> 4.500000</td>\n",
        "      <td> 4.500000</td>\n",
        "      <td> 4.500000</td>\n",
        "      <td> 4.500000</td>\n",
        "    </tr>\n",
        "    <tr>\n",
        "      <th>71 </th>\n",
        "      <td>  923.000000</td>\n",
        "      <td>  434.000000</td>\n",
        "      <td>  157.000000</td>\n",
        "      <td>  68.000000</td>\n",
        "      <td>  29.000000</td>\n",
        "      <td> 316.000000</td>\n",
        "      <td>  557.000000</td>\n",
        "      <td>  444.000000</td>\n",
        "      <td> 5.000000</td>\n",
        "      <td> 4.500000</td>\n",
        "      <td> 4.000000</td>\n",
        "      <td> 4.500000</td>\n",
        "      <td> 4.000000</td>\n",
        "      <td> 4.500000</td>\n",
        "    </tr>\n",
        "    <tr>\n",
        "      <th>72 </th>\n",
        "      <td>   76.000000</td>\n",
        "      <td>  233.000000</td>\n",
        "      <td>  266.000000</td>\n",
        "      <td> 152.000000</td>\n",
        "      <td>  81.000000</td>\n",
        "      <td> 114.000000</td>\n",
        "      <td>  234.000000</td>\n",
        "      <td>  224.000000</td>\n",
        "      <td> 4.000000</td>\n",
        "      <td> 3.000000</td>\n",
        "      <td> 3.000000</td>\n",
        "      <td> 3.500000</td>\n",
        "      <td> 3.000000</td>\n",
        "      <td> 3.500000</td>\n",
        "    </tr>\n",
        "    <tr>\n",
        "      <th>74 </th>\n",
        "      <td>  388.000000</td>\n",
        "      <td>  460.000000</td>\n",
        "      <td>   98.000000</td>\n",
        "      <td>  47.000000</td>\n",
        "      <td>  41.000000</td>\n",
        "      <td>  87.000000</td>\n",
        "      <td>  545.000000</td>\n",
        "      <td>  113.000000</td>\n",
        "      <td> 5.000000</td>\n",
        "      <td> 4.000000</td>\n",
        "      <td> 4.000000</td>\n",
        "      <td> 4.000000</td>\n",
        "      <td> 4.000000</td>\n",
        "      <td> 4.500000</td>\n",
        "    </tr>\n",
        "    <tr>\n",
        "      <th>76 </th>\n",
        "      <td>  259.000000</td>\n",
        "      <td>  346.000000</td>\n",
        "      <td>  228.000000</td>\n",
        "      <td>  76.000000</td>\n",
        "      <td>  37.000000</td>\n",
        "      <td> 234.000000</td>\n",
        "      <td>  247.000000</td>\n",
        "      <td>  224.000000</td>\n",
        "      <td> 4.000000</td>\n",
        "      <td> 3.500000</td>\n",
        "      <td> 4.000000</td>\n",
        "      <td> 4.000000</td>\n",
        "      <td> 3.500000</td>\n",
        "      <td> 4.000000</td>\n",
        "    </tr>\n",
        "    <tr>\n",
        "      <th>77 </th>\n",
        "      <td>  340.000000</td>\n",
        "      <td>  336.666667</td>\n",
        "      <td>  159.333333</td>\n",
        "      <td>  64.333333</td>\n",
        "      <td>  45.333333</td>\n",
        "      <td> 237.666667</td>\n",
        "      <td>  282.333333</td>\n",
        "      <td>  200.666667</td>\n",
        "      <td> 4.666667</td>\n",
        "      <td> 4.000000</td>\n",
        "      <td> 3.500000</td>\n",
        "      <td> 3.833333</td>\n",
        "      <td> 3.833333</td>\n",
        "      <td> 4.166667</td>\n",
        "    </tr>\n",
        "    <tr>\n",
        "      <th>78 </th>\n",
        "      <td> 1094.000000</td>\n",
        "      <td>  619.000000</td>\n",
        "      <td>  181.000000</td>\n",
        "      <td>  39.000000</td>\n",
        "      <td>  17.000000</td>\n",
        "      <td> 445.000000</td>\n",
        "      <td>  624.000000</td>\n",
        "      <td>  300.000000</td>\n",
        "      <td> 4.500000</td>\n",
        "      <td> 4.500000</td>\n",
        "      <td> 4.500000</td>\n",
        "      <td> 4.500000</td>\n",
        "      <td> 4.000000</td>\n",
        "      <td> 4.500000</td>\n",
        "    </tr>\n",
        "    <tr>\n",
        "      <th>83 </th>\n",
        "      <td>  130.000000</td>\n",
        "      <td>  235.000000</td>\n",
        "      <td>  256.000000</td>\n",
        "      <td> 172.000000</td>\n",
        "      <td> 127.000000</td>\n",
        "      <td> 296.000000</td>\n",
        "      <td>  195.000000</td>\n",
        "      <td>  163.000000</td>\n",
        "      <td> 3.500000</td>\n",
        "      <td> 3.500000</td>\n",
        "      <td> 3.000000</td>\n",
        "      <td> 3.500000</td>\n",
        "      <td> 3.500000</td>\n",
        "      <td> 3.500000</td>\n",
        "    </tr>\n",
        "    <tr>\n",
        "      <th>88 </th>\n",
        "      <td>  540.000000</td>\n",
        "      <td>  360.000000</td>\n",
        "      <td>  103.000000</td>\n",
        "      <td>  28.000000</td>\n",
        "      <td>  15.000000</td>\n",
        "      <td> 188.000000</td>\n",
        "      <td>  418.000000</td>\n",
        "      <td>  223.000000</td>\n",
        "      <td> 5.000000</td>\n",
        "      <td> 4.500000</td>\n",
        "      <td> 4.000000</td>\n",
        "      <td> 4.500000</td>\n",
        "      <td> 4.000000</td>\n",
        "      <td> 4.500000</td>\n",
        "    </tr>\n",
        "    <tr>\n",
        "      <th>95 </th>\n",
        "      <td>  483.500000</td>\n",
        "      <td>  619.500000</td>\n",
        "      <td>  201.500000</td>\n",
        "      <td>  66.000000</td>\n",
        "      <td>  26.500000</td>\n",
        "      <td> 242.000000</td>\n",
        "      <td>  385.000000</td>\n",
        "      <td>  425.000000</td>\n",
        "      <td> 4.750000</td>\n",
        "      <td> 4.000000</td>\n",
        "      <td> 4.000000</td>\n",
        "      <td> 4.000000</td>\n",
        "      <td> 3.750000</td>\n",
        "      <td> 4.500000</td>\n",
        "    </tr>\n",
        "    <tr>\n",
        "      <th>101</th>\n",
        "      <td>  348.000000</td>\n",
        "      <td>  404.000000</td>\n",
        "      <td>  186.000000</td>\n",
        "      <td>  70.000000</td>\n",
        "      <td>  32.000000</td>\n",
        "      <td> 363.000000</td>\n",
        "      <td>  167.000000</td>\n",
        "      <td>  281.000000</td>\n",
        "      <td> 4.500000</td>\n",
        "      <td> 4.000000</td>\n",
        "      <td> 4.000000</td>\n",
        "      <td> 4.000000</td>\n",
        "      <td> 3.500000</td>\n",
        "      <td> 4.500000</td>\n",
        "    </tr>\n",
        "    <tr>\n",
        "      <th>103</th>\n",
        "      <td> 1174.500000</td>\n",
        "      <td>  673.000000</td>\n",
        "      <td>  218.500000</td>\n",
        "      <td>  78.000000</td>\n",
        "      <td>  41.500000</td>\n",
        "      <td> 509.500000</td>\n",
        "      <td>  555.500000</td>\n",
        "      <td>  650.000000</td>\n",
        "      <td> 5.000000</td>\n",
        "      <td> 4.500000</td>\n",
        "      <td> 4.500000</td>\n",
        "      <td> 4.500000</td>\n",
        "      <td> 4.000000</td>\n",
        "      <td> 4.500000</td>\n",
        "    </tr>\n",
        "    <tr>\n",
        "      <th>105</th>\n",
        "      <td>  480.000000</td>\n",
        "      <td>  424.000000</td>\n",
        "      <td>  166.000000</td>\n",
        "      <td>  67.000000</td>\n",
        "      <td>  34.000000</td>\n",
        "      <td> 240.000000</td>\n",
        "      <td>  335.000000</td>\n",
        "      <td>  329.000000</td>\n",
        "      <td> 4.500000</td>\n",
        "      <td> 4.000000</td>\n",
        "      <td> 4.000000</td>\n",
        "      <td> 4.500000</td>\n",
        "      <td> 4.000000</td>\n",
        "      <td> 4.500000</td>\n",
        "    </tr>\n",
        "    <tr>\n",
        "      <th>106</th>\n",
        "      <td>  255.000000</td>\n",
        "      <td>  608.000000</td>\n",
        "      <td>  340.000000</td>\n",
        "      <td> 124.000000</td>\n",
        "      <td>  64.000000</td>\n",
        "      <td> 395.000000</td>\n",
        "      <td>  327.000000</td>\n",
        "      <td>  244.000000</td>\n",
        "      <td> 4.500000</td>\n",
        "      <td> 4.000000</td>\n",
        "      <td> 3.500000</td>\n",
        "      <td> 4.000000</td>\n",
        "      <td> 4.000000</td>\n",
        "      <td> 4.000000</td>\n",
        "    </tr>\n",
        "    <tr>\n",
        "      <th>107</th>\n",
        "      <td>  586.000000</td>\n",
        "      <td>  637.000000</td>\n",
        "      <td>  267.000000</td>\n",
        "      <td>  85.000000</td>\n",
        "      <td>  46.000000</td>\n",
        "      <td> 234.000000</td>\n",
        "      <td>  383.000000</td>\n",
        "      <td>  728.000000</td>\n",
        "      <td> 4.500000</td>\n",
        "      <td> 3.500000</td>\n",
        "      <td> 4.000000</td>\n",
        "      <td> 4.000000</td>\n",
        "      <td> 3.500000</td>\n",
        "      <td> 4.500000</td>\n",
        "    </tr>\n",
        "    <tr>\n",
        "      <th>108</th>\n",
        "      <td> 1101.500000</td>\n",
        "      <td>  448.000000</td>\n",
        "      <td>  129.500000</td>\n",
        "      <td>  44.500000</td>\n",
        "      <td>  38.000000</td>\n",
        "      <td> 290.000000</td>\n",
        "      <td>  484.500000</td>\n",
        "      <td>  630.500000</td>\n",
        "      <td> 4.500000</td>\n",
        "      <td> 4.250000</td>\n",
        "      <td> 4.000000</td>\n",
        "      <td> 4.250000</td>\n",
        "      <td> 4.250000</td>\n",
        "      <td> 4.750000</td>\n",
        "    </tr>\n",
        "    <tr>\n",
        "      <th>112</th>\n",
        "      <td>  415.000000</td>\n",
        "      <td>  420.000000</td>\n",
        "      <td>  133.000000</td>\n",
        "      <td>  49.000000</td>\n",
        "      <td>  34.000000</td>\n",
        "      <td> 111.000000</td>\n",
        "      <td>  354.000000</td>\n",
        "      <td>  239.000000</td>\n",
        "      <td> 4.500000</td>\n",
        "      <td> 4.000000</td>\n",
        "      <td> 4.000000</td>\n",
        "      <td> 4.000000</td>\n",
        "      <td> 4.000000</td>\n",
        "      <td> 4.500000</td>\n",
        "    </tr>\n",
        "    <tr>\n",
        "      <th>115</th>\n",
        "      <td>  627.000000</td>\n",
        "      <td>  738.000000</td>\n",
        "      <td>  381.000000</td>\n",
        "      <td> 133.000000</td>\n",
        "      <td>  55.000000</td>\n",
        "      <td> 393.000000</td>\n",
        "      <td>  568.000000</td>\n",
        "      <td>  474.000000</td>\n",
        "      <td> 4.500000</td>\n",
        "      <td> 4.000000</td>\n",
        "      <td> 4.000000</td>\n",
        "      <td> 4.000000</td>\n",
        "      <td> 3.500000</td>\n",
        "      <td> 4.500000</td>\n",
        "    </tr>\n",
        "    <tr>\n",
        "      <th>116</th>\n",
        "      <td>  575.000000</td>\n",
        "      <td>  731.000000</td>\n",
        "      <td>  283.000000</td>\n",
        "      <td>  91.000000</td>\n",
        "      <td>  27.000000</td>\n",
        "      <td> 413.000000</td>\n",
        "      <td>  458.000000</td>\n",
        "      <td>  471.000000</td>\n",
        "      <td> 4.500000</td>\n",
        "      <td> 4.000000</td>\n",
        "      <td> 4.000000</td>\n",
        "      <td> 4.000000</td>\n",
        "      <td> 4.000000</td>\n",
        "      <td> 4.500000</td>\n",
        "    </tr>\n",
        "    <tr>\n",
        "      <th>119</th>\n",
        "      <td> 1179.000000</td>\n",
        "      <td>  496.000000</td>\n",
        "      <td>  105.000000</td>\n",
        "      <td>  30.000000</td>\n",
        "      <td>  19.000000</td>\n",
        "      <td> 328.000000</td>\n",
        "      <td>  830.000000</td>\n",
        "      <td>  324.000000</td>\n",
        "      <td> 5.000000</td>\n",
        "      <td> 4.500000</td>\n",
        "      <td> 4.500000</td>\n",
        "      <td> 4.500000</td>\n",
        "      <td> 4.000000</td>\n",
        "      <td> 4.500000</td>\n",
        "    </tr>\n",
        "    <tr>\n",
        "      <th>126</th>\n",
        "      <td>  269.000000</td>\n",
        "      <td>  406.000000</td>\n",
        "      <td>  110.000000</td>\n",
        "      <td>  48.000000</td>\n",
        "      <td>  25.000000</td>\n",
        "      <td>  77.000000</td>\n",
        "      <td>  367.000000</td>\n",
        "      <td>  120.000000</td>\n",
        "      <td> 4.500000</td>\n",
        "      <td> 4.000000</td>\n",
        "      <td> 4.000000</td>\n",
        "      <td> 4.000000</td>\n",
        "      <td> 4.000000</td>\n",
        "      <td> 4.500000</td>\n",
        "    </tr>\n",
        "    <tr>\n",
        "      <th>127</th>\n",
        "      <td> 1138.000000</td>\n",
        "      <td>  526.000000</td>\n",
        "      <td>  130.000000</td>\n",
        "      <td>  56.000000</td>\n",
        "      <td>  47.000000</td>\n",
        "      <td> 383.000000</td>\n",
        "      <td>  665.000000</td>\n",
        "      <td>  475.000000</td>\n",
        "      <td> 4.500000</td>\n",
        "      <td> 4.500000</td>\n",
        "      <td> 4.500000</td>\n",
        "      <td> 4.500000</td>\n",
        "      <td> 4.000000</td>\n",
        "      <td> 4.500000</td>\n",
        "    </tr>\n",
        "    <tr>\n",
        "      <th>143</th>\n",
        "      <td> 1884.000000</td>\n",
        "      <td>  509.000000</td>\n",
        "      <td>  107.000000</td>\n",
        "      <td>  46.000000</td>\n",
        "      <td>  20.000000</td>\n",
        "      <td> 632.000000</td>\n",
        "      <td>  986.000000</td>\n",
        "      <td>  383.000000</td>\n",
        "      <td> 5.000000</td>\n",
        "      <td> 4.500000</td>\n",
        "      <td> 4.500000</td>\n",
        "      <td> 5.000000</td>\n",
        "      <td> 4.500000</td>\n",
        "      <td> 5.000000</td>\n",
        "    </tr>\n",
        "    <tr>\n",
        "      <th>147</th>\n",
        "      <td> 2372.000000</td>\n",
        "      <td>  442.000000</td>\n",
        "      <td>   81.000000</td>\n",
        "      <td>  39.000000</td>\n",
        "      <td>  13.000000</td>\n",
        "      <td> 916.000000</td>\n",
        "      <td>  853.000000</td>\n",
        "      <td>  585.000000</td>\n",
        "      <td> 5.000000</td>\n",
        "      <td> 5.000000</td>\n",
        "      <td> 5.000000</td>\n",
        "      <td> 5.000000</td>\n",
        "      <td> 4.500000</td>\n",
        "      <td> 5.000000</td>\n",
        "    </tr>\n",
        "    <tr>\n",
        "      <th>192</th>\n",
        "      <td>  686.000000</td>\n",
        "      <td>  857.000000</td>\n",
        "      <td>  295.000000</td>\n",
        "      <td>  85.000000</td>\n",
        "      <td>  47.000000</td>\n",
        "      <td> 422.000000</td>\n",
        "      <td>  514.000000</td>\n",
        "      <td>  604.000000</td>\n",
        "      <td> 4.500000</td>\n",
        "      <td> 4.500000</td>\n",
        "      <td> 4.000000</td>\n",
        "      <td> 4.000000</td>\n",
        "      <td> 3.500000</td>\n",
        "      <td> 4.500000</td>\n",
        "    </tr>\n",
        "    <tr>\n",
        "      <th>252</th>\n",
        "      <td> 2032.000000</td>\n",
        "      <td> 1490.000000</td>\n",
        "      <td>  563.000000</td>\n",
        "      <td> 244.000000</td>\n",
        "      <td> 134.000000</td>\n",
        "      <td> 919.000000</td>\n",
        "      <td> 1520.000000</td>\n",
        "      <td> 1014.000000</td>\n",
        "      <td> 5.000000</td>\n",
        "      <td> 4.000000</td>\n",
        "      <td> 4.000000</td>\n",
        "      <td> 4.500000</td>\n",
        "      <td> 4.000000</td>\n",
        "      <td> 4.500000</td>\n",
        "    </tr>\n",
        "    <tr>\n",
        "      <th>293</th>\n",
        "      <td>  741.000000</td>\n",
        "      <td> 1317.000000</td>\n",
        "      <td> 1016.000000</td>\n",
        "      <td> 664.000000</td>\n",
        "      <td> 516.000000</td>\n",
        "      <td> 633.000000</td>\n",
        "      <td> 1248.000000</td>\n",
        "      <td> 1190.000000</td>\n",
        "      <td> 4.500000</td>\n",
        "      <td> 3.500000</td>\n",
        "      <td> 3.000000</td>\n",
        "      <td> 3.500000</td>\n",
        "      <td> 3.500000</td>\n",
        "      <td> 3.500000</td>\n",
        "    </tr>\n",
        "  </tbody>\n",
        "</table>\n",
        "</div>"
       ],
       "metadata": {},
       "output_type": "pyout",
       "prompt_number": 629,
       "text": [
        "        excellent    very_good      average        poor    terrible  \\\n",
        "solo                                                                  \n",
        "2        2.000000     2.000000     8.000000    1.000000    5.000000   \n",
        "4      168.000000    52.000000     6.000000    7.000000    1.000000   \n",
        "12      19.000000    32.000000    57.000000   49.000000   33.000000   \n",
        "15     223.500000    96.000000    14.500000   10.500000    8.000000   \n",
        "16     217.000000   125.000000    43.500000   18.000000   11.000000   \n",
        "17     141.000000   207.666667    96.000000   40.666667   26.666667   \n",
        "18     176.000000    95.000000    27.000000    4.500000    5.000000   \n",
        "19     251.500000   144.500000    56.000000   29.000000   10.500000   \n",
        "22     284.500000   189.000000    57.500000   19.000000    7.500000   \n",
        "25     277.000000   182.000000    42.000000   14.000000    4.000000   \n",
        "26     173.000000   185.000000    44.000000   20.000000   14.000000   \n",
        "27      97.000000   132.000000    78.000000   33.000000   21.000000   \n",
        "28     396.000000   211.000000    78.000000   28.000000   32.000000   \n",
        "29     339.500000   140.500000    43.000000   18.000000   12.000000   \n",
        "30     308.000000   200.500000    91.000000   24.500000   18.000000   \n",
        "33      56.000000   131.000000   115.000000   60.000000   49.000000   \n",
        "37      77.500000   148.000000   103.500000   45.500000   37.000000   \n",
        "38     372.500000   361.000000   118.000000   38.000000   24.500000   \n",
        "40     348.000000   157.500000    66.000000   29.000000   13.500000   \n",
        "47     811.000000   140.000000    47.000000   22.000000   13.000000   \n",
        "51     554.666667   240.333333    68.666667   24.000000   13.333333   \n",
        "55     735.000000   257.500000    76.500000   31.500000   16.500000   \n",
        "56     203.000000   215.000000    94.000000   34.000000   22.000000   \n",
        "60     438.000000   377.000000   116.000000   55.000000   33.000000   \n",
        "61     347.000000   162.000000    96.000000   43.000000   39.000000   \n",
        "62     337.000000   383.000000   104.000000   34.000000   15.000000   \n",
        "63     169.000000   373.000000   149.000000   67.000000   70.000000   \n",
        "65     473.000000   258.000000    89.000000   35.000000   15.000000   \n",
        "67     418.000000   262.000000   107.000000   50.000000   28.000000   \n",
        "68     390.000000   443.000000   138.000000   58.000000   35.000000   \n",
        "70     628.000000   276.000000    43.000000    8.000000   11.000000   \n",
        "71     923.000000   434.000000   157.000000   68.000000   29.000000   \n",
        "72      76.000000   233.000000   266.000000  152.000000   81.000000   \n",
        "74     388.000000   460.000000    98.000000   47.000000   41.000000   \n",
        "76     259.000000   346.000000   228.000000   76.000000   37.000000   \n",
        "77     340.000000   336.666667   159.333333   64.333333   45.333333   \n",
        "78    1094.000000   619.000000   181.000000   39.000000   17.000000   \n",
        "83     130.000000   235.000000   256.000000  172.000000  127.000000   \n",
        "88     540.000000   360.000000   103.000000   28.000000   15.000000   \n",
        "95     483.500000   619.500000   201.500000   66.000000   26.500000   \n",
        "101    348.000000   404.000000   186.000000   70.000000   32.000000   \n",
        "103   1174.500000   673.000000   218.500000   78.000000   41.500000   \n",
        "105    480.000000   424.000000   166.000000   67.000000   34.000000   \n",
        "106    255.000000   608.000000   340.000000  124.000000   64.000000   \n",
        "107    586.000000   637.000000   267.000000   85.000000   46.000000   \n",
        "108   1101.500000   448.000000   129.500000   44.500000   38.000000   \n",
        "112    415.000000   420.000000   133.000000   49.000000   34.000000   \n",
        "115    627.000000   738.000000   381.000000  133.000000   55.000000   \n",
        "116    575.000000   731.000000   283.000000   91.000000   27.000000   \n",
        "119   1179.000000   496.000000   105.000000   30.000000   19.000000   \n",
        "126    269.000000   406.000000   110.000000   48.000000   25.000000   \n",
        "127   1138.000000   526.000000   130.000000   56.000000   47.000000   \n",
        "143   1884.000000   509.000000   107.000000   46.000000   20.000000   \n",
        "147   2372.000000   442.000000    81.000000   39.000000   13.000000   \n",
        "192    686.000000   857.000000   295.000000   85.000000   47.000000   \n",
        "252   2032.000000  1490.000000   563.000000  244.000000  134.000000   \n",
        "293    741.000000  1317.000000  1016.000000  664.000000  516.000000   \n",
        "\n",
        "        families      couples     business  location  sleep_quality     rooms  \\\n",
        "solo                                                                            \n",
        "2       4.000000     3.000000     3.000000  3.000000       2.500000  2.500000   \n",
        "4      65.000000    69.000000    53.000000  4.500000       4.500000  5.000000   \n",
        "12     58.000000    31.000000    41.000000  3.500000       3.000000  3.000000   \n",
        "15    117.500000   125.500000    29.000000  5.000000       4.250000  4.250000   \n",
        "16    135.500000    89.000000    65.500000  4.500000       4.000000  4.000000   \n",
        "17    144.333333   132.333333   116.000000  4.000000       3.666667  3.833333   \n",
        "18     49.500000   112.000000    43.500000  4.500000       4.500000  4.250000   \n",
        "19    119.000000   115.000000   144.000000  4.500000       4.500000  4.500000   \n",
        "22    143.000000   182.500000   112.500000  4.250000       4.000000  4.500000   \n",
        "25    196.000000   140.000000    71.000000  4.500000       4.500000  4.500000   \n",
        "26     64.000000   200.000000    45.000000  5.000000       4.500000  4.000000   \n",
        "27    166.000000    59.000000    49.000000  4.000000       4.000000  3.500000   \n",
        "28    126.000000   265.000000   173.000000  4.500000       4.000000  4.000000   \n",
        "29    163.500000   154.000000    90.500000  4.500000       4.250000  4.500000   \n",
        "30    142.000000   184.000000   181.000000  4.750000       4.500000  4.250000   \n",
        "33    103.000000   112.000000    42.000000  3.500000       3.500000  3.000000   \n",
        "37     73.000000   136.500000    73.500000  4.500000       3.500000  3.250000   \n",
        "38    283.000000   269.000000   165.500000  4.500000       3.750000  4.000000   \n",
        "40    102.000000   257.000000   126.500000  4.500000       4.250000  4.250000   \n",
        "47    292.000000   256.000000   318.000000  5.000000       5.000000  4.500000   \n",
        "51    167.333333   384.000000   179.666667  4.666667       4.500000  4.500000   \n",
        "55    229.500000   417.500000   201.500000  4.750000       4.500000  4.250000   \n",
        "56    173.000000    95.000000   163.000000  4.000000       3.500000  4.500000   \n",
        "60    188.000000   415.000000   156.000000  5.000000       4.000000  4.000000   \n",
        "61    238.000000   100.000000   187.000000  4.500000       4.000000  4.000000   \n",
        "62    140.000000   215.000000   371.000000  4.500000       4.000000  4.500000   \n",
        "63    178.000000   276.000000   106.000000  4.500000       4.000000  3.500000   \n",
        "65    103.000000   431.000000   153.000000  5.000000       4.500000  4.500000   \n",
        "67    128.000000   312.000000   218.000000  4.500000       4.500000  4.000000   \n",
        "68    364.000000   191.000000   293.000000  4.000000       4.000000  4.000000   \n",
        "70    230.000000   222.000000   300.000000  5.000000       4.500000  4.500000   \n",
        "71    316.000000   557.000000   444.000000  5.000000       4.500000  4.000000   \n",
        "72    114.000000   234.000000   224.000000  4.000000       3.000000  3.000000   \n",
        "74     87.000000   545.000000   113.000000  5.000000       4.000000  4.000000   \n",
        "76    234.000000   247.000000   224.000000  4.000000       3.500000  4.000000   \n",
        "77    237.666667   282.333333   200.666667  4.666667       4.000000  3.500000   \n",
        "78    445.000000   624.000000   300.000000  4.500000       4.500000  4.500000   \n",
        "83    296.000000   195.000000   163.000000  3.500000       3.500000  3.000000   \n",
        "88    188.000000   418.000000   223.000000  5.000000       4.500000  4.000000   \n",
        "95    242.000000   385.000000   425.000000  4.750000       4.000000  4.000000   \n",
        "101   363.000000   167.000000   281.000000  4.500000       4.000000  4.000000   \n",
        "103   509.500000   555.500000   650.000000  5.000000       4.500000  4.500000   \n",
        "105   240.000000   335.000000   329.000000  4.500000       4.000000  4.000000   \n",
        "106   395.000000   327.000000   244.000000  4.500000       4.000000  3.500000   \n",
        "107   234.000000   383.000000   728.000000  4.500000       3.500000  4.000000   \n",
        "108   290.000000   484.500000   630.500000  4.500000       4.250000  4.000000   \n",
        "112   111.000000   354.000000   239.000000  4.500000       4.000000  4.000000   \n",
        "115   393.000000   568.000000   474.000000  4.500000       4.000000  4.000000   \n",
        "116   413.000000   458.000000   471.000000  4.500000       4.000000  4.000000   \n",
        "119   328.000000   830.000000   324.000000  5.000000       4.500000  4.500000   \n",
        "126    77.000000   367.000000   120.000000  4.500000       4.000000  4.000000   \n",
        "127   383.000000   665.000000   475.000000  4.500000       4.500000  4.500000   \n",
        "143   632.000000   986.000000   383.000000  5.000000       4.500000  4.500000   \n",
        "147   916.000000   853.000000   585.000000  5.000000       5.000000  5.000000   \n",
        "192   422.000000   514.000000   604.000000  4.500000       4.500000  4.000000   \n",
        "252   919.000000  1520.000000  1014.000000  5.000000       4.000000  4.000000   \n",
        "293   633.000000  1248.000000  1190.000000  4.500000       3.500000  3.000000   \n",
        "\n",
        "       service     value  cleanliness  \n",
        "solo                                   \n",
        "2     2.500000  3.000000     3.000000  \n",
        "4     4.500000  4.000000     5.000000  \n",
        "12    3.000000  3.000000     3.000000  \n",
        "15    4.250000  4.000000     4.500000  \n",
        "16    4.250000  4.000000     4.500000  \n",
        "17    3.833333  3.833333     4.166667  \n",
        "18    4.500000  4.250000     4.750000  \n",
        "19    4.500000  4.000000     4.500000  \n",
        "22    4.250000  4.000000     4.500000  \n",
        "25    4.500000  4.000000     4.500000  \n",
        "26    4.000000  4.000000     4.500000  \n",
        "27    4.000000  4.000000     4.000000  \n",
        "28    4.500000  3.500000     4.500000  \n",
        "29    4.500000  4.250000     4.750000  \n",
        "30    4.250000  3.750000     4.750000  \n",
        "33    3.500000  3.500000     3.500000  \n",
        "37    3.500000  3.750000     3.500000  \n",
        "38    4.250000  3.750000     4.250000  \n",
        "40    4.250000  3.750000     4.500000  \n",
        "47    5.000000  4.000000     5.000000  \n",
        "51    4.500000  4.166667     4.500000  \n",
        "55    4.750000  4.250000     4.750000  \n",
        "56    4.000000  4.000000     4.500000  \n",
        "60    4.000000  4.000000     4.500000  \n",
        "61    4.500000  4.000000     4.000000  \n",
        "62    4.500000  4.000000     4.500000  \n",
        "63    4.000000  4.000000     4.000000  \n",
        "65    4.500000  4.000000     4.500000  \n",
        "67    4.500000  3.500000     4.500000  \n",
        "68    4.000000  4.000000     4.500000  \n",
        "70    4.500000  4.500000     4.500000  \n",
        "71    4.500000  4.000000     4.500000  \n",
        "72    3.500000  3.000000     3.500000  \n",
        "74    4.000000  4.000000     4.500000  \n",
        "76    4.000000  3.500000     4.000000  \n",
        "77    3.833333  3.833333     4.166667  \n",
        "78    4.500000  4.000000     4.500000  \n",
        "83    3.500000  3.500000     3.500000  \n",
        "88    4.500000  4.000000     4.500000  \n",
        "95    4.000000  3.750000     4.500000  \n",
        "101   4.000000  3.500000     4.500000  \n",
        "103   4.500000  4.000000     4.500000  \n",
        "105   4.500000  4.000000     4.500000  \n",
        "106   4.000000  4.000000     4.000000  \n",
        "107   4.000000  3.500000     4.500000  \n",
        "108   4.250000  4.250000     4.750000  \n",
        "112   4.000000  4.000000     4.500000  \n",
        "115   4.000000  3.500000     4.500000  \n",
        "116   4.000000  4.000000     4.500000  \n",
        "119   4.500000  4.000000     4.500000  \n",
        "126   4.000000  4.000000     4.500000  \n",
        "127   4.500000  4.000000     4.500000  \n",
        "143   5.000000  4.500000     5.000000  \n",
        "147   5.000000  4.500000     5.000000  \n",
        "192   4.000000  3.500000     4.500000  \n",
        "252   4.500000  4.000000     4.500000  \n",
        "293   3.500000  3.500000     3.500000  "
       ]
      }
     ],
     "prompt_number": 629
    },
    {
     "cell_type": "markdown",
     "metadata": {},
     "source": [
      "Sleep quality has a fairly substantial difference when compared between excellent and not excellent hotels. Excellent reviews, location, rooms, service, value, and cleanliness are all correlated to increase as sleep quality increases as well. This makes sense in terms of our understanding of higher quality hotels having better amenities as a whole and therefore, they better serve their customers and receive higher ratings."
     ]
    },
    {
     "cell_type": "markdown",
     "metadata": {},
     "source": [
      "Running the logistical regression model requires setting a new target and data pairing. The target is the boolean feature of 'is_excellent'."
     ]
    },
    {
     "cell_type": "code",
     "collapsed": false,
     "input": [
      "target_2 = hotels['is_excellent'].as_matrix()\n",
      "data_2 = hotels.drop(['is_excellent', 'avg_rating'], 1).as_matrix()\n",
      "a = target_2\n",
      "B = data_2\n",
      "print a.shape\n",
      "print B.shape"
     ],
     "language": "python",
     "metadata": {},
     "outputs": [
      {
       "output_type": "stream",
       "stream": "stdout",
       "text": [
        "(77,)\n",
        "(77, 15)\n"
       ]
      }
     ],
     "prompt_number": 617
    },
    {
     "cell_type": "code",
     "collapsed": false,
     "input": [
      "# evaluate the model by splitting into train and test sets\n",
      "B_train, B_test, a_train, a_test = cross_validation.train_test_split(B,\n",
      "                                                                     a,\n",
      "                                                                     test_size=0.8,\n",
      "                                                                     random_state=0\n",
      "                                                                     )\n",
      "logistic_regr = linear_model.LogisticRegression()\n",
      "logistic_regr.fit(B_train, a_train)"
     ],
     "language": "python",
     "metadata": {},
     "outputs": [
      {
       "metadata": {},
       "output_type": "pyout",
       "prompt_number": 618,
       "text": [
        "LogisticRegression(C=1.0, class_weight=None, dual=False, fit_intercept=True,\n",
        "          intercept_scaling=1, penalty='l2', random_state=None, tol=0.0001)"
       ]
      }
     ],
     "prompt_number": 618
    },
    {
     "cell_type": "code",
     "collapsed": false,
     "input": [
      "# predict class labels for the test set\n",
      "a_predicted = logistic_regr.predict(B_test)\n",
      "print a_predicted"
     ],
     "language": "python",
     "metadata": {},
     "outputs": [
      {
       "output_type": "stream",
       "stream": "stdout",
       "text": [
        "[0 0 1 1 0 1 0 0 0 0 1 1 0 0 0 0 1 0 0 1 1 0 1 0 0 1 0 0 0 0 0 0 0 0 0 0 1\n",
        " 1 0 0 0 0 1 0 0 0 1 0 1 1 0 0 1 0 0 1 0 1 0 0 0 0]\n"
       ]
      }
     ],
     "prompt_number": 619
    },
    {
     "cell_type": "code",
     "collapsed": false,
     "input": [
      "# generate evaluation metrics\n",
      "print metrics.accuracy_score(a_test, a_predicted)"
     ],
     "language": "python",
     "metadata": {},
     "outputs": [
      {
       "output_type": "stream",
       "stream": "stdout",
       "text": [
        "0.935483870968\n"
       ]
      }
     ],
     "prompt_number": 620
    },
    {
     "cell_type": "code",
     "collapsed": false,
     "input": [
      "print \"Follows Predict Col, Actual Row 0,1 format\"\n",
      "print metrics.confusion_matrix(a_test, a_predicted)\n",
      "print metrics.classification_report(a_test, a_predicted)"
     ],
     "language": "python",
     "metadata": {},
     "outputs": [
      {
       "output_type": "stream",
       "stream": "stdout",
       "text": [
        "Follows Predict Col, Actual Row 0,1 format\n",
        "[[43  4]\n",
        " [ 0 15]]\n",
        "             precision    recall  f1-score   support\n",
        "\n",
        "          0       1.00      0.91      0.96        47\n",
        "          1       0.79      1.00      0.88        15\n",
        "\n",
        "avg / total       0.95      0.94      0.94        62\n",
        "\n"
       ]
      }
     ],
     "prompt_number": 621
    },
    {
     "cell_type": "code",
     "collapsed": false,
     "input": [
      "# examine the coefficients\n",
      "print pd.DataFrame(zip(hotels.drop(['is_excellent', 'avg_rating'], 1).columns, np.transpose(logistic_regr.coef_)))"
     ],
     "language": "python",
     "metadata": {},
     "outputs": [
      {
       "output_type": "stream",
       "stream": "stdout",
       "text": [
        "                0                   1\n",
        "0       excellent     [0.10577502833]\n",
        "1       very_good    [-0.02045966918]\n",
        "2         average   [-0.197316011663]\n",
        "3            poor   [-0.023523343207]\n",
        "4        terrible   [-0.128401976799]\n",
        "5        families  [-0.0323656858137]\n",
        "6         couples  [-0.0352387766467]\n",
        "7            solo  [-0.0385100868122]\n",
        "8        business  [-0.0438679544698]\n",
        "9        location  [-0.0729060862507]\n",
        "10  sleep_quality  [-0.0605549388757]\n",
        "11          rooms  [-0.0600731404927]\n",
        "12        service  [-0.0601480654763]\n",
        "13          value  [-0.0727904894715]\n",
        "14    cleanliness  [-0.0724344460326]\n"
       ]
      }
     ],
     "prompt_number": 622
    },
    {
     "cell_type": "code",
     "collapsed": false,
     "input": [
      "# evaluate the model using 10-fold cross-validation\n",
      "scores = cross_validation.cross_val_score(linear_model.LogisticRegression(),\n",
      "                                          B,\n",
      "                                          a,\n",
      "                                          scoring='accuracy',\n",
      "                                          cv=10)\n",
      "print scores\n",
      "print scores.mean()"
     ],
     "language": "python",
     "metadata": {},
     "outputs": [
      {
       "output_type": "stream",
       "stream": "stdout",
       "text": [
        "[ 1.     1.     1.     0.875  1.     1.     1.     1.     1.     1.   ]\n",
        "0.9875\n"
       ]
      }
     ],
     "prompt_number": 623
    },
    {
     "cell_type": "code",
     "collapsed": false,
     "input": [
      "print hotels.drop(['is_excellent', 'avg_rating'], 1).columns"
     ],
     "language": "python",
     "metadata": {},
     "outputs": [
      {
       "output_type": "stream",
       "stream": "stdout",
       "text": [
        "Index([u'excellent', u'very_good', u'average', u'poor', u'terrible', u'families', u'couples', u'solo', u'business', u'location', u'sleep_quality', u'rooms', u'service', u'value', u'cleanliness'], dtype='object')\n"
       ]
      }
     ],
     "prompt_number": 624
    },
    {
     "cell_type": "markdown",
     "metadata": {},
     "source": [
      "Example hotel where there are mostly excellent reviews and high ratings across the board."
     ]
    },
    {
     "cell_type": "code",
     "collapsed": false,
     "input": [
      "logistic_regr.predict_proba(np.array([70, 10, 5, 10, 5, 20, 30, 5, 3, 4.5, 4.5, 5, 4, 4, 5]))"
     ],
     "language": "python",
     "metadata": {},
     "outputs": [
      {
       "metadata": {},
       "output_type": "pyout",
       "prompt_number": 625,
       "text": [
        "array([[ 0.18426707,  0.81573293]])"
       ]
      }
     ],
     "prompt_number": 625
    },
    {
     "cell_type": "markdown",
     "metadata": {},
     "source": [
      "Example hotel with the same ratings as above but fewer excellent reviews."
     ]
    },
    {
     "cell_type": "code",
     "collapsed": false,
     "input": [
      "logistic_regr.predict_proba(np.array([60, 10, 15, 10, 5, 20, 30, 5, 3, 4.5, 4.5, 5, 4, 4, 5]))"
     ],
     "language": "python",
     "metadata": {},
     "outputs": [
      {
       "metadata": {},
       "output_type": "pyout",
       "prompt_number": 640,
       "text": [
        "array([[ 0.82393082,  0.17606918]])"
       ]
      }
     ],
     "prompt_number": 640
    },
    {
     "cell_type": "markdown",
     "metadata": {},
     "source": [
      "Example hotel with the same ratings as the first example but lower sleep quality score."
     ]
    },
    {
     "cell_type": "code",
     "collapsed": false,
     "input": [
      "logistic_regr.predict_proba(np.array([70, 10, 5, 10, 5, 20, 30, 5, 3, 1.0, 4.5, 5, 4, 4, 5]))"
     ],
     "language": "python",
     "metadata": {},
     "outputs": [
      {
       "metadata": {},
       "output_type": "pyout",
       "prompt_number": 643,
       "text": [
        "array([[ 0.14894849,  0.85105151]])"
       ]
      }
     ],
     "prompt_number": 643
    },
    {
     "cell_type": "markdown",
     "metadata": {},
     "source": [
      "Example hotel with the same ratings as the second example but lower sleep quality score."
     ]
    },
    {
     "cell_type": "code",
     "collapsed": false,
     "input": [
      "logistic_regr.predict_proba(np.array([60, 10, 15, 10, 5, 20, 30, 5, 3, 1.0, 4.0, 5, 4, 4, 5]))"
     ],
     "language": "python",
     "metadata": {},
     "outputs": [
      {
       "metadata": {},
       "output_type": "pyout",
       "prompt_number": 639,
       "text": [
        "array([[ 0.7786404,  0.2213596]])"
       ]
      }
     ],
     "prompt_number": 639
    },
    {
     "cell_type": "markdown",
     "metadata": {},
     "source": [
      "Example hotel with the same ratings as the first example but more solo reviews."
     ]
    },
    {
     "cell_type": "code",
     "collapsed": false,
     "input": [
      "logistic_regr.predict_proba(np.array([70, 10, 5, 10, 5, 20, 50, 5, 3, 4.5, 4.5, 5, 4, 4, 5]))"
     ],
     "language": "python",
     "metadata": {},
     "outputs": [
      {
       "metadata": {},
       "output_type": "pyout",
       "prompt_number": 645,
       "text": [
        "array([[ 0.31368976,  0.68631024]])"
       ]
      }
     ],
     "prompt_number": 645
    },
    {
     "cell_type": "markdown",
     "metadata": {},
     "source": [
      "From the logistical regression model, it seems that our initial idea that the sleep quality has a major effect on whether or not a hotel is excellent is incorrect. In fact, it seems that a lower sleep quality score only influenced the likelihood of a hotel being excellent in a positive manner. This occured in both examples above. It is quite difficult to fully infer from the coefficients what feature exercises the most influence on the excellence of a hotel as they are all relatively close to each other.\n",
      "\n",
      "The presence of solo reviewers does seem to correlate with not excellent hotels however. We can assume people travelling alone may not want to spend the money to stay at a nicer hotel with many accommodations for a range of visitors to provide high/excellent ratings for it."
     ]
    },
    {
     "cell_type": "code",
     "collapsed": false,
     "input": [
      "# Code for setting the style of the notebook\n",
      "from IPython.core.display import HTML\n",
      "def css_styling():\n",
      "    styles = open(\"../../theme/custom.css\", \"r\").read()\n",
      "    return HTML(styles)\n",
      "css_styling()"
     ],
     "language": "python",
     "metadata": {},
     "outputs": [
      {
       "html": [
        "<link href='http://fonts.googleapis.com/css?family=EB+Garamond' rel='stylesheet' type='text/css'>\n",
        "<link href='http://fonts.googleapis.com/css?family=Alegreya+Sans:100,300,400,500,700,800,900,100italic,300italic,400italic,500italic,700italic,800italic,900italic' rel='stylesheet' type='text/css'>\n",
        "<link href='http://fonts.googleapis.com/css?family=Source+Code+Pro:300,400' rel='stylesheet' type='text/css'>\n",
        "<style>\n",
        "    @font-face {\n",
        "        font-family: \"Computer Modern\";\n",
        "        src: url('http://mirrors.ctan.org/fonts/cm-unicode/fonts/otf/cmunss.otf');\n",
        "    }\n",
        "    .code_cell {\n",
        "        width: 105ex !important ;\n",
        "        margin-bottom: 15px !important;\n",
        "    }\n",
        "    div.cell {\n",
        "        margin-left: auto;\n",
        "        margin-right: auto;\n",
        "        width: 70%;\n",
        "    }    \n",
        "    div.cell.selected {\n",
        "        border: thin rgba(171, 171, 171, 0.5) dashed;\n",
        "    }\n",
        "    h1 {\n",
        "        font-family: 'Alegreya Sans', sans-serif;\n",
        "    }\n",
        "    h2 {\n",
        "        font-family: 'EB Garamond', serif;\n",
        "    }\n",
        "    h3 {\n",
        "        font-family: 'EB Garamond', serif;\n",
        "        margin-top:12px;\n",
        "        margin-bottom: 3px;\n",
        "    }\n",
        "    h4 {\n",
        "        font-family: 'EB Garamond', serif;\n",
        "    }\n",
        "    h5 {\n",
        "        font-family: 'Alegreya Sans', sans-serif;\n",
        "    }\n",
        "    div.text_cell_render {\n",
        "        font-family: 'EB Garamond',Computer Modern, \"Helvetica Neue\", Arial, Helvetica, Geneva, sans-serif;\n",
        "        line-height: 145%;\n",
        "        font-size: 140%;\n",
        "    }\n",
        "    div.input_area {\n",
        "        border-color: rgba(0,0,0,0.10) !important;\n",
        "        background: #fafafa;\n",
        "    }\n",
        "    .CodeMirror {\n",
        "            font-family: \"Source Code Pro\";\n",
        "            font-size: 90%;\n",
        "    }\n",
        "    .prompt {\n",
        "        display: None;\n",
        "    }\n",
        "    .output {\n",
        "        padding-left: 50px;\n",
        "        padding-top: 5px;\n",
        "    }\n",
        "    .output_wrapper {\n",
        "        padding-left: 5px;\n",
        "        padding-top: inherit;\n",
        "    }\n",
        "    div.output_scroll {\n",
        "        width: inherit;\n",
        "    }\n",
        "    .inner_cell {\n",
        "        padding-left: 5px;\n",
        "    }\n",
        "    .text_cell_render h1 {\n",
        "        font-weight: 200;\n",
        "        font-size: 50pt;\n",
        "        line-height: 100%;\n",
        "        color:#CD2305;\n",
        "        margin-bottom: 0.5em;\n",
        "        margin-top: 0.5em;\n",
        "        display: block;\n",
        "    }\n",
        "    .text_cell_render h5 {\n",
        "        font-weight: 300;\n",
        "        font-size: 16pt;\n",
        "        color: #CD2305;\n",
        "        font-style: italic;\n",
        "        margin-bottom: .5em;\n",
        "        margin-top: 0.5em;\n",
        "        display: block;\n",
        "    }\n",
        "    .warning {\n",
        "        color: rgb( 240, 20, 20 )\n",
        "        }  \n",
        "</style>\n",
        "<script>\n",
        "    MathJax.Hub.Config({\n",
        "                        TeX: {\n",
        "                           extensions: [\"AMSmath.js\"]\n",
        "                           },\n",
        "                tex2jax: {\n",
        "                    inlineMath: [ ['$','$'], [\"\\\\(\",\"\\\\)\"] ],\n",
        "                    displayMath: [ ['$$','$$'], [\"\\\\[\",\"\\\\]\"] ]\n",
        "                },\n",
        "                displayAlign: 'center', // Change this to 'center' to center equations.\n",
        "                \"HTML-CSS\": {\n",
        "                    styles: {'.MathJax_Display': {\"margin\": 4}}\n",
        "                }\n",
        "        });\n",
        "</script>"
       ],
       "metadata": {},
       "output_type": "pyout",
       "prompt_number": 626,
       "text": [
        "<IPython.core.display.HTML at 0x115e4a190>"
       ]
      }
     ],
     "prompt_number": 626
    },
    {
     "cell_type": "code",
     "collapsed": false,
     "input": [],
     "language": "python",
     "metadata": {},
     "outputs": [],
     "prompt_number": 626
    },
    {
     "cell_type": "code",
     "collapsed": false,
     "input": [],
     "language": "python",
     "metadata": {},
     "outputs": [],
     "prompt_number": 626
    }
   ],
   "metadata": {}
  }
 ]
}