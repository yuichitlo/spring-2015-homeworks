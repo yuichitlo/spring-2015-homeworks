{
 "metadata": {
  "name": "",
  "signature": "sha256:8dd2005889326a9befd6efa65053856ef69f4cc0c67206eb111ab591fe89b4e0"
 },
 "nbformat": 3,
 "nbformat_minor": 0,
 "worksheets": [
  {
   "cells": [
    {
     "cell_type": "markdown",
     "metadata": {},
     "source": [
      "(In order to load the stylesheet of this notebook, execute the last code cell in this notebook)"
     ]
    },
    {
     "cell_type": "heading",
     "level": 1,
     "metadata": {},
     "source": [
      "Analyzing hotel ratings on Tripadvisor"
     ]
    },
    {
     "cell_type": "markdown",
     "metadata": {},
     "source": [
      "In this homework we will focus on practicing two techniques: web scraping and regression. For the first part, we will build upon the sample code from the Lecture and attempt to get some basic information for each hotel. Then, we will fit a regression model on this information and try to analyze it.   "
     ]
    },
    {
     "cell_type": "markdown",
     "metadata": {},
     "source": [
      "One of the main disadvantages of scraping a website instead of using an API is that, without any notice, the website may change its layout and render our code useless. Something like that happened in our case. Tripadvisor changed the layout of the buttons that we use to navigate between the different pages of the results. This was the main reason people were having problem with executing the code."
     ]
    },
    {
     "cell_type": "markdown",
     "metadata": {},
     "source": [
      "**Task 1 (20 pts)**\n",
      "\n",
      "The first task of the homework is to fix the scraping code. We basically need to replace the part where we are checking if there is another page and getting its link with new code that reflects the new navigation layout. "
     ]
    },
    {
     "cell_type": "markdown",
     "metadata": {},
     "source": [
      "** Task 2 (30 pts)**\n",
      "\n",
      "Then, for each hotel that our search returns, we will \"click\" (with the code of course) on it and scrape the information below.\n",
      "\n",
      "![Information to be scraped](hotel_info.png)\n",
      "\n",
      "Of course, feel free to collect even more data if you want. "
     ]
    },
    {
     "cell_type": "markdown",
     "metadata": {},
     "source": [
      "In order to use code from a Python script file, we need to put that file in the same folder as the notebook and import it as a library. Then, we will be able to access it's functions. For example, in the case of the lecture code, we could do the following:\n",
      "\n",
      "``` python\n",
      "import scrape_solution as scrape\n",
      "\n",
      "scrape.get_city_page()\n",
      "```\n",
      "\n",
      "Of course, you might need to modify and restructure the code so that it returns what you need."
     ]
    },
    {
     "cell_type": "markdown",
     "metadata": {},
     "source": [
      "----"
     ]
    },
    {
     "cell_type": "code",
     "collapsed": false,
     "input": [
      "import scrape_solution as scrape\n",
      "\n",
      "import pandas as pd\n",
      "import numpy as np\n",
      "import matplotlib.pyplot as plt\n",
      "import sklearn.utils as utils\n",
      "import sklearn.linear_model as linear_model\n",
      "import sklearn.cross_validation as cross_validation\n",
      "from sklearn.preprocessing import normalize\n",
      "import sklearn.metrics as metrics\n",
      "import statsmodels.api as sm\n",
      "from sklearn.preprocessing import StandardScaler\n",
      "%matplotlib inline"
     ],
     "language": "python",
     "metadata": {},
     "outputs": [],
     "prompt_number": 409
    },
    {
     "cell_type": "code",
     "collapsed": false,
     "input": [
      "reload(scrape)"
     ],
     "language": "python",
     "metadata": {},
     "outputs": [
      {
       "metadata": {},
       "output_type": "pyout",
       "prompt_number": 346,
       "text": [
        "<module 'scrape_solution' from 'scrape_solution.py'>"
       ]
      }
     ],
     "prompt_number": 346
    },
    {
     "cell_type": "markdown",
     "metadata": {},
     "source": [
      "Using the methods in scrape - scrape_hotels saves the HTML files for all the pages in the hotel directory for a given city and parse_hotellist_pages parses through the directory to request each hotel page and scrapes and saves its review data into city-specific csv files.\n",
      "\n",
      "I decided to scrape both Boston, MA and Honolulu, HI for data because I wanted more data to build a robust model."
     ]
    },
    {
     "cell_type": "code",
     "collapsed": false,
     "input": [
      "scrape.scrape_hotels(\"Boston\", \"MA\", \"data/\")"
     ],
     "language": "python",
     "metadata": {},
     "outputs": [],
     "prompt_number": 340
    },
    {
     "cell_type": "code",
     "collapsed": false,
     "input": [
      "scrape.scrape_hotels(\"Honolulu\", \"HI\", \"data/\")"
     ],
     "language": "python",
     "metadata": {},
     "outputs": []
    },
    {
     "cell_type": "code",
     "collapsed": false,
     "input": [
      "scrape.parse_hotellist_pages(\"Boston\", \"data/\")"
     ],
     "language": "python",
     "metadata": {},
     "outputs": [
      {
       "output_type": "stream",
       "stream": "stderr",
       "text": [
        "[2015-04-06 21:56:14,939] data/Boston-hotelist-1.html\n"
       ]
      },
      {
       "output_type": "stream",
       "stream": "stderr",
       "text": [
        "[2015-04-06 21:56:14,939] data/Boston-hotelist-1.html\n"
       ]
      },
      {
       "output_type": "stream",
       "stream": "stderr",
       "text": [
        "[2015-04-06 21:56:14,939] data/Boston-hotelist-1.html\n"
       ]
      },
      {
       "output_type": "stream",
       "stream": "stderr",
       "text": [
        "[2015-04-06 21:56:14,939] data/Boston-hotelist-1.html\n"
       ]
      },
      {
       "output_type": "stream",
       "stream": "stderr",
       "text": [
        "[2015-04-06 21:56:14,939] data/Boston-hotelist-1.html\n"
       ]
      },
      {
       "output_type": "stream",
       "stream": "stderr",
       "text": [
        "[2015-04-06 21:56:14,939] data/Boston-hotelist-1.html\n"
       ]
      },
      {
       "output_type": "stream",
       "stream": "stderr",
       "text": [
        "[2015-04-06 21:56:14,939] data/Boston-hotelist-1.html\n"
       ]
      },
      {
       "output_type": "stream",
       "stream": "stderr",
       "text": [
        "[2015-04-06 21:56:14,939] data/Boston-hotelist-1.html\n"
       ]
      },
      {
       "output_type": "stream",
       "stream": "stderr",
       "text": [
        "[2015-04-06 21:56:14,939] data/Boston-hotelist-1.html\n"
       ]
      },
      {
       "output_type": "stream",
       "stream": "stderr",
       "text": [
        "[2015-04-06 21:56:14,939] data/Boston-hotelist-1.html\n"
       ]
      },
      {
       "output_type": "stream",
       "stream": "stderr",
       "text": [
        "[2015-04-06 21:56:14,939] data/Boston-hotelist-1.html\n"
       ]
      },
      {
       "output_type": "stream",
       "stream": "stderr",
       "text": [
        "[2015-04-06 21:56:14,939] data/Boston-hotelist-1.html\n"
       ]
      },
      {
       "output_type": "stream",
       "stream": "stderr",
       "text": [
        "[2015-04-06 21:56:14,939] data/Boston-hotelist-1.html\n"
       ]
      },
      {
       "output_type": "stream",
       "stream": "stderr",
       "text": [
        "[2015-04-06 21:56:14,939] data/Boston-hotelist-1.html\n"
       ]
      },
      {
       "output_type": "stream",
       "stream": "stderr",
       "text": [
        "[2015-04-06 21:56:14,939] data/Boston-hotelist-1.html\n"
       ]
      },
      {
       "output_type": "stream",
       "stream": "stderr",
       "text": [
        "INFO:scrape_solution:data/Boston-hotelist-1.html\n"
       ]
      },
      {
       "output_type": "stream",
       "stream": "stderr",
       "text": [
        "[2015-04-06 21:56:18,081] 30\n"
       ]
      },
      {
       "output_type": "stream",
       "stream": "stderr",
       "text": [
        "[2015-04-06 21:56:18,081] 30\n"
       ]
      },
      {
       "output_type": "stream",
       "stream": "stderr",
       "text": [
        "[2015-04-06 21:56:18,081] 30\n"
       ]
      },
      {
       "output_type": "stream",
       "stream": "stderr",
       "text": [
        "[2015-04-06 21:56:18,081] 30\n"
       ]
      },
      {
       "output_type": "stream",
       "stream": "stderr",
       "text": [
        "[2015-04-06 21:56:18,081] 30\n"
       ]
      },
      {
       "output_type": "stream",
       "stream": "stderr",
       "text": [
        "[2015-04-06 21:56:18,081] 30\n"
       ]
      },
      {
       "output_type": "stream",
       "stream": "stderr",
       "text": [
        "[2015-04-06 21:56:18,081] 30\n"
       ]
      },
      {
       "output_type": "stream",
       "stream": "stderr",
       "text": [
        "[2015-04-06 21:56:18,081] 30\n"
       ]
      },
      {
       "output_type": "stream",
       "stream": "stderr",
       "text": [
        "[2015-04-06 21:56:18,081] 30\n"
       ]
      },
      {
       "output_type": "stream",
       "stream": "stderr",
       "text": [
        "[2015-04-06 21:56:18,081] 30\n"
       ]
      },
      {
       "output_type": "stream",
       "stream": "stderr",
       "text": [
        "[2015-04-06 21:56:18,081] 30\n"
       ]
      },
      {
       "output_type": "stream",
       "stream": "stderr",
       "text": [
        "[2015-04-06 21:56:18,081] 30\n"
       ]
      },
      {
       "output_type": "stream",
       "stream": "stderr",
       "text": [
        "[2015-04-06 21:56:18,081] 30\n"
       ]
      },
      {
       "output_type": "stream",
       "stream": "stderr",
       "text": [
        "[2015-04-06 21:56:18,081] 30\n"
       ]
      },
      {
       "output_type": "stream",
       "stream": "stderr",
       "text": [
        "[2015-04-06 21:56:18,081] 30\n"
       ]
      },
      {
       "output_type": "stream",
       "stream": "stderr",
       "text": [
        "INFO:scrape_solution:30\n"
       ]
      },
      {
       "output_type": "stream",
       "stream": "stderr",
       "text": [
        "[2015-04-06 21:56:18,086] data/Boston-hotelist-2.html\n"
       ]
      },
      {
       "output_type": "stream",
       "stream": "stderr",
       "text": [
        "[2015-04-06 21:56:18,086] data/Boston-hotelist-2.html\n"
       ]
      },
      {
       "output_type": "stream",
       "stream": "stderr",
       "text": [
        "[2015-04-06 21:56:18,086] data/Boston-hotelist-2.html\n"
       ]
      },
      {
       "output_type": "stream",
       "stream": "stderr",
       "text": [
        "[2015-04-06 21:56:18,086] data/Boston-hotelist-2.html\n"
       ]
      },
      {
       "output_type": "stream",
       "stream": "stderr",
       "text": [
        "[2015-04-06 21:56:18,086] data/Boston-hotelist-2.html\n"
       ]
      },
      {
       "output_type": "stream",
       "stream": "stderr",
       "text": [
        "[2015-04-06 21:56:18,086] data/Boston-hotelist-2.html\n"
       ]
      },
      {
       "output_type": "stream",
       "stream": "stderr",
       "text": [
        "[2015-04-06 21:56:18,086] data/Boston-hotelist-2.html\n"
       ]
      },
      {
       "output_type": "stream",
       "stream": "stderr",
       "text": [
        "[2015-04-06 21:56:18,086] data/Boston-hotelist-2.html\n"
       ]
      },
      {
       "output_type": "stream",
       "stream": "stderr",
       "text": [
        "[2015-04-06 21:56:18,086] data/Boston-hotelist-2.html\n"
       ]
      },
      {
       "output_type": "stream",
       "stream": "stderr",
       "text": [
        "[2015-04-06 21:56:18,086] data/Boston-hotelist-2.html\n"
       ]
      },
      {
       "output_type": "stream",
       "stream": "stderr",
       "text": [
        "[2015-04-06 21:56:18,086] data/Boston-hotelist-2.html\n"
       ]
      },
      {
       "output_type": "stream",
       "stream": "stderr",
       "text": [
        "[2015-04-06 21:56:18,086] data/Boston-hotelist-2.html\n"
       ]
      },
      {
       "output_type": "stream",
       "stream": "stderr",
       "text": [
        "[2015-04-06 21:56:18,086] data/Boston-hotelist-2.html\n"
       ]
      },
      {
       "output_type": "stream",
       "stream": "stderr",
       "text": [
        "[2015-04-06 21:56:18,086] data/Boston-hotelist-2.html\n"
       ]
      },
      {
       "output_type": "stream",
       "stream": "stderr",
       "text": [
        "[2015-04-06 21:56:18,086] data/Boston-hotelist-2.html\n"
       ]
      },
      {
       "output_type": "stream",
       "stream": "stderr",
       "text": [
        "INFO:scrape_solution:data/Boston-hotelist-2.html\n"
       ]
      },
      {
       "output_type": "stream",
       "stream": "stderr",
       "text": [
        "[2015-04-06 21:56:20,609] 30\n"
       ]
      },
      {
       "output_type": "stream",
       "stream": "stderr",
       "text": [
        "[2015-04-06 21:56:20,609] 30\n"
       ]
      },
      {
       "output_type": "stream",
       "stream": "stderr",
       "text": [
        "[2015-04-06 21:56:20,609] 30\n"
       ]
      },
      {
       "output_type": "stream",
       "stream": "stderr",
       "text": [
        "[2015-04-06 21:56:20,609] 30\n"
       ]
      },
      {
       "output_type": "stream",
       "stream": "stderr",
       "text": [
        "[2015-04-06 21:56:20,609] 30\n"
       ]
      },
      {
       "output_type": "stream",
       "stream": "stderr",
       "text": [
        "[2015-04-06 21:56:20,609] 30\n"
       ]
      },
      {
       "output_type": "stream",
       "stream": "stderr",
       "text": [
        "[2015-04-06 21:56:20,609] 30\n"
       ]
      },
      {
       "output_type": "stream",
       "stream": "stderr",
       "text": [
        "[2015-04-06 21:56:20,609] 30\n"
       ]
      },
      {
       "output_type": "stream",
       "stream": "stderr",
       "text": [
        "[2015-04-06 21:56:20,609] 30\n"
       ]
      },
      {
       "output_type": "stream",
       "stream": "stderr",
       "text": [
        "[2015-04-06 21:56:20,609] 30\n"
       ]
      },
      {
       "output_type": "stream",
       "stream": "stderr",
       "text": [
        "[2015-04-06 21:56:20,609] 30\n"
       ]
      },
      {
       "output_type": "stream",
       "stream": "stderr",
       "text": [
        "[2015-04-06 21:56:20,609] 30\n"
       ]
      },
      {
       "output_type": "stream",
       "stream": "stderr",
       "text": [
        "[2015-04-06 21:56:20,609] 30\n"
       ]
      },
      {
       "output_type": "stream",
       "stream": "stderr",
       "text": [
        "[2015-04-06 21:56:20,609] 30\n"
       ]
      },
      {
       "output_type": "stream",
       "stream": "stderr",
       "text": [
        "[2015-04-06 21:56:20,609] 30\n"
       ]
      },
      {
       "output_type": "stream",
       "stream": "stderr",
       "text": [
        "INFO:scrape_solution:30\n"
       ]
      },
      {
       "output_type": "stream",
       "stream": "stderr",
       "text": [
        "[2015-04-06 21:56:20,618] data/Boston-hotelist-3.html\n"
       ]
      },
      {
       "output_type": "stream",
       "stream": "stderr",
       "text": [
        "[2015-04-06 21:56:20,618] data/Boston-hotelist-3.html\n"
       ]
      },
      {
       "output_type": "stream",
       "stream": "stderr",
       "text": [
        "[2015-04-06 21:56:20,618] data/Boston-hotelist-3.html\n"
       ]
      },
      {
       "output_type": "stream",
       "stream": "stderr",
       "text": [
        "[2015-04-06 21:56:20,618] data/Boston-hotelist-3.html\n"
       ]
      },
      {
       "output_type": "stream",
       "stream": "stderr",
       "text": [
        "[2015-04-06 21:56:20,618] data/Boston-hotelist-3.html\n"
       ]
      },
      {
       "output_type": "stream",
       "stream": "stderr",
       "text": [
        "[2015-04-06 21:56:20,618] data/Boston-hotelist-3.html\n"
       ]
      },
      {
       "output_type": "stream",
       "stream": "stderr",
       "text": [
        "[2015-04-06 21:56:20,618] data/Boston-hotelist-3.html\n"
       ]
      },
      {
       "output_type": "stream",
       "stream": "stderr",
       "text": [
        "[2015-04-06 21:56:20,618] data/Boston-hotelist-3.html\n"
       ]
      },
      {
       "output_type": "stream",
       "stream": "stderr",
       "text": [
        "[2015-04-06 21:56:20,618] data/Boston-hotelist-3.html\n"
       ]
      },
      {
       "output_type": "stream",
       "stream": "stderr",
       "text": [
        "[2015-04-06 21:56:20,618] data/Boston-hotelist-3.html\n"
       ]
      },
      {
       "output_type": "stream",
       "stream": "stderr",
       "text": [
        "[2015-04-06 21:56:20,618] data/Boston-hotelist-3.html\n"
       ]
      },
      {
       "output_type": "stream",
       "stream": "stderr",
       "text": [
        "[2015-04-06 21:56:20,618] data/Boston-hotelist-3.html\n"
       ]
      },
      {
       "output_type": "stream",
       "stream": "stderr",
       "text": [
        "[2015-04-06 21:56:20,618] data/Boston-hotelist-3.html\n"
       ]
      },
      {
       "output_type": "stream",
       "stream": "stderr",
       "text": [
        "[2015-04-06 21:56:20,618] data/Boston-hotelist-3.html\n"
       ]
      },
      {
       "output_type": "stream",
       "stream": "stderr",
       "text": [
        "[2015-04-06 21:56:20,618] data/Boston-hotelist-3.html\n"
       ]
      },
      {
       "output_type": "stream",
       "stream": "stderr",
       "text": [
        "INFO:scrape_solution:data/Boston-hotelist-3.html\n"
       ]
      },
      {
       "output_type": "stream",
       "stream": "stderr",
       "text": [
        "[2015-04-06 21:56:22,663] 30\n"
       ]
      },
      {
       "output_type": "stream",
       "stream": "stderr",
       "text": [
        "[2015-04-06 21:56:22,663] 30\n"
       ]
      },
      {
       "output_type": "stream",
       "stream": "stderr",
       "text": [
        "[2015-04-06 21:56:22,663] 30\n"
       ]
      },
      {
       "output_type": "stream",
       "stream": "stderr",
       "text": [
        "[2015-04-06 21:56:22,663] 30\n"
       ]
      },
      {
       "output_type": "stream",
       "stream": "stderr",
       "text": [
        "[2015-04-06 21:56:22,663] 30\n"
       ]
      },
      {
       "output_type": "stream",
       "stream": "stderr",
       "text": [
        "[2015-04-06 21:56:22,663] 30\n"
       ]
      },
      {
       "output_type": "stream",
       "stream": "stderr",
       "text": [
        "[2015-04-06 21:56:22,663] 30\n"
       ]
      },
      {
       "output_type": "stream",
       "stream": "stderr",
       "text": [
        "[2015-04-06 21:56:22,663] 30\n"
       ]
      },
      {
       "output_type": "stream",
       "stream": "stderr",
       "text": [
        "[2015-04-06 21:56:22,663] 30\n"
       ]
      },
      {
       "output_type": "stream",
       "stream": "stderr",
       "text": [
        "[2015-04-06 21:56:22,663] 30\n"
       ]
      },
      {
       "output_type": "stream",
       "stream": "stderr",
       "text": [
        "[2015-04-06 21:56:22,663] 30\n"
       ]
      },
      {
       "output_type": "stream",
       "stream": "stderr",
       "text": [
        "[2015-04-06 21:56:22,663] 30\n"
       ]
      },
      {
       "output_type": "stream",
       "stream": "stderr",
       "text": [
        "[2015-04-06 21:56:22,663] 30\n"
       ]
      },
      {
       "output_type": "stream",
       "stream": "stderr",
       "text": [
        "[2015-04-06 21:56:22,663] 30\n"
       ]
      },
      {
       "output_type": "stream",
       "stream": "stderr",
       "text": [
        "[2015-04-06 21:56:22,663] 30\n"
       ]
      },
      {
       "output_type": "stream",
       "stream": "stderr",
       "text": [
        "INFO:scrape_solution:30\n"
       ]
      },
      {
       "output_type": "stream",
       "stream": "stderr",
       "text": [
        "[2015-04-06 21:56:22,674] data/Boston-hotelist-4.html\n"
       ]
      },
      {
       "output_type": "stream",
       "stream": "stderr",
       "text": [
        "[2015-04-06 21:56:22,674] data/Boston-hotelist-4.html\n"
       ]
      },
      {
       "output_type": "stream",
       "stream": "stderr",
       "text": [
        "[2015-04-06 21:56:22,674] data/Boston-hotelist-4.html\n"
       ]
      },
      {
       "output_type": "stream",
       "stream": "stderr",
       "text": [
        "[2015-04-06 21:56:22,674] data/Boston-hotelist-4.html\n"
       ]
      },
      {
       "output_type": "stream",
       "stream": "stderr",
       "text": [
        "[2015-04-06 21:56:22,674] data/Boston-hotelist-4.html\n"
       ]
      },
      {
       "output_type": "stream",
       "stream": "stderr",
       "text": [
        "[2015-04-06 21:56:22,674] data/Boston-hotelist-4.html\n"
       ]
      },
      {
       "output_type": "stream",
       "stream": "stderr",
       "text": [
        "[2015-04-06 21:56:22,674] data/Boston-hotelist-4.html\n"
       ]
      },
      {
       "output_type": "stream",
       "stream": "stderr",
       "text": [
        "[2015-04-06 21:56:22,674] data/Boston-hotelist-4.html\n"
       ]
      },
      {
       "output_type": "stream",
       "stream": "stderr",
       "text": [
        "[2015-04-06 21:56:22,674] data/Boston-hotelist-4.html\n"
       ]
      },
      {
       "output_type": "stream",
       "stream": "stderr",
       "text": [
        "[2015-04-06 21:56:22,674] data/Boston-hotelist-4.html\n"
       ]
      },
      {
       "output_type": "stream",
       "stream": "stderr",
       "text": [
        "[2015-04-06 21:56:22,674] data/Boston-hotelist-4.html\n"
       ]
      },
      {
       "output_type": "stream",
       "stream": "stderr",
       "text": [
        "[2015-04-06 21:56:22,674] data/Boston-hotelist-4.html\n"
       ]
      },
      {
       "output_type": "stream",
       "stream": "stderr",
       "text": [
        "[2015-04-06 21:56:22,674] data/Boston-hotelist-4.html\n"
       ]
      },
      {
       "output_type": "stream",
       "stream": "stderr",
       "text": [
        "[2015-04-06 21:56:22,674] data/Boston-hotelist-4.html\n"
       ]
      },
      {
       "output_type": "stream",
       "stream": "stderr",
       "text": [
        "[2015-04-06 21:56:22,674] data/Boston-hotelist-4.html\n"
       ]
      },
      {
       "output_type": "stream",
       "stream": "stderr",
       "text": [
        "INFO:scrape_solution:data/Boston-hotelist-4.html\n"
       ]
      },
      {
       "output_type": "stream",
       "stream": "stdout",
       "text": [
        "\n",
        "Hyatt Boston Harbor\n",
        "\n",
        "Seaport Boston Hotel"
       ]
      },
      {
       "output_type": "stream",
       "stream": "stdout",
       "text": [
        "\n",
        "\n",
        "Hotel Commonwealth"
       ]
      },
      {
       "output_type": "stream",
       "stream": "stdout",
       "text": [
        "\n",
        "\n",
        "Boston Harbor Hotel"
       ]
      },
      {
       "output_type": "stream",
       "stream": "stdout",
       "text": [
        "\n",
        "\n",
        "enVision Hotel Boston"
       ]
      },
      {
       "output_type": "stream",
       "stream": "stdout",
       "text": [
        "\n",
        "\n",
        "Revere Hotel Boston Common"
       ]
      },
      {
       "output_type": "stream",
       "stream": "stdout",
       "text": [
        "\n",
        "\n",
        "Nine Zero Hotel - a Kimpton Hotel"
       ]
      },
      {
       "output_type": "stream",
       "stream": "stdout",
       "text": [
        "\n",
        "\n",
        "Lenox Hotel"
       ]
      },
      {
       "output_type": "stream",
       "stream": "stdout",
       "text": [
        "\n",
        "\n",
        "The Westin Copley Place"
       ]
      },
      {
       "output_type": "stream",
       "stream": "stdout",
       "text": [
        "\n",
        "\n",
        "Courtyard by Marriott Boston Copley Square"
       ]
      },
      {
       "output_type": "stream",
       "stream": "stdout",
       "text": [
        "\n",
        "\n",
        "Omni Parker House"
       ]
      },
      {
       "output_type": "stream",
       "stream": "stdout",
       "text": [
        "\n",
        "\n",
        "Embassy Suites Boston Logan Airport"
       ]
      },
      {
       "output_type": "stream",
       "stream": "stdout",
       "text": [
        "\n",
        "\n",
        "XV Beacon"
       ]
      },
      {
       "output_type": "stream",
       "stream": "stdout",
       "text": [
        "\n",
        "\n",
        "The Midtown Hotel"
       ]
      },
      {
       "output_type": "stream",
       "stream": "stdout",
       "text": [
        "\n",
        "\n",
        "The Verb Hotel"
       ]
      },
      {
       "output_type": "stream",
       "stream": "stdout",
       "text": [
        "\n",
        "\n",
        "The Liberty Hotel"
       ]
      },
      {
       "output_type": "stream",
       "stream": "stdout",
       "text": [
        "\n",
        "\n",
        "Copley Square Hotel"
       ]
      },
      {
       "output_type": "stream",
       "stream": "stdout",
       "text": [
        "\n",
        "\n",
        "Taj Boston"
       ]
      },
      {
       "output_type": "stream",
       "stream": "stdout",
       "text": [
        "\n",
        "\n",
        "Harborside Inn"
       ]
      },
      {
       "output_type": "stream",
       "stream": "stdout",
       "text": [
        "\n",
        "\n",
        "The Fairmont Copley Plaza - Boston"
       ]
      },
      {
       "output_type": "stream",
       "stream": "stdout",
       "text": [
        "\n",
        "\n",
        "Hilton Boston Back Bay"
       ]
      },
      {
       "output_type": "stream",
       "stream": "stdout",
       "text": [
        "\n",
        "\n",
        "Millennium Bostonian Hotel"
       ]
      },
      {
       "output_type": "stream",
       "stream": "stdout",
       "text": [
        "\n",
        "\n",
        "The Langham - Boston"
       ]
      },
      {
       "output_type": "stream",
       "stream": "stdout",
       "text": [
        "\n",
        "\n",
        "InterContinental Boston"
       ]
      },
      {
       "output_type": "stream",
       "stream": "stdout",
       "text": [
        "\n",
        "\n",
        "Boston Hotel Buckminster"
       ]
      },
      {
       "output_type": "stream",
       "stream": "stdout",
       "text": [
        "\n",
        "\n",
        "Marriott's Custom House"
       ]
      },
      {
       "output_type": "stream",
       "stream": "stdout",
       "text": [
        "\n",
        "\n",
        "Sheraton Boston Hotel"
       ]
      },
      {
       "output_type": "stream",
       "stream": "stdout",
       "text": [
        "\n",
        "\n",
        "Residence Inn Boston Back Bay / Fenway"
       ]
      },
      {
       "output_type": "stream",
       "stream": "stdout",
       "text": [
        "\n",
        "\n",
        "Boston Marriott Copley Place"
       ]
      },
      {
       "output_type": "stream",
       "stream": "stdout",
       "text": [
        "\n",
        "\n",
        "Loews Boston Hotel"
       ]
      },
      {
       "output_type": "stream",
       "stream": "stdout",
       "text": [
        "\n"
       ]
      }
     ],
     "prompt_number": 347
    },
    {
     "cell_type": "code",
     "collapsed": false,
     "input": [
      "scrape.parse_hotellist_pages(\"Honolulu\", \"data/\")"
     ],
     "language": "python",
     "metadata": {},
     "outputs": [
      {
       "output_type": "stream",
       "stream": "stdout",
       "text": [
        "\n",
        "Hilton Hawaiian Village Waikiki Beach Resort\n",
        "\n",
        "Trump International Hotel Waikiki Beach Walk"
       ]
      },
      {
       "output_type": "stream",
       "stream": "stdout",
       "text": [
        "\n",
        "\n",
        "The Kahala Hotel & Resort"
       ]
      },
      {
       "output_type": "stream",
       "stream": "stdout",
       "text": [
        "\n",
        "\n",
        "Outrigger Reef Waikiki Beach Resort"
       ]
      },
      {
       "output_type": "stream",
       "stream": "stdout",
       "text": [
        "\n",
        "\n",
        "The Modern Honolulu"
       ]
      },
      {
       "output_type": "stream",
       "stream": "stdout",
       "text": [
        "\n",
        "\n",
        "Halekulani Hotel"
       ]
      },
      {
       "output_type": "stream",
       "stream": "stdout",
       "text": [
        "\n",
        "\n",
        "Hilton Waikiki Beach"
       ]
      },
      {
       "output_type": "stream",
       "stream": "stdout",
       "text": [
        "\n",
        "\n",
        "Sheraton Waikiki"
       ]
      },
      {
       "output_type": "stream",
       "stream": "stdout",
       "text": [
        "\n",
        "\n",
        "Moana Surfrider - A Westin Resort & Spa"
       ]
      },
      {
       "output_type": "stream",
       "stream": "stdout",
       "text": [
        "\n",
        "\n",
        "Aston Waikiki Circle Hotel"
       ]
      },
      {
       "output_type": "stream",
       "stream": "stdout",
       "text": [
        "\n",
        "\n",
        "Waikiki Beach Marriott Resort & Spa"
       ]
      },
      {
       "output_type": "stream",
       "stream": "stdout",
       "text": [
        "\n",
        "\n",
        "The Royal Hawaiian - a Luxury Collection Resort"
       ]
      },
      {
       "output_type": "stream",
       "stream": "stdout",
       "text": [
        "\n",
        "\n",
        "Hyatt Regency Waikiki Resort & Spa"
       ]
      },
      {
       "output_type": "stream",
       "stream": "stdout",
       "text": [
        "\n",
        "\n",
        "Embassy Suites Waikiki Beach Walk"
       ]
      },
      {
       "output_type": "stream",
       "stream": "stdout",
       "text": [
        "\n",
        "\n",
        "Pacific Beach Hotel"
       ]
      },
      {
       "output_type": "stream",
       "stream": "stdout",
       "text": [
        "\n",
        "\n",
        "Outrigger Waikiki Beach Resort"
       ]
      },
      {
       "output_type": "stream",
       "stream": "stdout",
       "text": [
        "\n",
        "\n",
        "Coconut Waikiki Hotel - a Joie de Vivre Hotel"
       ]
      },
      {
       "output_type": "stream",
       "stream": "stdout",
       "text": [
        "\n",
        "\n",
        "Aston Waikiki Beach Tower"
       ]
      },
      {
       "output_type": "stream",
       "stream": "stdout",
       "text": [
        "\n",
        "\n",
        "Hyatt Place Waikiki Beach"
       ]
      },
      {
       "output_type": "stream",
       "stream": "stdout",
       "text": [
        "\n",
        "\n",
        "Waikiki Prince"
       ]
      },
      {
       "output_type": "stream",
       "stream": "stdout",
       "text": [
        "\n",
        "\n",
        "Vive Hotel Waikiki"
       ]
      },
      {
       "output_type": "stream",
       "stream": "stdout",
       "text": [
        "\n",
        "\n",
        "Hotel Renew"
       ]
      },
      {
       "output_type": "stream",
       "stream": "stdout",
       "text": [
        "\n",
        "\n",
        "Park Shore Waikiki"
       ]
      },
      {
       "output_type": "stream",
       "stream": "stdout",
       "text": [
        "\n",
        "\n",
        "Sheraton Princess Kaiulani"
       ]
      },
      {
       "output_type": "stream",
       "stream": "stdout",
       "text": [
        "\n",
        "\n",
        "Royal Grove Hotel"
       ]
      },
      {
       "output_type": "stream",
       "stream": "stdout",
       "text": [
        "\n",
        "\n",
        "Aqua Oasis"
       ]
      },
      {
       "output_type": "stream",
       "stream": "stdout",
       "text": [
        "\n",
        "\n",
        "Luana Waikiki Hotel & Suites"
       ]
      },
      {
       "output_type": "stream",
       "stream": "stdout",
       "text": [
        "\n",
        "\n",
        "Aston Waikiki Beach Hotel"
       ]
      },
      {
       "output_type": "stream",
       "stream": "stdout",
       "text": [
        "\n",
        "\n",
        "The Equus Hotel"
       ]
      },
      {
       "output_type": "stream",
       "stream": "stdout",
       "text": [
        "\n",
        "\n",
        "Lotus Honolulu at Diamond Head"
       ]
      },
      {
       "output_type": "stream",
       "stream": "stdout",
       "text": [
        "\n",
        "\n",
        "Ala Moana Hotel"
       ]
      },
      {
       "output_type": "stream",
       "stream": "stdout",
       "text": [
        "\n",
        "\n",
        "Waikiki Resort"
       ]
      },
      {
       "output_type": "stream",
       "stream": "stdout",
       "text": [
        "\n",
        "\n",
        "Grand Waikikian Suites by Hilton Grand Vacations"
       ]
      },
      {
       "output_type": "stream",
       "stream": "stdout",
       "text": [
        "\n",
        "\n",
        "Aqua Waikiki Wave"
       ]
      },
      {
       "output_type": "stream",
       "stream": "stdout",
       "text": [
        "\n",
        "\n",
        "Holiday Inn Resort Waikiki Beachcomber"
       ]
      },
      {
       "output_type": "stream",
       "stream": "stdout",
       "text": [
        "\n",
        "\n",
        "Waikiki Prince"
       ]
      },
      {
       "output_type": "stream",
       "stream": "stdout",
       "text": [
        "\n",
        "\n",
        "Hilton Grand Vacations Suites at Hilton Hawaiian Village"
       ]
      },
      {
       "output_type": "stream",
       "stream": "stdout",
       "text": [
        "\n",
        "\n",
        "Aston Waikiki Beach Tower"
       ]
      },
      {
       "output_type": "stream",
       "stream": "stdout",
       "text": [
        "\n",
        "\n",
        "Hawaii Prince Hotel Waikiki"
       ]
      },
      {
       "output_type": "stream",
       "stream": "stdout",
       "text": [
        "\n",
        "\n",
        "Courtyard by Marriott Waikiki Beach"
       ]
      },
      {
       "output_type": "stream",
       "stream": "stdout",
       "text": [
        "\n",
        "\n",
        "The New Otani Kaimana Beach Hotel"
       ]
      },
      {
       "output_type": "stream",
       "stream": "stdout",
       "text": [
        "\n",
        "\n",
        "Aqua Aloha Surf Waikiki"
       ]
      },
      {
       "output_type": "stream",
       "stream": "stdout",
       "text": [
        "\n",
        "\n",
        "Aqua Palms Waikiki"
       ]
      },
      {
       "output_type": "stream",
       "stream": "stdout",
       "text": [
        "\n",
        "\n",
        "White Sands Hotel"
       ]
      },
      {
       "output_type": "stream",
       "stream": "stdout",
       "text": [
        "\n",
        "\n",
        "Aston Waikiki Beachside Hotel"
       ]
      },
      {
       "output_type": "stream",
       "stream": "stdout",
       "text": [
        "\n",
        "\n",
        "Aqua Bamboo Waikiki"
       ]
      },
      {
       "output_type": "stream",
       "stream": "stdout",
       "text": [
        "\n",
        "\n",
        "Ramada Plaza Waikiki"
       ]
      },
      {
       "output_type": "stream",
       "stream": "stdout",
       "text": [
        "\n",
        "\n",
        "Waikiki Parc Hotel"
       ]
      },
      {
       "output_type": "stream",
       "stream": "stdout",
       "text": [
        "\n",
        "\n",
        "Aqua Skyline at Island Colony"
       ]
      },
      {
       "output_type": "stream",
       "stream": "stdout",
       "text": [
        "\n",
        "\n",
        "The Imperial Hawaii Resort at Waikiki"
       ]
      },
      {
       "output_type": "stream",
       "stream": "stdout",
       "text": [
        "\n",
        "\n",
        "Aqua Waikiki Pearl"
       ]
      },
      {
       "output_type": "stream",
       "stream": "stdout",
       "text": [
        "\n",
        "\n",
        "OHANA Waikiki East Hotel"
       ]
      },
      {
       "output_type": "stream",
       "stream": "stdout",
       "text": [
        "\n",
        "\n",
        "Hokulani Waikiki By Hilton Grand Vacations"
       ]
      },
      {
       "output_type": "stream",
       "stream": "stdout",
       "text": [
        "\n",
        "\n",
        "Ilima Hotel"
       ]
      },
      {
       "output_type": "stream",
       "stream": "stdout",
       "text": [
        "\n",
        "\n",
        "Aqua Pacific Monarch"
       ]
      },
      {
       "output_type": "stream",
       "stream": "stdout",
       "text": [
        "\n",
        "\n",
        "DoubleTree by Hilton Alana Waikiki"
       ]
      },
      {
       "output_type": "stream",
       "stream": "stdout",
       "text": [
        "\n",
        "\n",
        "Ewa Hotel"
       ]
      },
      {
       "output_type": "stream",
       "stream": "stdout",
       "text": [
        "\n",
        "\n",
        "Waikiki Sand Villa Hotel"
       ]
      },
      {
       "output_type": "stream",
       "stream": "stdout",
       "text": [
        "\n",
        "\n",
        "Ohana Waikiki Malia"
       ]
      },
      {
       "output_type": "stream",
       "stream": "stdout",
       "text": [
        "\n",
        "\n",
        "Aston at the Executive Centre Hotel"
       ]
      },
      {
       "output_type": "stream",
       "stream": "stdout",
       "text": [
        "\n",
        "\n",
        "Breakers Hotel"
       ]
      },
      {
       "output_type": "stream",
       "stream": "stdout",
       "text": [
        "\n",
        "\n",
        "Royal Grove Hotel"
       ]
      },
      {
       "output_type": "stream",
       "stream": "stdout",
       "text": [
        "\n",
        "\n",
        "BEST WESTERN The Plaza Hotel"
       ]
      },
      {
       "output_type": "stream",
       "stream": "stdout",
       "text": [
        "\n",
        "\n",
        "Airport Honolulu Hotel"
       ]
      },
      {
       "output_type": "stream",
       "stream": "stdout",
       "text": [
        "\n",
        "\n",
        "Waikiki Gateway Hotel"
       ]
      },
      {
       "output_type": "stream",
       "stream": "stdout",
       "text": [
        "\n",
        "\n",
        "Stay Waikiki"
       ]
      },
      {
       "output_type": "stream",
       "stream": "stdout",
       "text": [
        "\n",
        "\n",
        "Prince Edward Apartment"
       ]
      },
      {
       "output_type": "stream",
       "stream": "stdout",
       "text": [
        "\n",
        "\n",
        "Pagoda Hotel"
       ]
      },
      {
       "output_type": "stream",
       "stream": "stdout",
       "text": [
        "\n",
        "\n",
        "Ohana Waikiki West"
       ]
      },
      {
       "output_type": "stream",
       "stream": "stdout",
       "text": [
        "\n",
        "\n",
        "Maile Sky Court"
       ]
      },
      {
       "output_type": "stream",
       "stream": "stdout",
       "text": [
        "\n",
        "\n",
        "Ambassador Hotel Waikiki"
       ]
      },
      {
       "output_type": "stream",
       "stream": "stdout",
       "text": [
        "\n",
        "\n",
        "Marina Tower Waikiki"
       ]
      },
      {
       "output_type": "stream",
       "stream": "stdout",
       "text": [
        "\n",
        "\n",
        "Hokele Suites Waikiki"
       ]
      },
      {
       "output_type": "stream",
       "stream": "stdout",
       "text": [
        "\n",
        "\n",
        "Hawaiian Monarch Hotel"
       ]
      },
      {
       "output_type": "stream",
       "stream": "stdout",
       "text": [
        "\n",
        "\n",
        "Holiday Surf Hotel"
       ]
      },
      {
       "output_type": "stream",
       "stream": "stdout",
       "text": [
        "\n",
        "\n",
        "Ohana Islander Waikiki S Saver"
       ]
      },
      {
       "output_type": "stream",
       "stream": "stdout",
       "text": [
        "\n",
        "\n",
        "Aloha Punawai"
       ]
      },
      {
       "output_type": "stream",
       "stream": "stdout",
       "text": [
        "\n",
        "\n",
        "Edmund's Hotel Apartments"
       ]
      },
      {
       "output_type": "stream",
       "stream": "stdout",
       "text": [
        "\n",
        "\n",
        "Inn at Schofield Barracks"
       ]
      },
      {
       "output_type": "stream",
       "stream": "stdout",
       "text": [
        "\n",
        "\n",
        "Kuhio Banyan Club"
       ]
      },
      {
       "output_type": "stream",
       "stream": "stdout",
       "text": [
        "\n",
        "\n",
        "Lealea Apartment Hotel and Condo"
       ]
      },
      {
       "output_type": "stream",
       "stream": "stdout",
       "text": [
        "\n",
        "\n",
        "Pacific Marina Inn Airport"
       ]
      },
      {
       "output_type": "stream",
       "stream": "stdout",
       "text": [
        "\n"
       ]
      }
     ],
     "prompt_number": 337
    },
    {
     "cell_type": "code",
     "collapsed": false,
     "input": [
      "hotels = pd.read_csv('data/Boston-hotel-info.csv')\n",
      "hi_hotels = pd.read_csv('data/Honolulu-hotel-info.csv', header=0)\n",
      "both = hotels.append(hi_hotels)\n",
      "hotels = both"
     ],
     "language": "python",
     "metadata": {},
     "outputs": [],
     "prompt_number": 475
    },
    {
     "cell_type": "markdown",
     "metadata": {},
     "source": [
      "** Task 3 (20 pts) **\n",
      "\n",
      "Now, we will use regression to analyze this information. First, we will fit a linear regression model that predicts the average rating. For example, for the hotel above, the average rating is\n",
      "\n",
      "$$ \\text{AVG_SCORE} = \\frac{1*31 + 2*33 + 3*98 + 4*504 + 5*1861}{2527}$$\n",
      "\n",
      "Use the model to analyze the important factors that decide the $\\text{AVG_SCORE}$."
     ]
    },
    {
     "cell_type": "code",
     "collapsed": false,
     "input": [
      "hotels.columns = [col.replace(' ', '_').lower() for col in hotels.columns]\n",
      "hotels['avg_rating'] = hotels.apply(lambda r: (r.terrible + 2*r.poor + 3*r.average + 4*r.very_good + 5*r.excellent)/(r.terrible + r.poor + r.average + r.very_good + r.excellent), axis=1)\n",
      "print hotels.head()"
     ],
     "language": "python",
     "metadata": {},
     "outputs": [
      {
       "output_type": "stream",
       "stream": "stdout",
       "text": [
        "                            excellent  very_good  average  poor  terrible  \\\n",
        "Millennium Bostonian Hotel        438        377      116    55        33   \n",
        "Lenox Hotel                      1884        509      107    46        20   \n",
        "Taj Boston                        509        374      149    83        32   \n",
        "enVision Hotel Boston             246         85       21     7         1   \n",
        "Revere Hotel Boston Common       1094        619      181    39        17   \n",
        "\n",
        "                            families  couples  solo  business  location  \\\n",
        "Millennium Bostonian Hotel       188      415    60       156       5.0   \n",
        "Lenox Hotel                      632      986   143       383       5.0   \n",
        "Taj Boston                       241      433    77       244       5.0   \n",
        "enVision Hotel Boston            104      102    29        64       4.5   \n",
        "Revere Hotel Boston Common       445      624    78       300       4.5   \n",
        "\n",
        "                            sleep_quality  rooms  service  value  cleanliness  \\\n",
        "Millennium Bostonian Hotel            4.0    4.0      4.0    4.0          4.5   \n",
        "Lenox Hotel                           4.5    4.5      5.0    4.5          5.0   \n",
        "Taj Boston                            4.5    4.0      4.0    4.0          4.5   \n",
        "enVision Hotel Boston                 4.0    4.5      4.5    4.5          5.0   \n",
        "Revere Hotel Boston Common            4.5    4.5      4.5    4.0          4.5   \n",
        "\n",
        "                            avg_rating  \n",
        "Millennium Bostonian Hotel    4.110893  \n",
        "Lenox Hotel                   4.633281  \n",
        "Taj Boston                    4.085440  \n",
        "enVision Hotel Boston         4.577778  \n",
        "Revere Hotel Boston Common    4.402051  \n"
       ]
      }
     ],
     "prompt_number": 477
    },
    {
     "cell_type": "code",
     "collapsed": false,
     "input": [
      "target = hotels['avg_rating'].as_matrix()\n",
      "data = hotels.drop('avg_rating', 1).as_matrix()\n",
      "data_normalized = StandardScaler().fit_transform(data)\n",
      "features = hotels.columns[:-1]\n",
      "print target.shape\n",
      "print data.shape\n",
      "X = data_normalized\n",
      "y = target"
     ],
     "language": "python",
     "metadata": {},
     "outputs": [
      {
       "output_type": "stream",
       "stream": "stdout",
       "text": [
        "(107,)\n",
        "(107, 15)\n"
       ]
      }
     ],
     "prompt_number": 480
    },
    {
     "cell_type": "code",
     "collapsed": false,
     "input": [
      "#X = hotels['excellent'].as_matrix()\n",
      "#X = X.reshape(50, 1)\n",
      "#features = hotels.columns[0]\n",
      "#print X.shape"
     ],
     "language": "python",
     "metadata": {},
     "outputs": [],
     "prompt_number": 481
    },
    {
     "cell_type": "code",
     "collapsed": false,
     "input": [
      "plt.scatter(range(len(y)), y, c=\"slategray\", alpha=0.3, linewidths=0.2)"
     ],
     "language": "python",
     "metadata": {},
     "outputs": [
      {
       "metadata": {},
       "output_type": "pyout",
       "prompt_number": 482,
       "text": [
        "<matplotlib.collections.PathCollection at 0x10c1ede50>"
       ]
      },
      {
       "metadata": {},
       "output_type": "display_data",
       "png": "[encoded data removed]",
       "text": [
        "<matplotlib.figure.Figure at 0x10e7213d0>"
       ]
      }
     ],
     "prompt_number": 482
    },
    {
     "cell_type": "code",
     "collapsed": false,
     "input": [
      "X, y = utils.shuffle(X, y, random_state=1)"
     ],
     "language": "python",
     "metadata": {},
     "outputs": [],
     "prompt_number": 483
    },
    {
     "cell_type": "code",
     "collapsed": false,
     "input": [
      "X_train, X_test, y_train, y_test = cross_validation.train_test_split(X, y, test_size=0.4, random_state=0)\n",
      "print(X_train.shape), y_train.shape\n",
      "print(X_test.shape), y_test.shape"
     ],
     "language": "python",
     "metadata": {},
     "outputs": [
      {
       "output_type": "stream",
       "stream": "stdout",
       "text": [
        "(64, 15) (64,)\n",
        "(43, 15) (43,)\n"
       ]
      }
     ],
     "prompt_number": 484
    },
    {
     "cell_type": "code",
     "collapsed": false,
     "input": [
      "subX_train = X_train[:,0]\n",
      "subX_test = X_test[:,0]\n",
      "plt.scatter(subX_train, y_train, c=\"slategray\", alpha=0.4, linewidths=0.3)\n",
      "# plt.scatter(subX_test, y_test, c=\"seagreen\", alpha=0.2, linewidths=0.3)\n",
      "plt.xlabel('Data')\n",
      "plt.ylabel('Target');"
     ],
     "language": "python",
     "metadata": {},
     "outputs": [
      {
       "metadata": {},
       "output_type": "display_data",
       "png": "[encoded data removed]",
       "text": [
        "<matplotlib.figure.Figure at 0x10e987f10>"
       ]
      }
     ],
     "prompt_number": 485
    },
    {
     "cell_type": "code",
     "collapsed": false,
     "input": [
      "fig, axes = plt.subplots(4,4,figsize=(15,15))\n",
      "\n",
      "for i in range(len(features)):\n",
      "    plt_i = i // 4\n",
      "    plt_j = i % 4\n",
      "    subX_train = X_train[:,i]\n",
      "    # plt.subplot(2, 4, 1 + i)\n",
      "    axes[plt_i][plt_j].scatter(subX_train, y_train, c=\"slategray\", alpha=0.4, linewidths=0.3)\n",
      "    #plt.scatter(subX_test, y_test)\n",
      "    axes[plt_i][plt_j].set_xlabel(features[i])\n",
      "    axes[plt_i][plt_j].set_ylabel('avg_rating'); "
     ],
     "language": "python",
     "metadata": {},
     "outputs": [
      {
       "metadata": {},
       "output_type": "display_data",
       "png": "[encoded data removed]",
       "text": [
        "<matplotlib.figure.Figure at 0x112659f10>"
       ]
      }
     ],
     "prompt_number": 486
    },
    {
     "cell_type": "code",
     "collapsed": false,
     "input": [
      "regr = linear_model.LinearRegression()"
     ],
     "language": "python",
     "metadata": {},
     "outputs": [],
     "prompt_number": 487
    },
    {
     "cell_type": "code",
     "collapsed": false,
     "input": [
      "print X_train.shape\n",
      "regr.fit(X_train, y_train);\n",
      "# The mean square error\n",
      "print(\"Training error: \", metrics.mean_squared_error(regr.predict(X_train),y_train))\n",
      "print(\"Test     error: \", metrics.mean_squared_error(regr.predict(X_test),y_test))"
     ],
     "language": "python",
     "metadata": {},
     "outputs": [
      {
       "output_type": "stream",
       "stream": "stdout",
       "text": [
        "(64, 15)\n",
        "('Training error: ', 0.007995805556547041)"
       ]
      },
      {
       "output_type": "stream",
       "stream": "stdout",
       "text": [
        "\n",
        "('Test     error: ', 0.085061040912329633)\n"
       ]
      }
     ],
     "prompt_number": 488
    },
    {
     "cell_type": "code",
     "collapsed": false,
     "input": [
      "train_score = regr.score(X_train,y_train)\n",
      "test_score = regr.score(X_test,y_test)\n",
      "print(\"Training score: \", train_score)\n",
      "print(\"Test     score: \", test_score)"
     ],
     "language": "python",
     "metadata": {},
     "outputs": [
      {
       "output_type": "stream",
       "stream": "stdout",
       "text": [
        "('Training score: ', 0.96963482539122592)\n",
        "('Test     score: ', 0.61833274744847122)\n"
       ]
      }
     ],
     "prompt_number": 489
    },
    {
     "cell_type": "code",
     "collapsed": false,
     "input": [
      "coefficients = regr.coef_\n",
      "#for i in range(len(coefficients)):\n",
      "#    print features[i],\"\\t\",coefficients[i]\n",
      "intercepts = regr.intercept_    \n",
      "print pd.DataFrame(zip(features, np.transpose(coefficients)))\n",
      "print intercepts"
     ],
     "language": "python",
     "metadata": {},
     "outputs": [
      {
       "output_type": "stream",
       "stream": "stdout",
       "text": [
        "                0         1\n",
        "0       excellent -0.295275\n",
        "1       very_good -0.238479\n",
        "2         average  0.044387\n",
        "3            poor -0.083939\n",
        "4        terrible -0.071560\n",
        "5        families  0.244522\n",
        "6         couples  0.309109\n",
        "7            solo -0.009415\n",
        "8        business  0.096950\n",
        "9        location  0.045713\n",
        "10  sleep_quality  0.142540\n",
        "11          rooms  0.090368\n",
        "12        service  0.065866\n",
        "13          value  0.108161\n",
        "14    cleanliness  0.151971\n",
        "3.97027325678\n"
       ]
      }
     ],
     "prompt_number": 490
    },
    {
     "cell_type": "code",
     "collapsed": false,
     "input": [
      "fig, axes = plt.subplots(4,4,figsize=(15,15))\n",
      "\n",
      "for i in range(len(features)):\n",
      "    plt_i = i // 4\n",
      "    plt_j = i % 4\n",
      "    subX_train = X_train[:,i]\n",
      "    # plt.subplot(2, 4, 1 + i)\n",
      "    subX_test = X_test[:,i]\n",
      "    axes[plt_i][plt_j].scatter(subX_train, y_train, c=\"slategray\", alpha=0.4, linewidths=0.3)\n",
      "    axes[plt_i][plt_j].plot(subX_train, coefficients[i]*subX_train+intercepts, color='seagreen', linewidth=3, alpha=.8);\n",
      "    #plt.scatter(subX_test, y_test)\n",
      "    axes[plt_i][plt_j].set_xlabel(features[i])\n",
      "    axes[plt_i][plt_j].set_ylabel('avg_rating'); "
     ],
     "language": "python",
     "metadata": {},
     "outputs": [
      {
       "metadata": {},
       "output_type": "display_data",
       "png": "[encoded data removed]",
       "text": [
        "<matplotlib.figure.Figure at 0x10a647950>"
       ]
      }
     ],
     "prompt_number": 491
    },
    {
     "cell_type": "markdown",
     "metadata": {},
     "source": []
    },
    {
     "cell_type": "markdown",
     "metadata": {},
     "source": [
      "** Task 4 (30 pts) **\n",
      "\n",
      "Finally, we will use logistic regression to decide if a hotel is _excellent_ or not. We classify a hotel as _excellent_ if more than **60%** of its ratings are 5 stars. This is a binary attribute on which we can fit a logistic regression model. As before, use the model to analyze the data.\n",
      "\n",
      "-------"
     ]
    },
    {
     "cell_type": "code",
     "collapsed": false,
     "input": [
      "hotels['is_excellent'] = hotels.apply(lambda r: int(((r.excellent/(r.terrible + r.poor + r.average + r.very_good + r.excellent)) > 0.6)), axis=1)\n",
      "#hotels = hotels.sort(['is_excellent']).drop('avg_rating', axis=1)\n",
      "#print hotels.tail()"
     ],
     "language": "python",
     "metadata": {},
     "outputs": [],
     "prompt_number": 492
    },
    {
     "cell_type": "code",
     "collapsed": false,
     "input": [
      "train_cols = hotels.columns[:-1]\n",
      "#print train_cols\n",
      "#print hotels['is_excellent']\n",
      "#logit = sm.Logit(hotels['is_excellent'], hotels[train_cols])\n",
      " \n",
      "# fit the model\n",
      "#result = logit.fit() # Finding all the alphas and betas"
     ],
     "language": "python",
     "metadata": {},
     "outputs": [],
     "prompt_number": 493
    },
    {
     "cell_type": "code",
     "collapsed": false,
     "input": [
      "hotels.drop('avg_rating', axis=1).groupby('is_excellent').mean()"
     ],
     "language": "python",
     "metadata": {},
     "outputs": [
      {
       "html": [
        "<div style=\"max-height:1000px;max-width:1500px;overflow:auto;\">\n",
        "<table border=\"1\" class=\"dataframe\">\n",
        "  <thead>\n",
        "    <tr style=\"text-align: right;\">\n",
        "      <th></th>\n",
        "      <th>excellent</th>\n",
        "      <th>very_good</th>\n",
        "      <th>average</th>\n",
        "      <th>poor</th>\n",
        "      <th>terrible</th>\n",
        "      <th>families</th>\n",
        "      <th>couples</th>\n",
        "      <th>solo</th>\n",
        "      <th>business</th>\n",
        "      <th>location</th>\n",
        "      <th>sleep_quality</th>\n",
        "      <th>rooms</th>\n",
        "      <th>service</th>\n",
        "      <th>value</th>\n",
        "      <th>cleanliness</th>\n",
        "    </tr>\n",
        "    <tr>\n",
        "      <th>is_excellent</th>\n",
        "      <th></th>\n",
        "      <th></th>\n",
        "      <th></th>\n",
        "      <th></th>\n",
        "      <th></th>\n",
        "      <th></th>\n",
        "      <th></th>\n",
        "      <th></th>\n",
        "      <th></th>\n",
        "      <th></th>\n",
        "      <th></th>\n",
        "      <th></th>\n",
        "      <th></th>\n",
        "      <th></th>\n",
        "      <th></th>\n",
        "    </tr>\n",
        "  </thead>\n",
        "  <tbody>\n",
        "    <tr>\n",
        "      <th>0</th>\n",
        "      <td> 483.370787</td>\n",
        "      <td> 466.831461</td>\n",
        "      <td> 191.292135</td>\n",
        "      <td> 70.202247</td>\n",
        "      <td> 45.617978</td>\n",
        "      <td> 325.426966</td>\n",
        "      <td> 455.280899</td>\n",
        "      <td> 78.235955</td>\n",
        "      <td> 143.415730</td>\n",
        "      <td> 4.415730</td>\n",
        "      <td> 3.825843</td>\n",
        "      <td> 3.741573</td>\n",
        "      <td> 4.016854</td>\n",
        "      <td> 3.893258</td>\n",
        "      <td> 4.073034</td>\n",
        "    </tr>\n",
        "    <tr>\n",
        "      <th>1</th>\n",
        "      <td> 964.277778</td>\n",
        "      <td> 274.111111</td>\n",
        "      <td>  64.388889</td>\n",
        "      <td> 22.777778</td>\n",
        "      <td> 14.777778</td>\n",
        "      <td> 345.944444</td>\n",
        "      <td> 487.444444</td>\n",
        "      <td> 61.222222</td>\n",
        "      <td> 218.388889</td>\n",
        "      <td> 4.722222</td>\n",
        "      <td> 4.500000</td>\n",
        "      <td> 4.527778</td>\n",
        "      <td> 4.583333</td>\n",
        "      <td> 4.277778</td>\n",
        "      <td> 4.833333</td>\n",
        "    </tr>\n",
        "  </tbody>\n",
        "</table>\n",
        "</div>"
       ],
       "metadata": {},
       "output_type": "pyout",
       "prompt_number": 494,
       "text": [
        "               excellent   very_good     average       poor   terrible  \\\n",
        "is_excellent                                                             \n",
        "0             483.370787  466.831461  191.292135  70.202247  45.617978   \n",
        "1             964.277778  274.111111   64.388889  22.777778  14.777778   \n",
        "\n",
        "                families     couples       solo    business  location  \\\n",
        "is_excellent                                                            \n",
        "0             325.426966  455.280899  78.235955  143.415730  4.415730   \n",
        "1             345.944444  487.444444  61.222222  218.388889  4.722222   \n",
        "\n",
        "              sleep_quality     rooms   service     value  cleanliness  \n",
        "is_excellent                                                            \n",
        "0                  3.825843  3.741573  4.016854  3.893258     4.073034  \n",
        "1                  4.500000  4.527778  4.583333  4.277778     4.833333  "
       ]
      }
     ],
     "prompt_number": 494
    },
    {
     "cell_type": "code",
     "collapsed": false,
     "input": [
      "hotels.drop('avg_rating', axis=1).groupby('sleep_quality').mean()"
     ],
     "language": "python",
     "metadata": {},
     "outputs": [
      {
       "html": [
        "<div style=\"max-height:1000px;max-width:1500px;overflow:auto;\">\n",
        "<table border=\"1\" class=\"dataframe\">\n",
        "  <thead>\n",
        "    <tr style=\"text-align: right;\">\n",
        "      <th></th>\n",
        "      <th>excellent</th>\n",
        "      <th>very_good</th>\n",
        "      <th>average</th>\n",
        "      <th>poor</th>\n",
        "      <th>terrible</th>\n",
        "      <th>families</th>\n",
        "      <th>couples</th>\n",
        "      <th>solo</th>\n",
        "      <th>business</th>\n",
        "      <th>location</th>\n",
        "      <th>rooms</th>\n",
        "      <th>service</th>\n",
        "      <th>value</th>\n",
        "      <th>cleanliness</th>\n",
        "      <th>is_excellent</th>\n",
        "    </tr>\n",
        "    <tr>\n",
        "      <th>sleep_quality</th>\n",
        "      <th></th>\n",
        "      <th></th>\n",
        "      <th></th>\n",
        "      <th></th>\n",
        "      <th></th>\n",
        "      <th></th>\n",
        "      <th></th>\n",
        "      <th></th>\n",
        "      <th></th>\n",
        "      <th></th>\n",
        "      <th></th>\n",
        "      <th></th>\n",
        "      <th></th>\n",
        "      <th></th>\n",
        "      <th></th>\n",
        "    </tr>\n",
        "  </thead>\n",
        "  <tbody>\n",
        "    <tr>\n",
        "      <th>0.0</th>\n",
        "      <td>    1.500000</td>\n",
        "      <td>   0.500000</td>\n",
        "      <td>   1.000000</td>\n",
        "      <td>  1.000000</td>\n",
        "      <td>  0.000000</td>\n",
        "      <td>   0.000000</td>\n",
        "      <td>   1.500000</td>\n",
        "      <td>   0.000000</td>\n",
        "      <td>   1.000000</td>\n",
        "      <td> 4.500000</td>\n",
        "      <td> 3.500000</td>\n",
        "      <td> 3.500000</td>\n",
        "      <td> 3.500000</td>\n",
        "      <td> 4.000000</td>\n",
        "      <td> 0.000000</td>\n",
        "    </tr>\n",
        "    <tr>\n",
        "      <th>2.5</th>\n",
        "      <td>    7.000000</td>\n",
        "      <td>  24.500000</td>\n",
        "      <td>  61.000000</td>\n",
        "      <td> 36.500000</td>\n",
        "      <td> 57.500000</td>\n",
        "      <td>  37.000000</td>\n",
        "      <td>  63.000000</td>\n",
        "      <td>  30.000000</td>\n",
        "      <td>  17.500000</td>\n",
        "      <td> 3.500000</td>\n",
        "      <td> 2.250000</td>\n",
        "      <td> 3.000000</td>\n",
        "      <td> 2.750000</td>\n",
        "      <td> 2.750000</td>\n",
        "      <td> 0.000000</td>\n",
        "    </tr>\n",
        "    <tr>\n",
        "      <th>3.0</th>\n",
        "      <td>   40.200000</td>\n",
        "      <td>  63.600000</td>\n",
        "      <td>  57.200000</td>\n",
        "      <td> 38.200000</td>\n",
        "      <td> 44.400000</td>\n",
        "      <td>  60.600000</td>\n",
        "      <td>  59.000000</td>\n",
        "      <td>  32.800000</td>\n",
        "      <td>  22.600000</td>\n",
        "      <td> 4.100000</td>\n",
        "      <td> 2.900000</td>\n",
        "      <td> 3.400000</td>\n",
        "      <td> 3.200000</td>\n",
        "      <td> 3.300000</td>\n",
        "      <td> 0.000000</td>\n",
        "    </tr>\n",
        "    <tr>\n",
        "      <th>3.5</th>\n",
        "      <td>  185.833333</td>\n",
        "      <td> 371.722222</td>\n",
        "      <td> 231.111111</td>\n",
        "      <td> 85.166667</td>\n",
        "      <td> 61.944444</td>\n",
        "      <td> 227.333333</td>\n",
        "      <td> 311.166667</td>\n",
        "      <td>  96.500000</td>\n",
        "      <td>  78.000000</td>\n",
        "      <td> 4.111111</td>\n",
        "      <td> 3.305556</td>\n",
        "      <td> 3.694444</td>\n",
        "      <td> 3.777778</td>\n",
        "      <td> 3.611111</td>\n",
        "      <td> 0.000000</td>\n",
        "    </tr>\n",
        "    <tr>\n",
        "      <th>4.0</th>\n",
        "      <td>  533.477273</td>\n",
        "      <td> 558.454545</td>\n",
        "      <td> 219.454545</td>\n",
        "      <td> 78.795455</td>\n",
        "      <td> 48.000000</td>\n",
        "      <td> 384.772727</td>\n",
        "      <td> 512.659091</td>\n",
        "      <td>  82.159091</td>\n",
        "      <td> 165.477273</td>\n",
        "      <td> 4.500000</td>\n",
        "      <td> 3.886364</td>\n",
        "      <td> 4.136364</td>\n",
        "      <td> 4.034091</td>\n",
        "      <td> 4.250000</td>\n",
        "      <td> 0.022727</td>\n",
        "    </tr>\n",
        "    <tr>\n",
        "      <th>4.5</th>\n",
        "      <td>  884.828571</td>\n",
        "      <td> 411.685714</td>\n",
        "      <td> 110.771429</td>\n",
        "      <td> 38.657143</td>\n",
        "      <td> 21.400000</td>\n",
        "      <td> 367.857143</td>\n",
        "      <td> 567.400000</td>\n",
        "      <td>  66.914286</td>\n",
        "      <td> 207.857143</td>\n",
        "      <td> 4.700000</td>\n",
        "      <td> 4.371429</td>\n",
        "      <td> 4.471429</td>\n",
        "      <td> 4.142857</td>\n",
        "      <td> 4.642857</td>\n",
        "      <td> 0.457143</td>\n",
        "    </tr>\n",
        "    <tr>\n",
        "      <th>5.0</th>\n",
        "      <td> 2372.000000</td>\n",
        "      <td> 442.000000</td>\n",
        "      <td>  81.000000</td>\n",
        "      <td> 39.000000</td>\n",
        "      <td> 13.000000</td>\n",
        "      <td> 916.000000</td>\n",
        "      <td> 853.000000</td>\n",
        "      <td> 147.000000</td>\n",
        "      <td> 585.000000</td>\n",
        "      <td> 5.000000</td>\n",
        "      <td> 5.000000</td>\n",
        "      <td> 5.000000</td>\n",
        "      <td> 4.500000</td>\n",
        "      <td> 5.000000</td>\n",
        "      <td> 1.000000</td>\n",
        "    </tr>\n",
        "  </tbody>\n",
        "</table>\n",
        "</div>"
       ],
       "metadata": {},
       "output_type": "pyout",
       "prompt_number": 495,
       "text": [
        "                 excellent   very_good     average       poor   terrible  \\\n",
        "sleep_quality                                                              \n",
        "0.0               1.500000    0.500000    1.000000   1.000000   0.000000   \n",
        "2.5               7.000000   24.500000   61.000000  36.500000  57.500000   \n",
        "3.0              40.200000   63.600000   57.200000  38.200000  44.400000   \n",
        "3.5             185.833333  371.722222  231.111111  85.166667  61.944444   \n",
        "4.0             533.477273  558.454545  219.454545  78.795455  48.000000   \n",
        "4.5             884.828571  411.685714  110.771429  38.657143  21.400000   \n",
        "5.0            2372.000000  442.000000   81.000000  39.000000  13.000000   \n",
        "\n",
        "                 families     couples        solo    business  location  \\\n",
        "sleep_quality                                                             \n",
        "0.0              0.000000    1.500000    0.000000    1.000000  4.500000   \n",
        "2.5             37.000000   63.000000   30.000000   17.500000  3.500000   \n",
        "3.0             60.600000   59.000000   32.800000   22.600000  4.100000   \n",
        "3.5            227.333333  311.166667   96.500000   78.000000  4.111111   \n",
        "4.0            384.772727  512.659091   82.159091  165.477273  4.500000   \n",
        "4.5            367.857143  567.400000   66.914286  207.857143  4.700000   \n",
        "5.0            916.000000  853.000000  147.000000  585.000000  5.000000   \n",
        "\n",
        "                  rooms   service     value  cleanliness  is_excellent  \n",
        "sleep_quality                                                           \n",
        "0.0            3.500000  3.500000  3.500000     4.000000      0.000000  \n",
        "2.5            2.250000  3.000000  2.750000     2.750000      0.000000  \n",
        "3.0            2.900000  3.400000  3.200000     3.300000      0.000000  \n",
        "3.5            3.305556  3.694444  3.777778     3.611111      0.000000  \n",
        "4.0            3.886364  4.136364  4.034091     4.250000      0.022727  \n",
        "4.5            4.371429  4.471429  4.142857     4.642857      0.457143  \n",
        "5.0            5.000000  5.000000  4.500000     5.000000      1.000000  "
       ]
      }
     ],
     "prompt_number": 495
    },
    {
     "cell_type": "markdown",
     "metadata": {},
     "source": [
      "Excellent reviews, location, rooms, service, value, and cleanliness are all correlated to increase as sleep quality increases as well."
     ]
    },
    {
     "cell_type": "code",
     "collapsed": false,
     "input": [
      "target_2 = hotels['is_excellent'].as_matrix()\n",
      "data_2 = hotels.drop(['is_excellent', 'avg_rating'], 1).as_matrix()\n",
      "a = target_2\n",
      "B = data_2\n",
      "print a.shape\n",
      "print B.shape"
     ],
     "language": "python",
     "metadata": {},
     "outputs": [
      {
       "output_type": "stream",
       "stream": "stdout",
       "text": [
        "(107,)\n",
        "(107, 15)\n"
       ]
      }
     ],
     "prompt_number": 496
    },
    {
     "cell_type": "code",
     "collapsed": false,
     "input": [
      "# evaluate the model by splitting into train and test sets\n",
      "B_train, B_test, a_train, a_test = cross_validation.train_test_split(B,\n",
      "                                                                     a,\n",
      "                                                                     test_size=0.4,\n",
      "                                                                     random_state=0\n",
      "                                                                     )\n",
      "logistic_regr = linear_model.LogisticRegression()\n",
      "logistic_regr.fit(B_train, a_train)"
     ],
     "language": "python",
     "metadata": {},
     "outputs": [
      {
       "metadata": {},
       "output_type": "pyout",
       "prompt_number": 518,
       "text": [
        "LogisticRegression(C=1.0, class_weight=None, dual=False, fit_intercept=True,\n",
        "          intercept_scaling=1, penalty='l2', random_state=None, tol=0.0001)"
       ]
      }
     ],
     "prompt_number": 518
    },
    {
     "cell_type": "code",
     "collapsed": false,
     "input": [
      "# predict class labels for the test set\n",
      "a_predicted = logistic_regr.predict(B_test)\n",
      "print a_predicted"
     ],
     "language": "python",
     "metadata": {},
     "outputs": [
      {
       "output_type": "stream",
       "stream": "stdout",
       "text": [
        "[0 0 0 0 0 0 0 0 1 0 0 1 0 0 0 1 0 0 0 0 1 0 1 0 0 1 0 0 0 0 0 0 0 1 0 0 0\n",
        " 0 0 0 0 0 0]\n"
       ]
      }
     ],
     "prompt_number": 519
    },
    {
     "cell_type": "code",
     "collapsed": false,
     "input": [
      "# generate evaluation metrics\n",
      "print metrics.accuracy_score(a_test, a_predicted)"
     ],
     "language": "python",
     "metadata": {},
     "outputs": [
      {
       "output_type": "stream",
       "stream": "stdout",
       "text": [
        "0.976744186047\n"
       ]
      }
     ],
     "prompt_number": 520
    },
    {
     "cell_type": "code",
     "collapsed": false,
     "input": [
      "print \"Follows Predict Col, Actual Row 0,1 format\"\n",
      "print metrics.confusion_matrix(a_test, a_predicted)\n",
      "print metrics.classification_report(a_test, a_predicted)"
     ],
     "language": "python",
     "metadata": {},
     "outputs": [
      {
       "output_type": "stream",
       "stream": "stdout",
       "text": [
        "Follows Predict Col, Actual Row 0,1 format\n",
        "[[35  0]\n",
        " [ 1  7]]\n",
        "             precision    recall  f1-score   support\n",
        "\n",
        "          0       0.97      1.00      0.99        35\n",
        "          1       1.00      0.88      0.93         8\n",
        "\n",
        "avg / total       0.98      0.98      0.98        43\n",
        "\n"
       ]
      }
     ],
     "prompt_number": 521
    },
    {
     "cell_type": "code",
     "collapsed": false,
     "input": [
      "# examine the coefficients\n",
      "print pd.DataFrame(zip(hotels.drop(['is_excellent', 'avg_rating'], 1).columns, np.transpose(logistic_regr.coef_)))"
     ],
     "language": "python",
     "metadata": {},
     "outputs": [
      {
       "output_type": "stream",
       "stream": "stdout",
       "text": [
        "                0                   1\n",
        "0       excellent     [0.15275898014]\n",
        "1       very_good  [-0.0912322525251]\n",
        "2         average   [-0.126714400168]\n",
        "3            poor  [-0.0799863972012]\n",
        "4        terrible  [-0.0258125358359]\n",
        "5        families  [-0.0601351176122]\n",
        "6         couples  [-0.0691770785288]\n",
        "7            solo  [-0.0466540439754]\n",
        "8        business   [-0.069879118109]\n",
        "9        location   [-0.233803712091]\n",
        "10  sleep_quality   [-0.022122483265]\n",
        "11          rooms   [-0.178078279574]\n",
        "12        service   [-0.178314473719]\n",
        "13          value   [-0.176568847368]\n",
        "14    cleanliness   [-0.188748716736]\n"
       ]
      }
     ],
     "prompt_number": 522
    },
    {
     "cell_type": "code",
     "collapsed": false,
     "input": [
      "# evaluate the model using 10-fold cross-validation\n",
      "scores = cross_validation.cross_val_score(linear_model.LogisticRegression(),\n",
      "                                          B,\n",
      "                                          a,\n",
      "                                          scoring='accuracy',\n",
      "                                          cv=10)\n",
      "print scores\n",
      "print scores.mean()"
     ],
     "language": "python",
     "metadata": {},
     "outputs": [
      {
       "output_type": "stream",
       "stream": "stdout",
       "text": [
        "[ 0.81818182  1.          1.          1.          0.90909091  1.          1.\n",
        "  1.          1.          1.        ]\n",
        "0.972727272727\n"
       ]
      }
     ],
     "prompt_number": 523
    },
    {
     "cell_type": "code",
     "collapsed": false,
     "input": [
      "print hotels.drop(['is_excellent', 'avg_rating'], 1).columns"
     ],
     "language": "python",
     "metadata": {},
     "outputs": [
      {
       "output_type": "stream",
       "stream": "stdout",
       "text": [
        "Index([u'excellent', u'very_good', u'average', u'poor', u'terrible', u'families', u'couples', u'solo', u'business', u'location', u'sleep_quality', u'rooms', u'service', u'value', u'cleanliness'], dtype='object')\n"
       ]
      }
     ],
     "prompt_number": 524
    },
    {
     "cell_type": "code",
     "collapsed": false,
     "input": [
      "logistic_regr.predict_proba(np.array([1000, 1500, 700, 315, 402, 200, 300, 780, 105, 3.8, 1.9, 3.5, 4.5, 3.9, 3.5]))"
     ],
     "language": "python",
     "metadata": {},
     "outputs": [
      {
       "metadata": {},
       "output_type": "pyout",
       "prompt_number": 525,
       "text": [
        "array([[  1.00000000e+00,   1.20008335e-82]])"
       ]
      }
     ],
     "prompt_number": 525
    },
    {
     "cell_type": "code",
     "collapsed": false,
     "input": [
      "# Code for setting the style of the notebook\n",
      "from IPython.core.display import HTML\n",
      "def css_styling():\n",
      "    styles = open(\"../../theme/custom.css\", \"r\").read()\n",
      "    return HTML(styles)\n",
      "css_styling()"
     ],
     "language": "python",
     "metadata": {},
     "outputs": [
      {
       "html": [
        "<link href='http://fonts.googleapis.com/css?family=EB+Garamond' rel='stylesheet' type='text/css'>\n",
        "<link href='http://fonts.googleapis.com/css?family=Alegreya+Sans:100,300,400,500,700,800,900,100italic,300italic,400italic,500italic,700italic,800italic,900italic' rel='stylesheet' type='text/css'>\n",
        "<link href='http://fonts.googleapis.com/css?family=Source+Code+Pro:300,400' rel='stylesheet' type='text/css'>\n",
        "<style>\n",
        "    @font-face {\n",
        "        font-family: \"Computer Modern\";\n",
        "        src: url('http://mirrors.ctan.org/fonts/cm-unicode/fonts/otf/cmunss.otf');\n",
        "    }\n",
        "    .code_cell {\n",
        "        width: 105ex !important ;\n",
        "        margin-bottom: 15px !important;\n",
        "    }\n",
        "    div.cell {\n",
        "        margin-left: auto;\n",
        "        margin-right: auto;\n",
        "        width: 70%;\n",
        "    }    \n",
        "    div.cell.selected {\n",
        "        border: thin rgba(171, 171, 171, 0.5) dashed;\n",
        "    }\n",
        "    h1 {\n",
        "        font-family: 'Alegreya Sans', sans-serif;\n",
        "    }\n",
        "    h2 {\n",
        "        font-family: 'EB Garamond', serif;\n",
        "    }\n",
        "    h3 {\n",
        "        font-family: 'EB Garamond', serif;\n",
        "        margin-top:12px;\n",
        "        margin-bottom: 3px;\n",
        "    }\n",
        "    h4 {\n",
        "        font-family: 'EB Garamond', serif;\n",
        "    }\n",
        "    h5 {\n",
        "        font-family: 'Alegreya Sans', sans-serif;\n",
        "    }\n",
        "    div.text_cell_render {\n",
        "        font-family: 'EB Garamond',Computer Modern, \"Helvetica Neue\", Arial, Helvetica, Geneva, sans-serif;\n",
        "        line-height: 145%;\n",
        "        font-size: 140%;\n",
        "    }\n",
        "    div.input_area {\n",
        "        border-color: rgba(0,0,0,0.10) !important;\n",
        "        background: #fafafa;\n",
        "    }\n",
        "    .CodeMirror {\n",
        "            font-family: \"Source Code Pro\";\n",
        "            font-size: 90%;\n",
        "    }\n",
        "    .prompt {\n",
        "        display: None;\n",
        "    }\n",
        "    .output {\n",
        "        padding-left: 50px;\n",
        "        padding-top: 5px;\n",
        "    }\n",
        "    .output_wrapper {\n",
        "        padding-left: 5px;\n",
        "        padding-top: inherit;\n",
        "    }\n",
        "    div.output_scroll {\n",
        "        width: inherit;\n",
        "    }\n",
        "    .inner_cell {\n",
        "        padding-left: 5px;\n",
        "    }\n",
        "    .text_cell_render h1 {\n",
        "        font-weight: 200;\n",
        "        font-size: 50pt;\n",
        "        line-height: 100%;\n",
        "        color:#CD2305;\n",
        "        margin-bottom: 0.5em;\n",
        "        margin-top: 0.5em;\n",
        "        display: block;\n",
        "    }\n",
        "    .text_cell_render h5 {\n",
        "        font-weight: 300;\n",
        "        font-size: 16pt;\n",
        "        color: #CD2305;\n",
        "        font-style: italic;\n",
        "        margin-bottom: .5em;\n",
        "        margin-top: 0.5em;\n",
        "        display: block;\n",
        "    }\n",
        "    .warning {\n",
        "        color: rgb( 240, 20, 20 )\n",
        "        }  \n",
        "</style>\n",
        "<script>\n",
        "    MathJax.Hub.Config({\n",
        "                        TeX: {\n",
        "                           extensions: [\"AMSmath.js\"]\n",
        "                           },\n",
        "                tex2jax: {\n",
        "                    inlineMath: [ ['$','$'], [\"\\\\(\",\"\\\\)\"] ],\n",
        "                    displayMath: [ ['$$','$$'], [\"\\\\[\",\"\\\\]\"] ]\n",
        "                },\n",
        "                displayAlign: 'center', // Change this to 'center' to center equations.\n",
        "                \"HTML-CSS\": {\n",
        "                    styles: {'.MathJax_Display': {\"margin\": 4}}\n",
        "                }\n",
        "        });\n",
        "</script>"
       ],
       "metadata": {},
       "output_type": "pyout",
       "prompt_number": 526,
       "text": [
        "<IPython.core.display.HTML at 0x10bc0ea10>"
       ]
      }
     ],
     "prompt_number": 526
    },
    {
     "cell_type": "code",
     "collapsed": false,
     "input": [],
     "language": "python",
     "metadata": {},
     "outputs": [],
     "prompt_number": 526
    },
    {
     "cell_type": "code",
     "collapsed": false,
     "input": [],
     "language": "python",
     "metadata": {},
     "outputs": [],
     "prompt_number": 526
    }
   ],
   "metadata": {}
  }
 ]
}